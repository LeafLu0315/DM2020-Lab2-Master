{
 "cells": [
  {
   "cell_type": "markdown",
   "metadata": {},
   "source": [
    "# Data Mining Lab 2\n",
    "In this lab session we will focus on the use of Neural Word Embeddings "
   ]
  },
  {
   "cell_type": "markdown",
   "metadata": {},
   "source": [
    "## Table of Contents\n",
    "1. Data preparation\n",
    "2. Feature engineering\n",
    "3. Model\n",
    "4. Results evaluation\n",
    "5. Other things you could try\n",
    "6. Deep Learning\n",
    "7. Word to Vector\n",
    "8. Clustering\n",
    "9. High-dimension Visualization\n",
    "\n"
   ]
  },
  {
   "cell_type": "markdown",
   "metadata": {},
   "source": [
    "### Necessary Library Requirements:\n",
    "\n",
    "#### Same as Lab1:\n",
    "- [Jupyter](http://jupyter.org/) (Strongly recommended but not required)\n",
    "    - Install via `pip3 install jupyter` and use `jupyter notebook` in terminal to run\n",
    "- [Scikit Learn](http://scikit-learn.org/stable/index.html)\n",
    "    - Install via `pip3 sklearn` from a terminal\n",
    "- [Pandas](http://pandas.pydata.org/)\n",
    "    - Install via `pip3 install pandas` from a terminal\n",
    "- [Numpy](http://www.numpy.org/)\n",
    "    - Install via `pip3 install numpy` from a terminal\n",
    "- [Matplotlib](https://matplotlib.org/)\n",
    "    - Install via `pip3 maplotlib` from a terminal\n",
    "- [Plotly](https://plot.ly/)\n",
    "    - Install via `pip3 install plotly` from a terminal\n",
    "- [Seaborn](https://seaborn.pydata.org/)\n",
    "    - Install and signup for `seaborn`\n",
    "- [NLTK](http://www.nltk.org/)\n",
    "    - Install via `pip3 install nltk` from a terminal\n",
    "    \n",
    "#### New Libraries to intsall:\n",
    "- [Gensim](https://pypi.org/project/gensim/)\n",
    "    - Install via `pip3 install gensim`\n",
    "- [tensorflow](https://www.tensorflow.org/)\n",
    "    - Install via `pip3 install tensorflow=1.15`\n",
    "    - Also install `pip3 install tensorflow-hub`\n",
    "- [Keras](https://keras.io/)\n",
    "    - Install via `pip3 install keras`\n",
    "    \n",
    "                                                                                            \n",
    "                                                                                           "
   ]
  },
  {
   "cell_type": "markdown",
   "metadata": {},
   "source": [
    "---\n",
    "## Introduction"
   ]
  },
  {
   "cell_type": "markdown",
   "metadata": {},
   "source": [
    "**Dataset:** [SemEval 2017 Task](https://competitions.codalab.org/competitions/16380)\n",
    "\n",
    "**Task:** Classify text data into 4 different emotions using word embedding and other deep information retrieval approaches.\n",
    "\n",
    "![pic0](pics/pic0.png)"
   ]
  },
  {
   "cell_type": "markdown",
   "metadata": {},
   "source": [
    "---\n",
    "## 1. Data Preparation"
   ]
  },
  {
   "cell_type": "markdown",
   "metadata": {},
   "source": [
    "Before beggining the lab, please make sure to download the [Google News Dataset](https://drive.google.com/file/d/0B7XkCwpI5KDYNlNUTTlSS21pQmM/edit) and place it in a folder named \"GoogleNews\" in the same directory as this file."
   ]
  },
  {
   "cell_type": "markdown",
   "metadata": {},
   "source": [
    "## 1.1 Load data\n",
    "\n",
    "We start by loading the csv files into a single pandas dataframe for training and one for testing."
   ]
  },
  {
   "cell_type": "code",
   "execution_count": 2,
   "metadata": {},
   "outputs": [],
   "source": [
    "import pandas as pd\n",
    "\n",
    "### training data\n",
    "anger_train = pd.read_csv(\"data/semeval/train/anger-ratings-0to1.train.txt\",\n",
    "                         sep=\"\\t\", header=None,names=[\"id\", \"text\", \"emotion\", \"intensity\"])\n",
    "sadness_train = pd.read_csv(\"data/semeval/train/sadness-ratings-0to1.train.txt\",\n",
    "                         sep=\"\\t\", header=None, names=[\"id\", \"text\", \"emotion\", \"intensity\"])\n",
    "fear_train = pd.read_csv(\"data/semeval/train/fear-ratings-0to1.train.txt\",\n",
    "                         sep=\"\\t\", header=None, names=[\"id\", \"text\", \"emotion\", \"intensity\"])\n",
    "joy_train = pd.read_csv(\"data/semeval/train/joy-ratings-0to1.train.txt\",\n",
    "                         sep=\"\\t\", header=None, names=[\"id\", \"text\", \"emotion\", \"intensity\"])"
   ]
  },
  {
   "cell_type": "code",
   "execution_count": 3,
   "metadata": {},
   "outputs": [],
   "source": [
    "# combine 4 sub-dataset\n",
    "train_df = pd.concat([anger_train, fear_train, joy_train, sadness_train], ignore_index=True)"
   ]
  },
  {
   "cell_type": "code",
   "execution_count": 4,
   "metadata": {},
   "outputs": [
    {
     "data": {
      "text/html": [
       "<div>\n",
       "<style scoped>\n",
       "    .dataframe tbody tr th:only-of-type {\n",
       "        vertical-align: middle;\n",
       "    }\n",
       "\n",
       "    .dataframe tbody tr th {\n",
       "        vertical-align: top;\n",
       "    }\n",
       "\n",
       "    .dataframe thead th {\n",
       "        text-align: right;\n",
       "    }\n",
       "</style>\n",
       "<table border=\"1\" class=\"dataframe\">\n",
       "  <thead>\n",
       "    <tr style=\"text-align: right;\">\n",
       "      <th></th>\n",
       "      <th>id</th>\n",
       "      <th>text</th>\n",
       "      <th>emotion</th>\n",
       "      <th>intensity</th>\n",
       "    </tr>\n",
       "  </thead>\n",
       "  <tbody>\n",
       "    <tr>\n",
       "      <th>0</th>\n",
       "      <td>10000</td>\n",
       "      <td>How the fu*k! Who the heck! moved my fridge!.....</td>\n",
       "      <td>anger</td>\n",
       "      <td>0.938</td>\n",
       "    </tr>\n",
       "    <tr>\n",
       "      <th>1</th>\n",
       "      <td>10001</td>\n",
       "      <td>So my Indian Uber driver just called someone t...</td>\n",
       "      <td>anger</td>\n",
       "      <td>0.896</td>\n",
       "    </tr>\n",
       "    <tr>\n",
       "      <th>2</th>\n",
       "      <td>10002</td>\n",
       "      <td>@DPD_UK I asked for my parcel to be delivered ...</td>\n",
       "      <td>anger</td>\n",
       "      <td>0.896</td>\n",
       "    </tr>\n",
       "    <tr>\n",
       "      <th>3</th>\n",
       "      <td>10003</td>\n",
       "      <td>so ef whichever butt wipe pulled the fire alar...</td>\n",
       "      <td>anger</td>\n",
       "      <td>0.896</td>\n",
       "    </tr>\n",
       "    <tr>\n",
       "      <th>4</th>\n",
       "      <td>10004</td>\n",
       "      <td>Don't join @BTCare they put the phone down on ...</td>\n",
       "      <td>anger</td>\n",
       "      <td>0.896</td>\n",
       "    </tr>\n",
       "  </tbody>\n",
       "</table>\n",
       "</div>"
      ],
      "text/plain": [
       "      id                                               text emotion  intensity\n",
       "0  10000  How the fu*k! Who the heck! moved my fridge!.....   anger      0.938\n",
       "1  10001  So my Indian Uber driver just called someone t...   anger      0.896\n",
       "2  10002  @DPD_UK I asked for my parcel to be delivered ...   anger      0.896\n",
       "3  10003  so ef whichever butt wipe pulled the fire alar...   anger      0.896\n",
       "4  10004  Don't join @BTCare they put the phone down on ...   anger      0.896"
      ]
     },
     "execution_count": 4,
     "metadata": {},
     "output_type": "execute_result"
    }
   ],
   "source": [
    "### testing data\n",
    "anger_test = pd.read_csv(\"data/semeval/dev/anger-ratings-0to1.dev.gold.txt\",\n",
    "                         sep=\"\\t\", header=None, names=[\"id\", \"text\", \"emotion\", \"intensity\"])\n",
    "sadness_test = pd.read_csv(\"data/semeval/dev/sadness-ratings-0to1.dev.gold.txt\",\n",
    "                         sep=\"\\t\", header=None, names=[\"id\", \"text\", \"emotion\", \"intensity\"])\n",
    "fear_test = pd.read_csv(\"data/semeval/dev/fear-ratings-0to1.dev.gold.txt\",\n",
    "                         sep=\"\\t\", header=None, names=[\"id\", \"text\", \"emotion\", \"intensity\"])\n",
    "joy_test = pd.read_csv(\"data/semeval/dev/joy-ratings-0to1.dev.gold.txt\",\n",
    "                         sep=\"\\t\", header=None, names=[\"id\", \"text\", \"emotion\", \"intensity\"])\n",
    "\n",
    "# combine 4 sub-dataset\n",
    "test_df = pd.concat([anger_test, fear_test, joy_test, sadness_test], ignore_index=True)\n",
    "train_df.head()"
   ]
  },
  {
   "cell_type": "code",
   "execution_count": 5,
   "metadata": {},
   "outputs": [
    {
     "data": {
      "text/html": [
       "<div>\n",
       "<style scoped>\n",
       "    .dataframe tbody tr th:only-of-type {\n",
       "        vertical-align: middle;\n",
       "    }\n",
       "\n",
       "    .dataframe tbody tr th {\n",
       "        vertical-align: top;\n",
       "    }\n",
       "\n",
       "    .dataframe thead th {\n",
       "        text-align: right;\n",
       "    }\n",
       "</style>\n",
       "<table border=\"1\" class=\"dataframe\">\n",
       "  <thead>\n",
       "    <tr style=\"text-align: right;\">\n",
       "      <th></th>\n",
       "      <th>id</th>\n",
       "      <th>text</th>\n",
       "      <th>emotion</th>\n",
       "      <th>intensity</th>\n",
       "    </tr>\n",
       "  </thead>\n",
       "  <tbody>\n",
       "    <tr>\n",
       "      <th>0</th>\n",
       "      <td>10857</td>\n",
       "      <td>@ZubairSabirPTI  pls dont insult the word 'Molna'</td>\n",
       "      <td>anger</td>\n",
       "      <td>0.479</td>\n",
       "    </tr>\n",
       "    <tr>\n",
       "      <th>1</th>\n",
       "      <td>10858</td>\n",
       "      <td>@ArcticFantasy I would have almost took offens...</td>\n",
       "      <td>anger</td>\n",
       "      <td>0.458</td>\n",
       "    </tr>\n",
       "    <tr>\n",
       "      <th>2</th>\n",
       "      <td>10859</td>\n",
       "      <td>@IllinoisLoyalty that Rutgers game was an abom...</td>\n",
       "      <td>anger</td>\n",
       "      <td>0.562</td>\n",
       "    </tr>\n",
       "    <tr>\n",
       "      <th>3</th>\n",
       "      <td>10860</td>\n",
       "      <td>@CozanGaming that's what lisa asked before she...</td>\n",
       "      <td>anger</td>\n",
       "      <td>0.500</td>\n",
       "    </tr>\n",
       "    <tr>\n",
       "      <th>4</th>\n",
       "      <td>10861</td>\n",
       "      <td>Sometimes I get mad over something so minuscul...</td>\n",
       "      <td>anger</td>\n",
       "      <td>0.708</td>\n",
       "    </tr>\n",
       "  </tbody>\n",
       "</table>\n",
       "</div>"
      ],
      "text/plain": [
       "      id                                               text emotion  intensity\n",
       "0  10857  @ZubairSabirPTI  pls dont insult the word 'Molna'   anger      0.479\n",
       "1  10858  @ArcticFantasy I would have almost took offens...   anger      0.458\n",
       "2  10859  @IllinoisLoyalty that Rutgers game was an abom...   anger      0.562\n",
       "3  10860  @CozanGaming that's what lisa asked before she...   anger      0.500\n",
       "4  10861  Sometimes I get mad over something so minuscul...   anger      0.708"
      ]
     },
     "execution_count": 5,
     "metadata": {},
     "output_type": "execute_result"
    }
   ],
   "source": [
    "test_df.head()"
   ]
  },
  {
   "cell_type": "code",
   "execution_count": 6,
   "metadata": {},
   "outputs": [],
   "source": [
    "# shuffle dataset\n",
    "train_df = train_df.sample(frac=1)\n",
    "test_df = test_df.sample(frac=1)"
   ]
  },
  {
   "cell_type": "code",
   "execution_count": 7,
   "metadata": {
    "scrolled": true
   },
   "outputs": [
    {
     "name": "stdout",
     "output_type": "stream",
     "text": [
      "Shape of Training df:  (3613, 4)\n",
      "Shape of Testing df:  (347, 4)\n"
     ]
    }
   ],
   "source": [
    "print(\"Shape of Training df: \", train_df.shape)\n",
    "print(\"Shape of Testing df: \", test_df.shape)"
   ]
  },
  {
   "cell_type": "markdown",
   "metadata": {},
   "source": [
    "---\n",
    "### ** >>> Exercise 1 (Take home): **  \n",
    "Plot word frequency for Top 30 words in both train and test dataset. (Hint: refer to DM lab 1)\n"
   ]
  },
  {
   "cell_type": "code",
   "execution_count": 13,
   "metadata": {},
   "outputs": [
    {
     "data": {
      "text/plain": [
       "{'#Everything': 1,\n",
       " \"you've\": 10,\n",
       " 'ever': 51,\n",
       " 'wanted': 12,\n",
       " 'awaits': 1,\n",
       " 'you': 567,\n",
       " 'on': 362,\n",
       " 'the': 1585,\n",
       " 'other': 31,\n",
       " 'side': 19,\n",
       " 'of': 778,\n",
       " '#fear': 23,\n",
       " '.': 38,\n",
       " '#IfIWasTheOppositeSex': 1,\n",
       " '#AskAMan': 2,\n",
       " 'So': 36,\n",
       " 'much': 56,\n",
       " 'news': 15,\n",
       " 'about': 184,\n",
       " 'Pakistan,': 1,\n",
       " 'Afghanistan,': 1,\n",
       " 'etc.': 1,\n",
       " 'We': 50,\n",
       " 'need': 65,\n",
       " 'more': 89,\n",
       " 'cheery': 15,\n",
       " 'Frybread': 1,\n",
       " 'Stands!!!': 1,\n",
       " 'Everyone': 2,\n",
       " 'in': 588,\n",
       " 'media': 8,\n",
       " 'just': 238,\n",
       " 'so': 279,\n",
       " 'grim.': 1,\n",
       " \"NL's\": 2,\n",
       " 'top': 12,\n",
       " 'bureaucrat': 1,\n",
       " 'is': 757,\n",
       " 'a': 1145,\n",
       " 'director': 2,\n",
       " 'group': 4,\n",
       " 'formed': 1,\n",
       " 'to': 1273,\n",
       " 'oppose': 1,\n",
       " 'megaproject.': 1,\n",
       " '#nlpoli': 1,\n",
       " '-': 121,\n",
       " 'never': 59,\n",
       " 'dull': 11,\n",
       " \"Candice's\": 4,\n",
       " 'pout': 29,\n",
       " 'gets': 20,\n",
       " 'preposterous': 2,\n",
       " 'by': 171,\n",
       " 'week.': 4,\n",
       " 'This': 56,\n",
       " 'week': 28,\n",
       " \"it's\": 133,\n",
       " 'gone': 13,\n",
       " 'bit': 22,\n",
       " 'Jack': 2,\n",
       " \"Nicholson's\": 2,\n",
       " 'Joker.': 2,\n",
       " '#GBBO': 30,\n",
       " 'Summer': 2,\n",
       " 'officially': 2,\n",
       " 'ends': 3,\n",
       " 'today.': 14,\n",
       " '#sadness': 23,\n",
       " '@itsyourgirl_Z': 2,\n",
       " 'happy': 39,\n",
       " 'birthday': 5,\n",
       " ':)': 30,\n",
       " 'have': 290,\n",
       " 'blessed': 3,\n",
       " 'day': 86,\n",
       " 'love': 69,\n",
       " 'from': 172,\n",
       " 'Toronto': 2,\n",
       " '#bday': 4,\n",
       " '#smile': 20,\n",
       " 'And': 36,\n",
       " 'it': 359,\n",
       " 'pisses': 2,\n",
       " 'me': 304,\n",
       " 'off': 65,\n",
       " 'they': 122,\n",
       " 'killed': 7,\n",
       " 'people': 82,\n",
       " 'who': 93,\n",
       " 'surrendered.': 1,\n",
       " 'Hands': 1,\n",
       " 'up': 133,\n",
       " 'and': 912,\n",
       " 'all.': 10,\n",
       " 'If': 55,\n",
       " 'hands': 9,\n",
       " 'visible': 1,\n",
       " \"shouldn't\": 9,\n",
       " 'be': 340,\n",
       " 'fearing': 7,\n",
       " 'for': 431,\n",
       " 'your': 209,\n",
       " 'life': 37,\n",
       " 'The': 135,\n",
       " 'Sorrow': 1,\n",
       " 'grim': 16,\n",
       " 'reminder': 3,\n",
       " 'how': 92,\n",
       " 'bad': 33,\n",
       " 'I': 1042,\n",
       " 'can': 138,\n",
       " 'at': 249,\n",
       " 'video': 11,\n",
       " 'games': 4,\n",
       " 'could': 46,\n",
       " 'get': 162,\n",
       " 'too': 61,\n",
       " 'trigger': 1,\n",
       " 'times.': 2,\n",
       " 'RIP': 2,\n",
       " '#MGS3': 1,\n",
       " 'one': 109,\n",
       " 'month': 17,\n",
       " 'til': 3,\n",
       " \"someone's\": 6,\n",
       " 'bday': 3,\n",
       " 'i': 176,\n",
       " 'think': 92,\n",
       " 'time': 82,\n",
       " 'flaunt': 2,\n",
       " 'that': 419,\n",
       " 'got': 75,\n",
       " 'them': 56,\n",
       " 'something': 39,\n",
       " 'pretty': 13,\n",
       " 'awesome': 6,\n",
       " '#revenge': 13,\n",
       " '@pandaflo22': 1,\n",
       " 'are': 213,\n",
       " 'sadden': 2,\n",
       " 'this': 275,\n",
       " 'because': 68,\n",
       " 'we': 118,\n",
       " 'always': 64,\n",
       " 'strive': 1,\n",
       " 'bring': 9,\n",
       " 'best': 38,\n",
       " 'service': 20,\n",
       " 'our': 105,\n",
       " 'customer.': 2,\n",
       " 'will': 152,\n",
       " 'here': 36,\n",
       " 'you.': 18,\n",
       " 'CM': 1,\n",
       " '@wesrucker247': 1,\n",
       " 'sounds': 1,\n",
       " 'like': 216,\n",
       " 'good': 76,\n",
       " 'game': 20,\n",
       " 'plan': 5,\n",
       " 'offense....': 1,\n",
       " '@MHChat': 5,\n",
       " 'sadness': 11,\n",
       " 'with': 272,\n",
       " 'resentment': 4,\n",
       " 'past,': 1,\n",
       " 'fear': 22,\n",
       " 'future.': 1,\n",
       " 'try': 20,\n",
       " 'live': 20,\n",
       " 'now': 85,\n",
       " '#MHchat': 1,\n",
       " \"Caballero's\": 1,\n",
       " 'passing': 2,\n",
       " 'remains': 1,\n",
       " 'absolutely': 8,\n",
       " 'dreadful': 23,\n",
       " 'see!': 1,\n",
       " 'why': 52,\n",
       " 'angry': 22,\n",
       " 'toward': 4,\n",
       " 'veggie': 1,\n",
       " 'burgers': 2,\n",
       " 'n': 27,\n",
       " 'out': 158,\n",
       " 'wtf': 3,\n",
       " \"I'm\": 238,\n",
       " 'really': 69,\n",
       " 'hitting': 3,\n",
       " 'all': 198,\n",
       " 'flavors': 1,\n",
       " 'my': 453,\n",
       " 'sparkling': 14,\n",
       " 'water': 10,\n",
       " 'rap.': 1,\n",
       " 'But': 34,\n",
       " 'know': 95,\n",
       " \"what's\": 10,\n",
       " 'tripping': 1,\n",
       " 'out?': 2,\n",
       " 'These': 8,\n",
       " 'half': 20,\n",
       " 'French': 1,\n",
       " 'Spanish': 1,\n",
       " 'flavors.': 1,\n",
       " 'Getting': 7,\n",
       " 'comedic': 2,\n",
       " 'relief': 2,\n",
       " 'w/': 6,\n",
       " '@SofiaVergara': 2,\n",
       " 'during': 13,\n",
       " 'season': 17,\n",
       " 'premiere': 2,\n",
       " '#ModernFamily.': 2,\n",
       " 'Just': 54,\n",
       " 'what': 115,\n",
       " 'girl': 12,\n",
       " 'needs!': 2,\n",
       " 'Feelings': 1,\n",
       " 'cheated': 2,\n",
       " 'when': 157,\n",
       " 'mistook': 1,\n",
       " 'ribena': 1,\n",
       " 'normal': 5,\n",
       " 'ribena......': 1,\n",
       " 'Obama': 4,\n",
       " 'admin': 2,\n",
       " 'rejects': 2,\n",
       " 'Texas': 5,\n",
       " 'refugees': 2,\n",
       " 'vetted': 2,\n",
       " 'terrorism': 17,\n",
       " 'pulls': 3,\n",
       " 'fed': 2,\n",
       " 'refugee': 6,\n",
       " 'resettlement': 2,\n",
       " 'program.': 2,\n",
       " 'Aiding': 2,\n",
       " 'she': 71,\n",
       " 'make': 82,\n",
       " 'wanna': 32,\n",
       " 'start': 43,\n",
       " 'new': 53,\n",
       " 'shit': 27,\n",
       " 'today': 49,\n",
       " '😂😭': 2,\n",
       " '@ryyyshh': 1,\n",
       " 'story': 12,\n",
       " 'life.': 9,\n",
       " '#lost': 34,\n",
       " \"Life's\": 1,\n",
       " 'short': 9,\n",
       " 'frowning': 6,\n",
       " 'long': 27,\n",
       " '@jjskeffington': 1,\n",
       " '@foodbelfast': 1,\n",
       " 'dread': 10,\n",
       " 'think!': 1,\n",
       " '#ThisIsUs': 4,\n",
       " 'has': 97,\n",
       " 'messed': 3,\n",
       " 'mind': 15,\n",
       " '&amp;': 162,\n",
       " 'anticipating': 2,\n",
       " 'next': 39,\n",
       " 'episode': 11,\n",
       " '#apprehension': 2,\n",
       " '!': 26,\n",
       " '#isthereahelplineforthis': 2,\n",
       " '@hannah_2401': 1,\n",
       " 'hannah': 1,\n",
       " 'stop': 33,\n",
       " 'being': 66,\n",
       " 'mournful': 1,\n",
       " 'chill': 3,\n",
       " '💁': 1,\n",
       " '@SonOfTheDovah': 1,\n",
       " '*She': 1,\n",
       " 'sense': 13,\n",
       " 'anger': 25,\n",
       " 'stirring': 1,\n",
       " 'within': 12,\n",
       " 'him': 59,\n",
       " 'took': 13,\n",
       " 'his': 105,\n",
       " 'hand': 5,\n",
       " 'hers.*': 1,\n",
       " 'As': 14,\n",
       " 'as': 143,\n",
       " 'stay': 7,\n",
       " 'together,': 1,\n",
       " \"we'll\": 3,\n",
       " 'both': 13,\n",
       " 'safe.--': 1,\n",
       " '#Trump': 8,\n",
       " '’s': 2,\n",
       " '‘Make': 1,\n",
       " 'America': 7,\n",
       " 'Great': 5,\n",
       " 'Again’': 1,\n",
       " 'exactly': 5,\n",
       " 'first': 44,\n",
       " '15': 12,\n",
       " 'minutes': 9,\n",
       " '#movie': 2,\n",
       " '#ChildrenOfMen.\\\\n\\\\n#cages': 2,\n",
       " '#terrorism': 22,\n",
       " '#refugees': 2,\n",
       " '@Olajide_Shutti': 1,\n",
       " 'lmaoo.': 1,\n",
       " 'It': 37,\n",
       " 'joyful': 18,\n",
       " 'day.': 11,\n",
       " '@SheilaCustis': 1,\n",
       " \"don't\": 142,\n",
       " 'expect': 11,\n",
       " 'women': 6,\n",
       " 'violent': 1,\n",
       " 'discourage': 10,\n",
       " 'it.': 42,\n",
       " \"It's\": 80,\n",
       " \"we're\": 14,\n",
       " 'raising': 1,\n",
       " 'boys.': 1,\n",
       " \"#Charlotte's\": 1,\n",
       " '#young': 1,\n",
       " '#restless;': 1,\n",
       " 'applaud': 1,\n",
       " 'ur': 23,\n",
       " 'fire': 11,\n",
       " 'bt': 2,\n",
       " 'b': 9,\n",
       " 'respectful': 1,\n",
       " 'authority,': 1,\n",
       " 'police,': 1,\n",
       " 'elders,': 1,\n",
       " 'parents.': 1,\n",
       " 'Violence,': 1,\n",
       " 'not': 263,\n",
       " 'way': 54,\n",
       " '🙏🏽✌🏽️': 1,\n",
       " '@CSTrey4': 1,\n",
       " 'thanks': 12,\n",
       " 'brotein': 1,\n",
       " 'shake': 17,\n",
       " '😈😈😈': 1,\n",
       " '@MS_Hiddle_Batch': 1,\n",
       " 'no': 113,\n",
       " 'flavour': 1,\n",
       " 'Danish': 2,\n",
       " 'far': 13,\n",
       " 'better': 31,\n",
       " 'but': 242,\n",
       " 'pastry': 2,\n",
       " 'daunting': 3,\n",
       " 'make!': 1,\n",
       " '@PatVPeters': 1,\n",
       " '@FreeBeacon': 1,\n",
       " 'Quite': 2,\n",
       " 'response': 3,\n",
       " 'retaliation': 1,\n",
       " 'Weiner': 2,\n",
       " 'getting': 28,\n",
       " 'revenge': 15,\n",
       " 'Huma': 1,\n",
       " 'Hillary': 2,\n",
       " \"'clam\": 1,\n",
       " \"digging'.\\\\n#AllScumbags\": 1,\n",
       " 'How': 32,\n",
       " 'tell': 37,\n",
       " 'Happy': 12,\n",
       " 'Anniversary,': 2,\n",
       " 'u': 87,\n",
       " 'happy..': 2,\n",
       " '#ampalaya': 2,\n",
       " '#paitpaitanangpeg': 2,\n",
       " 'Wish': 7,\n",
       " 'was': 219,\n",
       " 'kid': 9,\n",
       " 'again.': 13,\n",
       " 'only': 73,\n",
       " 'stressful': 3,\n",
       " 'part': 15,\n",
       " 'whether': 6,\n",
       " 'Gabriella': 2,\n",
       " 'Troy': 2,\n",
       " 'would': 87,\n",
       " 'back': 65,\n",
       " 'together': 9,\n",
       " 'or': 124,\n",
       " 'not.': 4,\n",
       " '#hsm2': 2,\n",
       " 'Research': 3,\n",
       " 'determined': 5,\n",
       " '70%': 3,\n",
       " '#laughter': 14,\n",
       " 'actually': 22,\n",
       " '#anxiety.': 2,\n",
       " 'Watch': 54,\n",
       " 'amazing': 66,\n",
       " 'live.ly': 54,\n",
       " 'broadcast': 54,\n",
       " '@jaredhorgan': 2,\n",
       " '#musically': 53,\n",
       " 'Happiness': 3,\n",
       " \"Where's\": 1,\n",
       " 'outrage': 12,\n",
       " 'black': 27,\n",
       " 'man': 40,\n",
       " 'kills': 1,\n",
       " 'another': 24,\n",
       " 'streets?': 1,\n",
       " 'Vacation': 1,\n",
       " 'wise,': 1,\n",
       " 'Egypt': 1,\n",
       " 'offers': 1,\n",
       " 'great': 32,\n",
       " 'places,': 1,\n",
       " 'scenery,': 1,\n",
       " 'bright': 12,\n",
       " 'skies': 1,\n",
       " 'weather': 5,\n",
       " 'very': 33,\n",
       " 'affordable': 1,\n",
       " 'price': 1,\n",
       " 'students.': 1,\n",
       " 'A': 53,\n",
       " '@FirstBSA': 2,\n",
       " 'turning': 3,\n",
       " 'up?': 5,\n",
       " 'Why': 27,\n",
       " 'am': 64,\n",
       " 'surprised.': 2,\n",
       " 'Late': 4,\n",
       " 'work': 50,\n",
       " 'again!': 3,\n",
       " '#fuming': 18,\n",
       " 'if': 154,\n",
       " \"ain't\": 12,\n",
       " 'watching': 25,\n",
       " 'Sugarboy': 1,\n",
       " 'Hulu,': 1,\n",
       " 'then': 53,\n",
       " 'shit.': 1,\n",
       " '#hilarious': 23,\n",
       " 'hahaha': 5,\n",
       " 'popped': 2,\n",
       " 'bottle': 3,\n",
       " '2014': 3,\n",
       " '@Bellawines': 1,\n",
       " '#sparkling': 3,\n",
       " '#gamaynoir': 1,\n",
       " 'Westbank.': 1,\n",
       " \"Evenin',\": 1,\n",
       " 'folks!': 1,\n",
       " '\\\\n#bcwinechat': 1,\n",
       " '@BillSwindell': 1,\n",
       " '@DePauwU': 1,\n",
       " '@dick_nixon': 1,\n",
       " 'having': 27,\n",
       " 'breakfast': 4,\n",
       " 'seen': 17,\n",
       " 'this?!': 1,\n",
       " 'blew': 1,\n",
       " 'cereal': 2,\n",
       " '#sink!!': 1,\n",
       " 'Police': 4,\n",
       " 'Officers....should': 1,\n",
       " 'NOT': 5,\n",
       " 'right': 47,\n",
       " \"'shoot'\": 1,\n",
       " 'human': 12,\n",
       " 'beings': 1,\n",
       " 'without': 18,\n",
       " 'provocation.': 1,\n",
       " 'wrong.\\\\n\\\\n@ORConservative': 1,\n",
       " '@MichaelaAngelaD': 1,\n",
       " 'care': 17,\n",
       " 'state': 7,\n",
       " '@flyfrontier': 2,\n",
       " '@FrontierCare': 2,\n",
       " 'seriously': 8,\n",
       " 'address': 5,\n",
       " 'sensitivity': 2,\n",
       " 'training': 6,\n",
       " 'employees': 2,\n",
       " 'afraid': 23,\n",
       " 'same': 24,\n",
       " 'things': 27,\n",
       " \"I've\": 50,\n",
       " 'been': 79,\n",
       " 'such': 29,\n",
       " 'mood': 8,\n",
       " 'week,': 1,\n",
       " 'horrific,': 1,\n",
       " 'decided': 4,\n",
       " 'scrapbook': 1,\n",
       " 'summer': 4,\n",
       " 'vacation': 5,\n",
       " 'Solid': 1,\n",
       " 'starts': 8,\n",
       " '#Bozzelli': 1,\n",
       " '#BenEvans.': 1,\n",
       " 'Hoping': 2,\n",
       " '#start': 16,\n",
       " '@JustinRow10': 1,\n",
       " 'dude': 4,\n",
       " 'madden': 15,\n",
       " '17?': 1,\n",
       " 'Haha': 1,\n",
       " 'My': 64,\n",
       " 'interview': 11,\n",
       " 'went': 10,\n",
       " 'well': 18,\n",
       " 'today,': 6,\n",
       " \"can't\": 81,\n",
       " 'wait': 22,\n",
       " 'find': 34,\n",
       " 'happens.': 3,\n",
       " '#nervous': 22,\n",
       " '#excited': 11,\n",
       " '#interview': 2,\n",
       " '#jobinterview': 2,\n",
       " 'One': 11,\n",
       " 'ticket': 5,\n",
       " 'blues.': 1,\n",
       " '@NFYFC': 2,\n",
       " '@Wilkster_': 2,\n",
       " 'hmm,': 2,\n",
       " 'many': 20,\n",
       " 'yf': 2,\n",
       " 'confidence!': 2,\n",
       " \"I'd\": 20,\n",
       " 'one,': 2,\n",
       " '#shy': 6,\n",
       " '@DailyMailCeleb': 2,\n",
       " '@KTHopkins': 2,\n",
       " 'Katie': 2,\n",
       " 'describe': 6,\n",
       " 'yourself': 15,\n",
       " \"'normal'.\": 2,\n",
       " 'Really': 3,\n",
       " \"you're\": 44,\n",
       " 'anything': 31,\n",
       " 'but!': 2,\n",
       " '#neverchange': 2,\n",
       " '@carysmithwriter': 2,\n",
       " '@Maria_Savva': 2,\n",
       " '@RealRockAndRoll': 2,\n",
       " \"We're\": 14,\n",
       " 'least': 14,\n",
       " 'known': 5,\n",
       " 'band': 2,\n",
       " 'World,': 2,\n",
       " 'glad': 7,\n",
       " 'asked': 15,\n",
       " '#muchlove': 2,\n",
       " '@BIGGKATZ': 1,\n",
       " 'BUT': 1,\n",
       " 'arms': 7,\n",
       " '(focused': 1,\n",
       " 'rage)': 1,\n",
       " 'overpowered,': 1,\n",
       " 'nerfed.': 1,\n",
       " \"It'll\": 5,\n",
       " 'still': 83,\n",
       " 'stronger': 2,\n",
       " 'than': 61,\n",
       " 'fury': 16,\n",
       " 'though': 11,\n",
       " 'Got': 6,\n",
       " '4': 18,\n",
       " 'hours': 12,\n",
       " 'go': 77,\n",
       " '#cantsleep': 6,\n",
       " '@iamnotatwit': 1,\n",
       " 'Or': 7,\n",
       " 'did': 54,\n",
       " 'lie': 3,\n",
       " 'cut': 9,\n",
       " '5': 9,\n",
       " 'years': 24,\n",
       " 'age': 6,\n",
       " 'young': 8,\n",
       " 'spry': 3,\n",
       " 'hire-able': 1,\n",
       " 'Hollywood?': 1,\n",
       " '#thegoldbergs': 1,\n",
       " '@luxbet': 2,\n",
       " 'Did': 8,\n",
       " 'even': 63,\n",
       " 'give': 47,\n",
       " 'any': 50,\n",
       " 'pizzas': 2,\n",
       " '?': 14,\n",
       " 'Serious': 2,\n",
       " 'fail': 5,\n",
       " '#hungry': 2,\n",
       " '#hangry': 6,\n",
       " 'Focus': 1,\n",
       " 'yourself.': 3,\n",
       " \"Don't\": 45,\n",
       " 'let': 45,\n",
       " \"other's\": 1,\n",
       " 'define': 1,\n",
       " 'bitter': 15,\n",
       " 'hurt.': 2,\n",
       " 'view': 6,\n",
       " 'dynamic': 2,\n",
       " 'expression': 4,\n",
       " 'Cosmos': 2,\n",
       " 'exist': 3,\n",
       " '#humanism': 2,\n",
       " 'In': 20,\n",
       " 'addition': 2,\n",
       " 'fiction,': 2,\n",
       " 'wish': 20,\n",
       " 'luck': 5,\n",
       " 'research': 4,\n",
       " 'paper': 5,\n",
       " 'semester.': 2,\n",
       " '15-20': 2,\n",
       " 'pages,': 2,\n",
       " 'oh': 12,\n",
       " 'boy.': 2,\n",
       " '#daunting': 2,\n",
       " 'wonder': 13,\n",
       " 'American': 6,\n",
       " 'city': 10,\n",
       " 'protest': 5,\n",
       " 'police': 10,\n",
       " 'shootings.': 2,\n",
       " \"Who's\": 3,\n",
       " 'next?': 2,\n",
       " 'Smh.': 2,\n",
       " '#whenwillitstop': 2,\n",
       " '#angry': 27,\n",
       " '#howmanymoretimes': 2,\n",
       " 'Food': 2,\n",
       " 'delivered': 6,\n",
       " '😍🙌🏻': 2,\n",
       " '@lindseylouwho_': 2,\n",
       " 'nice': 11,\n",
       " 'Texans': 4,\n",
       " 'hold': 12,\n",
       " 'onto': 3,\n",
       " 'ball': 6,\n",
       " 'fuller': 2,\n",
       " 'Hopkins': 2,\n",
       " 'chance!!!': 2,\n",
       " '#TNF': 4,\n",
       " 'Peter': 4,\n",
       " 'aesthetically': 2,\n",
       " 'pleasing': 16,\n",
       " 'look': 36,\n",
       " 'Not': 24,\n",
       " 'fault': 3,\n",
       " 'observant': 1,\n",
       " 'thought': 28,\n",
       " '😜': 3,\n",
       " 'sorry': 15,\n",
       " '😝': 2,\n",
       " '#wisdom': 4,\n",
       " '#observingyou': 1,\n",
       " '#allthetime': 1,\n",
       " '#becareful': 1,\n",
       " '😎': 1,\n",
       " '@Fly_Norwegian': 3,\n",
       " 'quite': 16,\n",
       " 'simply': 6,\n",
       " '#worst': 3,\n",
       " '#airline': 3,\n",
       " '#worstairline': 3,\n",
       " 'used!': 3,\n",
       " '#shocking': 21,\n",
       " '#appauling': 3,\n",
       " '#dire': 3,\n",
       " '#dismal': 3,\n",
       " '#beyondajoke': 3,\n",
       " '#useless': 4,\n",
       " 'commercial': 4,\n",
       " 'where': 34,\n",
       " '@kohara19,': 2,\n",
       " 'chocolate': 2,\n",
       " 'milk': 4,\n",
       " 'bender,': 2,\n",
       " 'steals': 2,\n",
       " 'soccer': 2,\n",
       " 'some': 74,\n",
       " 'guys': 25,\n",
       " 'refuses': 2,\n",
       " 'back.': 4,\n",
       " 'Today': 8,\n",
       " 'dragged': 2,\n",
       " '#restless': 9,\n",
       " 'Very': 3,\n",
       " 'Thank': 16,\n",
       " 'goodness': 2,\n",
       " 'Bake': 1,\n",
       " 'Off': 1,\n",
       " 'brighten': 1,\n",
       " 'weary': 12,\n",
       " 'Wednesday': 7,\n",
       " '☺': 1,\n",
       " '@OC_Transpo': 2,\n",
       " 'weeks': 12,\n",
       " 'there': 62,\n",
       " 'problems': 4,\n",
       " 'unbelievable': 2,\n",
       " '--': 19,\n",
       " 'running': 10,\n",
       " 'regular': 3,\n",
       " '12': 7,\n",
       " 'buses?': 2,\n",
       " '#solate': 2,\n",
       " '@alivitali': 1,\n",
       " \"that's\": 33,\n",
       " 'of!': 1,\n",
       " 'Nawaz': 4,\n",
       " \"Sharif's\": 3,\n",
       " 'UN': 2,\n",
       " 'should': 59,\n",
       " '#सत्य_बोध_यात्रा': 2,\n",
       " 'after': 62,\n",
       " '#UNGA': 7,\n",
       " 'speech': 5,\n",
       " 'awaken': 2,\n",
       " 'world': 27,\n",
       " 'their': 76,\n",
       " 'role': 2,\n",
       " 'sponsoring': 4,\n",
       " 'okay': 8,\n",
       " 'AHVE': 1,\n",
       " 'mob': 1,\n",
       " 'psycho': 2,\n",
       " '100': 5,\n",
       " 'dont': 12,\n",
       " 'im': 41,\n",
       " 'going': 65,\n",
       " 'fight': 8,\n",
       " 'myself': 16,\n",
       " '@beingbrilliant': 1,\n",
       " '@johnmurrays': 1,\n",
       " 'welcome.': 1,\n",
       " 'genuinely': 2,\n",
       " 'made': 31,\n",
       " 'head': 15,\n",
       " 'wobble': 1,\n",
       " 'realise': 1,\n",
       " 'important': 8,\n",
       " '#smiling': 5,\n",
       " '@Shahid3011': 1,\n",
       " 'tweet': 9,\n",
       " 'this!': 1,\n",
       " 'come': 28,\n",
       " 'haunt': 5,\n",
       " 'ones': 10,\n",
       " '😭😂': 2,\n",
       " 'become': 8,\n",
       " 'verb.': 1,\n",
       " \"'I'm\": 4,\n",
       " 'gonna': 23,\n",
       " 'Villaseñor': 1,\n",
       " 'those': 37,\n",
       " 'old': 27,\n",
       " 'contacts': 1,\n",
       " \"anymore.'\": 1,\n",
       " '@melissavcomedy': 1,\n",
       " '#waitingforexplanation': 1,\n",
       " 'An': 7,\n",
       " 'dire': 4,\n",
       " 'recall': 1,\n",
       " 'shot': 6,\n",
       " 'target.': 1,\n",
       " '\\\\n\\\\nAgainst': 1,\n",
       " 'Accrington': 2,\n",
       " 'Stanley.': 1,\n",
       " '@RogueCoder250': 2,\n",
       " 'trouble!!': 2,\n",
       " 'Rev': 2,\n",
       " 'see': 70,\n",
       " 'funny': 9,\n",
       " 'project.': 3,\n",
       " 'Who': 13,\n",
       " '17': 4,\n",
       " '2k17': 1,\n",
       " 'ps4': 1,\n",
       " 'add': 5,\n",
       " 'TrackdawgT': 1,\n",
       " 'lets': 7,\n",
       " 'run': 12,\n",
       " '@judahandthelion': 1,\n",
       " 'TONIGHT.': 1,\n",
       " 'Legit': 1,\n",
       " 'rage': 19,\n",
       " '🤘🏻🤘🏻🤘🏻🤘🏻🤘🏻🔥': 1,\n",
       " 'iPhones': 1,\n",
       " 'iPhones????': 1,\n",
       " 'Can': 18,\n",
       " 'someone': 56,\n",
       " 'explain': 4,\n",
       " '@scdesc': 1,\n",
       " 'Yup.': 1,\n",
       " 'Val': 6,\n",
       " 'basically': 1,\n",
       " 'ignoring': 3,\n",
       " 'recipe.': 1,\n",
       " 'done.': 7,\n",
       " 'keep': 21,\n",
       " 'bursting': 1,\n",
       " 'into': 51,\n",
       " 'laughter': 11,\n",
       " 'x': 4,\n",
       " 'congratulate': 1,\n",
       " 'Saudi': 1,\n",
       " 'Arabia': 1,\n",
       " 'joyous': 14,\n",
       " 'national': 3,\n",
       " 'May': 4,\n",
       " 'time!': 5,\n",
       " '#اليوم_الوطني': 1,\n",
       " '@LazyBoiSam': 1,\n",
       " 'blues...': 1,\n",
       " 'blues?': 2,\n",
       " '🤔': 2,\n",
       " '@DL_Hart': 1,\n",
       " '@DonnieDollars': 1,\n",
       " '@AaronBiggsPro': 1,\n",
       " '@WWENoWayJose': 1,\n",
       " '@cwfmidatlantic': 1,\n",
       " 'chop': 1,\n",
       " 'feel?': 1,\n",
       " 'You': 68,\n",
       " 'feel': 69,\n",
       " 'sting': 14,\n",
       " 'it?': 6,\n",
       " 'Looks': 2,\n",
       " 'brutal!': 1,\n",
       " '@thomeagle': 2,\n",
       " 'help': 22,\n",
       " 'maintain': 3,\n",
       " 'boost': 2,\n",
       " 'status': 3,\n",
       " 'class': 14,\n",
       " 'centre': 4,\n",
       " 'education,': 2,\n",
       " 'culture': 3,\n",
       " 'tolerance.': 2,\n",
       " 'word': 12,\n",
       " 'fret': 12,\n",
       " 'heaven': 2,\n",
       " '@RealestCastiel': 1,\n",
       " 'sitting': 5,\n",
       " 'close': 9,\n",
       " 'an': 119,\n",
       " 'extended': 1,\n",
       " 'period': 2,\n",
       " 'exhilarating': 11,\n",
       " \"he's\": 20,\n",
       " 'beautiful': 8,\n",
       " 'lively': 12,\n",
       " 'lol': 34,\n",
       " '@bodwell_james': 1,\n",
       " 'enliven': 1,\n",
       " 'soul': 5,\n",
       " '@ticcikasie1': 2,\n",
       " 'With': 10,\n",
       " 'frown,': 3,\n",
       " \"let's\": 13,\n",
       " 'distraught': 2,\n",
       " \"'Gardevoir'\": 2,\n",
       " 'saying': 17,\n",
       " 'wishes': 2,\n",
       " 'had': 77,\n",
       " 'trainer': 2,\n",
       " '@ExpressScripts': 2,\n",
       " 'shd': 2,\n",
       " 'embrrssd.': 2,\n",
       " 'jack': 2,\n",
       " 'bp': 2,\n",
       " 'meds': 2,\n",
       " 'twice': 5,\n",
       " 'take': 29,\n",
       " '3-5': 2,\n",
       " 'days?': 2,\n",
       " 'express': 9,\n",
       " '#expressscripts': 2,\n",
       " 'Romero': 1,\n",
       " 'fucking': 45,\n",
       " '11': 1,\n",
       " 'him.': 10,\n",
       " 'family': 6,\n",
       " 'nanny': 1,\n",
       " '❤️': 8,\n",
       " 'nothing': 21,\n",
       " 'appreciation,': 1,\n",
       " 'makes': 45,\n",
       " 'smile.': 6,\n",
       " 'incetown,': 1,\n",
       " '23,': 1,\n",
       " 'joyful,': 2,\n",
       " 'elevated': 1,\n",
       " 'hope': 22,\n",
       " 'TheNiceBot:': 2,\n",
       " 'WSJNordics': 1,\n",
       " 'place.': 2,\n",
       " '#TheNiceBot': 4,\n",
       " '#الخفجي': 1,\n",
       " '@kana_blender': 2,\n",
       " '#lively': 29,\n",
       " '@m_giacchino': 2,\n",
       " 'aired': 2,\n",
       " 'radio': 6,\n",
       " 'filmed?': 2,\n",
       " 'Lots': 2,\n",
       " 'fans': 16,\n",
       " 'over': 70,\n",
       " 'pond': 2,\n",
       " 'too!': 3,\n",
       " '#wales': 2,\n",
       " '@dlrwills': 1,\n",
       " 'turn': 20,\n",
       " 'frown': 21,\n",
       " 'upside': 5,\n",
       " 'down': 44,\n",
       " 'buddy': 2,\n",
       " '🙃.': 1,\n",
       " '@ImpugnValkyrie': 2,\n",
       " '*I': 2,\n",
       " 'cup': 7,\n",
       " 'cheeks': 4,\n",
       " 'step': 9,\n",
       " 'aside.*': 2,\n",
       " 'Angela': 2,\n",
       " 'else': 6,\n",
       " '@MMASOCCERFAN': 1,\n",
       " '@outmagazine': 2,\n",
       " 'No': 31,\n",
       " 'offense': 13,\n",
       " 'magazine.': 1,\n",
       " 'Otherwise,who': 1,\n",
       " 'apologizing': 1,\n",
       " \"Can't\": 11,\n",
       " 'Ninja': 1,\n",
       " 'turtle': 1,\n",
       " 'costume': 1,\n",
       " 'raging': 11,\n",
       " 'OSU': 1,\n",
       " 'again': 21,\n",
       " 'Halloween': 4,\n",
       " '😈': 1,\n",
       " 'When': 65,\n",
       " 'became': 4,\n",
       " 'concern': 12,\n",
       " 'irrelevant': 1,\n",
       " 'ass': 13,\n",
       " \"I'll\": 28,\n",
       " '@Idubbbz': 1,\n",
       " '@LeafyIsHere': 1,\n",
       " 'offended': 15,\n",
       " 'For': 11,\n",
       " 'team': 25,\n",
       " 'big': 14,\n",
       " 'Bayern': 4,\n",
       " 'play': 23,\n",
       " 'football,': 2,\n",
       " 'pitch': 7,\n",
       " 'dreadful.': 8,\n",
       " 'Certainly': 2,\n",
       " 'Emirates': 2,\n",
       " 'anyway.': 2,\n",
       " 'Feel': 1,\n",
       " '+': 11,\n",
       " 'ugly': 3,\n",
       " 'atm': 1,\n",
       " 'hovering': 1,\n",
       " 'block': 5,\n",
       " 'button': 1,\n",
       " 'glee.': 2,\n",
       " '@SilkInSide': 1,\n",
       " '@TommyJoeRatliff': 1,\n",
       " 'pretty!': 1,\n",
       " 'sky': 2,\n",
       " 'background': 1,\n",
       " 'purple': 2,\n",
       " 'highlights': 1,\n",
       " 'colors': 2,\n",
       " 'Leave': 3,\n",
       " 'there,': 4,\n",
       " 'rule,nimber': 2,\n",
       " '1': 12,\n",
       " 'carpet': 2,\n",
       " 'cleaning!!!': 2,\n",
       " '#furious': 6,\n",
       " '#worsethananatomicbomb': 2,\n",
       " '#accidentlyspillbeeronthecarpet': 2,\n",
       " 'party': 8,\n",
       " 'coming': 10,\n",
       " 'soon!': 2,\n",
       " ...}"
      ]
     },
     "execution_count": 13,
     "metadata": {},
     "output_type": "execute_result"
    }
   ],
   "source": [
    "# Answer here\n",
    "def countWords(s):\n",
    "    arr = s.split()\n",
    "    dic = dict()\n",
    "    #print(arr)\n",
    "    for word in arr:\n",
    "        if(word in dic):\n",
    "            dic[word] += 1\n",
    "        else:\n",
    "            dic[word] = 1\n",
    "    return dic\n",
    "\n",
    "def list_to_string(arr):\n",
    "    s = \" \"\n",
    "    return s.join(arr)\n",
    "\n",
    "dic_train = countWords(list_to_string(train_df['text']))\n",
    "dic_test = countWords(list_to_string(test_df['text']))\n",
    "\n",
    "dic_train"
   ]
  },
  {
   "cell_type": "code",
   "execution_count": 14,
   "metadata": {},
   "outputs": [
    {
     "data": {
      "text/plain": [
       "<AxesSubplot:xlabel='word'>"
      ]
     },
     "execution_count": 14,
     "metadata": {},
     "output_type": "execute_result"
    },
    {
     "data": {
      "image/png": "[encoded data removed]",
      "text/plain": [
       "<Figure size 432x288 with 1 Axes>"
      ]
     },
     "metadata": {
      "needs_background": "light"
     },
     "output_type": "display_data"
    }
   ],
   "source": [
    "train_top30 = pd.DataFrame(dic_train.items(), columns=['word', 'frequency']).sort_values('frequency', ascending=False).iloc[:30,]\n",
    "train_top30.plot.bar(x = 'word', y = 'frequency')"
   ]
  },
  {
   "cell_type": "code",
   "execution_count": 15,
   "metadata": {},
   "outputs": [
    {
     "data": {
      "text/plain": [
       "<AxesSubplot:xlabel='word'>"
      ]
     },
     "execution_count": 15,
     "metadata": {},
     "output_type": "execute_result"
    },
    {
     "data": {
      "image/png": "[encoded data removed]",
      "text/plain": [
       "<Figure size 432x288 with 1 Axes>"
      ]
     },
     "metadata": {
      "needs_background": "light"
     },
     "output_type": "display_data"
    }
   ],
   "source": [
    "test_top30 = pd.DataFrame(dic_test.items(), columns=['word', 'frequency']).sort_values('frequency', ascending=False).iloc[:30,]\n",
    "test_top30.plot.bar(x = 'word', y = 'frequency')"
   ]
  },
  {
   "cell_type": "markdown",
   "metadata": {},
   "source": [
    "---\n",
    "### 1.2 Save data"
   ]
  },
  {
   "cell_type": "markdown",
   "metadata": {},
   "source": [
    "We will save our data in Pickle format. The pickle module implements binary protocols for serializing and de-serializing a Python object structure.   \n",
    "  \n",
    "Some advantages for using pickle structure:  \n",
    "* Because it stores the attribute type, it's more convenient for cross-platform use.  \n",
    "* When your data is huge, it could use less space to store also consume less loading time.   "
   ]
  },
  {
   "cell_type": "code",
   "execution_count": 16,
   "metadata": {},
   "outputs": [],
   "source": [
    "## save to pickle file\n",
    "train_df.to_pickle(\"train_df.pkl\") \n",
    "test_df.to_pickle(\"test_df.pkl\")"
   ]
  },
  {
   "cell_type": "code",
   "execution_count": 17,
   "metadata": {},
   "outputs": [
    {
     "data": {
      "text/html": [
       "<div>\n",
       "<style scoped>\n",
       "    .dataframe tbody tr th:only-of-type {\n",
       "        vertical-align: middle;\n",
       "    }\n",
       "\n",
       "    .dataframe tbody tr th {\n",
       "        vertical-align: top;\n",
       "    }\n",
       "\n",
       "    .dataframe thead th {\n",
       "        text-align: right;\n",
       "    }\n",
       "</style>\n",
       "<table border=\"1\" class=\"dataframe\">\n",
       "  <thead>\n",
       "    <tr style=\"text-align: right;\">\n",
       "      <th></th>\n",
       "      <th>id</th>\n",
       "      <th>text</th>\n",
       "      <th>emotion</th>\n",
       "      <th>intensity</th>\n",
       "    </tr>\n",
       "  </thead>\n",
       "  <tbody>\n",
       "    <tr>\n",
       "      <th>42</th>\n",
       "      <td>10899</td>\n",
       "      <td>Kik to trade, have fun or a conversation  (kik...</td>\n",
       "      <td>anger</td>\n",
       "      <td>0.241</td>\n",
       "    </tr>\n",
       "    <tr>\n",
       "      <th>135</th>\n",
       "      <td>21198</td>\n",
       "      <td>#Awareness seek #shelter .#Letgo Old #habit of...</td>\n",
       "      <td>fear</td>\n",
       "      <td>0.438</td>\n",
       "    </tr>\n",
       "    <tr>\n",
       "      <th>54</th>\n",
       "      <td>10911</td>\n",
       "      <td>Having a baby born too soon is #lifechanging 6...</td>\n",
       "      <td>anger</td>\n",
       "      <td>0.354</td>\n",
       "    </tr>\n",
       "    <tr>\n",
       "      <th>264</th>\n",
       "      <td>30893</td>\n",
       "      <td>Tutoring gives me such an exhilarating feeling...</td>\n",
       "      <td>joy</td>\n",
       "      <td>0.896</td>\n",
       "    </tr>\n",
       "    <tr>\n",
       "      <th>311</th>\n",
       "      <td>40824</td>\n",
       "      <td>On bedrest since I got out of the hospital. U ...</td>\n",
       "      <td>sadness</td>\n",
       "      <td>0.440</td>\n",
       "    </tr>\n",
       "    <tr>\n",
       "      <th>...</th>\n",
       "      <td>...</td>\n",
       "      <td>...</td>\n",
       "      <td>...</td>\n",
       "      <td>...</td>\n",
       "    </tr>\n",
       "    <tr>\n",
       "      <th>300</th>\n",
       "      <td>40813</td>\n",
       "      <td>This shit hurting my heart 😪 that's how seriou...</td>\n",
       "      <td>sadness</td>\n",
       "      <td>0.875</td>\n",
       "    </tr>\n",
       "    <tr>\n",
       "      <th>211</th>\n",
       "      <td>30840</td>\n",
       "      <td>4-2 Canada final tomorrow #WCH #Predictions #o...</td>\n",
       "      <td>joy</td>\n",
       "      <td>0.420</td>\n",
       "    </tr>\n",
       "    <tr>\n",
       "      <th>155</th>\n",
       "      <td>21218</td>\n",
       "      <td>About 7 weeks till I can pick up my camera aga...</td>\n",
       "      <td>fear</td>\n",
       "      <td>0.396</td>\n",
       "    </tr>\n",
       "    <tr>\n",
       "      <th>58</th>\n",
       "      <td>10915</td>\n",
       "      <td>@RealJamesWoods @KennyCoble saddest part of th...</td>\n",
       "      <td>anger</td>\n",
       "      <td>0.667</td>\n",
       "    </tr>\n",
       "    <tr>\n",
       "      <th>169</th>\n",
       "      <td>21232</td>\n",
       "      <td>@mikefreemanNFL \\nIsn't OBrien supposed to be ...</td>\n",
       "      <td>fear</td>\n",
       "      <td>0.479</td>\n",
       "    </tr>\n",
       "  </tbody>\n",
       "</table>\n",
       "<p>347 rows × 4 columns</p>\n",
       "</div>"
      ],
      "text/plain": [
       "        id                                               text  emotion  \\\n",
       "42   10899  Kik to trade, have fun or a conversation  (kik...    anger   \n",
       "135  21198  #Awareness seek #shelter .#Letgo Old #habit of...     fear   \n",
       "54   10911  Having a baby born too soon is #lifechanging 6...    anger   \n",
       "264  30893  Tutoring gives me such an exhilarating feeling...      joy   \n",
       "311  40824  On bedrest since I got out of the hospital. U ...  sadness   \n",
       "..     ...                                                ...      ...   \n",
       "300  40813  This shit hurting my heart 😪 that's how seriou...  sadness   \n",
       "211  30840  4-2 Canada final tomorrow #WCH #Predictions #o...      joy   \n",
       "155  21218  About 7 weeks till I can pick up my camera aga...     fear   \n",
       "58   10915  @RealJamesWoods @KennyCoble saddest part of th...    anger   \n",
       "169  21232  @mikefreemanNFL \\nIsn't OBrien supposed to be ...     fear   \n",
       "\n",
       "     intensity  \n",
       "42       0.241  \n",
       "135      0.438  \n",
       "54       0.354  \n",
       "264      0.896  \n",
       "311      0.440  \n",
       "..         ...  \n",
       "300      0.875  \n",
       "211      0.420  \n",
       "155      0.396  \n",
       "58       0.667  \n",
       "169      0.479  \n",
       "\n",
       "[347 rows x 4 columns]"
      ]
     },
     "execution_count": 17,
     "metadata": {},
     "output_type": "execute_result"
    }
   ],
   "source": [
    "import pandas as pd\n",
    "\n",
    "## load a pickle file\n",
    "train_df = pd.read_pickle(\"train_df.pkl\")\n",
    "test_df = pd.read_pickle(\"test_df.pkl\")\n",
    "test_df"
   ]
  },
  {
   "cell_type": "markdown",
   "metadata": {},
   "source": [
    "For more information: https://reurl.cc/0Dzqx"
   ]
  },
  {
   "cell_type": "markdown",
   "metadata": {},
   "source": [
    "---\n",
    "### 1.3 Exploratory data analysis (EDA)\n",
    "\n",
    "Again, before getting our hands dirty, we need to explore a little bit and understand the data we're dealing with."
   ]
  },
  {
   "cell_type": "code",
   "execution_count": 18,
   "metadata": {},
   "outputs": [
    {
     "data": {
      "text/plain": [
       "emotion\n",
       "anger       857\n",
       "fear       1147\n",
       "joy         823\n",
       "sadness     786\n",
       "Name: text, dtype: int64"
      ]
     },
     "execution_count": 18,
     "metadata": {},
     "output_type": "execute_result"
    }
   ],
   "source": [
    "#group to find distribution\n",
    "train_df.groupby(['emotion']).count()['text']"
   ]
  },
  {
   "cell_type": "code",
   "execution_count": 19,
   "metadata": {},
   "outputs": [
    {
     "data": {
      "image/png": "[encoded data removed]",
      "text/plain": [
       "<Figure size 360x216 with 1 Axes>"
      ]
     },
     "metadata": {
      "needs_background": "light"
     },
     "output_type": "display_data"
    }
   ],
   "source": [
    "%matplotlib inline\n",
    "import numpy as np\n",
    "import matplotlib.pyplot as plt\n",
    "\n",
    "# the histogram of the data\n",
    "labels = train_df['emotion'].unique()\n",
    "post_total = len(train_df)\n",
    "df1 = train_df.groupby(['emotion']).count()['text']\n",
    "df1 = df1.apply(lambda x: round(x*100/post_total,3))\n",
    "\n",
    "#plot\n",
    "fig, ax = plt.subplots(figsize=(5,3))\n",
    "plt.bar(df1.index,df1.values)\n",
    "\n",
    "#arrange\n",
    "plt.ylabel('% of instances')\n",
    "plt.xlabel('Emotion')\n",
    "plt.title('Emotion distribution')\n",
    "plt.grid(True)\n",
    "plt.show()"
   ]
  },
  {
   "cell_type": "markdown",
   "metadata": {},
   "source": [
    "---"
   ]
  },
  {
   "cell_type": "markdown",
   "metadata": {},
   "source": [
    "## 2. Feature engineering\n",
    "### Using Bag of Words\n",
    "Using scikit-learn ```CountVectorizer``` perform word frequency and use these as features to train a model.  \n",
    "http://scikit-learn.org/stable/modules/generated/sklearn.feature_extraction.text.CountVectorizer.html"
   ]
  },
  {
   "cell_type": "code",
   "execution_count": 20,
   "metadata": {},
   "outputs": [],
   "source": [
    "from sklearn.feature_extraction.text import CountVectorizer"
   ]
  },
  {
   "cell_type": "code",
   "execution_count": 21,
   "metadata": {},
   "outputs": [],
   "source": [
    "# build analyzers (bag-of-words)\n",
    "BOW_vectorizer = CountVectorizer() "
   ]
  },
  {
   "cell_type": "code",
   "execution_count": 22,
   "metadata": {},
   "outputs": [],
   "source": [
    "# 1. Learn a vocabulary dictionary of all tokens in the raw documents.\n",
    "BOW_vectorizer.fit(train_df['text'])\n",
    "\n",
    "# 2. Transform documents to document-term matrix.\n",
    "train_data_BOW_features = BOW_vectorizer.transform(train_df['text'])\n",
    "test_data_BOW_features = BOW_vectorizer.transform(test_df['text'])"
   ]
  },
  {
   "cell_type": "code",
   "execution_count": 23,
   "metadata": {},
   "outputs": [
    {
     "data": {
      "text/plain": [
       "<3613x10115 sparse matrix of type '<class 'numpy.int64'>'\n",
       "\twith 51467 stored elements in Compressed Sparse Row format>"
      ]
     },
     "execution_count": 23,
     "metadata": {},
     "output_type": "execute_result"
    }
   ],
   "source": [
    "# check the result\n",
    "train_data_BOW_features"
   ]
  },
  {
   "cell_type": "code",
   "execution_count": 24,
   "metadata": {},
   "outputs": [
    {
     "data": {
      "text/plain": [
       "scipy.sparse.csr.csr_matrix"
      ]
     },
     "execution_count": 24,
     "metadata": {},
     "output_type": "execute_result"
    }
   ],
   "source": [
    "type(train_data_BOW_features)"
   ]
  },
  {
   "cell_type": "code",
   "execution_count": 25,
   "metadata": {
    "scrolled": true
   },
   "outputs": [
    {
     "data": {
      "text/plain": [
       "array([[0, 0, 0, ..., 0, 0, 0],\n",
       "       [0, 0, 0, ..., 0, 0, 0],\n",
       "       [0, 0, 0, ..., 0, 0, 0],\n",
       "       ...,\n",
       "       [0, 0, 0, ..., 0, 0, 0],\n",
       "       [0, 0, 0, ..., 0, 0, 0],\n",
       "       [0, 0, 0, ..., 0, 0, 0]], dtype=int64)"
      ]
     },
     "execution_count": 25,
     "metadata": {},
     "output_type": "execute_result"
    }
   ],
   "source": [
    "# add .toarray() to show\n",
    "train_data_BOW_features.toarray()"
   ]
  },
  {
   "cell_type": "code",
   "execution_count": 26,
   "metadata": {
    "scrolled": false
   },
   "outputs": [
    {
     "data": {
      "text/plain": [
       "(3613, 10115)"
      ]
     },
     "execution_count": 26,
     "metadata": {},
     "output_type": "execute_result"
    }
   ],
   "source": [
    "# check the dimension\n",
    "train_data_BOW_features.shape"
   ]
  },
  {
   "cell_type": "code",
   "execution_count": 27,
   "metadata": {},
   "outputs": [
    {
     "data": {
      "text/plain": [
       "['2k17', '2much', '2nd', '30', '300', '301', '30am', '30pm', '30s', '31']"
      ]
     },
     "execution_count": 27,
     "metadata": {},
     "output_type": "execute_result"
    }
   ],
   "source": [
    "# observe some feature names\n",
    "feature_names = BOW_vectorizer.get_feature_names()\n",
    "feature_names[100:110]"
   ]
  },
  {
   "cell_type": "markdown",
   "metadata": {},
   "source": [
    " "
   ]
  },
  {
   "cell_type": "markdown",
   "metadata": {},
   "source": [
    "The embedding is done. We can technically feed this into our model. However, depending on the embedding technique you use and your model, your accuracy might not be as high, because:\n",
    "\n",
    "* curse of dimensionality  (we have 10,115 dimension now)\n",
    "* some important features are ignored (for example, some models using emoticons yeld better performance than counterparts)"
   ]
  },
  {
   "cell_type": "code",
   "execution_count": 28,
   "metadata": {},
   "outputs": [
    {
     "data": {
      "text/plain": [
       "False"
      ]
     },
     "execution_count": 28,
     "metadata": {},
     "output_type": "execute_result"
    }
   ],
   "source": [
    "\"😂\" in feature_names"
   ]
  },
  {
   "cell_type": "markdown",
   "metadata": {},
   "source": [
    "Let's try using another tokenizer below."
   ]
  },
  {
   "cell_type": "code",
   "execution_count": 29,
   "metadata": {},
   "outputs": [
    {
     "name": "stderr",
     "output_type": "stream",
     "text": [
      "C:\\Users\\Leaf\\anaconda3\\lib\\site-packages\\sklearn\\feature_extraction\\text.py:484: UserWarning: The parameter 'token_pattern' will not be used since 'tokenizer' is not None'\n",
      "  warnings.warn(\"The parameter 'token_pattern' will not be used\"\n"
     ]
    },
    {
     "data": {
      "text/plain": [
       "(3613, 500)"
      ]
     },
     "execution_count": 29,
     "metadata": {},
     "output_type": "execute_result"
    }
   ],
   "source": [
    "import nltk\n",
    "\n",
    "# build analyzers (bag-of-words)\n",
    "BOW_500 = CountVectorizer(max_features=500, tokenizer=nltk.word_tokenize) \n",
    "\n",
    "# apply analyzer to training data\n",
    "BOW_500.fit(train_df['text'])\n",
    "\n",
    "train_data_BOW_features_500 = BOW_500.transform(train_df['text'])\n",
    "\n",
    "## check dimension\n",
    "train_data_BOW_features_500.shape"
   ]
  },
  {
   "cell_type": "code",
   "execution_count": 30,
   "metadata": {},
   "outputs": [
    {
     "data": {
      "text/plain": [
       "array([[0, 4, 0, ..., 0, 0, 0],\n",
       "       [3, 0, 0, ..., 0, 0, 0],\n",
       "       [0, 1, 0, ..., 0, 0, 0],\n",
       "       ...,\n",
       "       [0, 1, 0, ..., 0, 0, 0],\n",
       "       [0, 2, 0, ..., 0, 0, 0],\n",
       "       [0, 0, 0, ..., 0, 0, 0]], dtype=int64)"
      ]
     },
     "execution_count": 30,
     "metadata": {},
     "output_type": "execute_result"
    }
   ],
   "source": [
    "train_data_BOW_features_500.toarray()"
   ]
  },
  {
   "cell_type": "code",
   "execution_count": 31,
   "metadata": {},
   "outputs": [
    {
     "data": {
      "text/plain": [
       "['change',\n",
       " 'cheer',\n",
       " 'cheerful',\n",
       " 'cheering',\n",
       " 'cheery',\n",
       " 'class',\n",
       " 'come',\n",
       " 'comes',\n",
       " 'could',\n",
       " 'country']"
      ]
     },
     "execution_count": 31,
     "metadata": {},
     "output_type": "execute_result"
    }
   ],
   "source": [
    "# observe some feature names\n",
    "feature_names_500 = BOW_500.get_feature_names()\n",
    "feature_names_500[100:110]"
   ]
  },
  {
   "cell_type": "code",
   "execution_count": 32,
   "metadata": {},
   "outputs": [
    {
     "data": {
      "text/plain": [
       "True"
      ]
     },
     "execution_count": 32,
     "metadata": {},
     "output_type": "execute_result"
    }
   ],
   "source": [
    "\"😂\" in feature_names_500"
   ]
  },
  {
   "cell_type": "markdown",
   "metadata": {},
   "source": [
    "---\n",
    "### ** >>> Exercise 2 (Take home): **  \n",
    "Generate an embedding using the TF-IDF vectorizer instead of th BOW one with 1000 features and show the feature names for features [100:110]."
   ]
  },
  {
   "cell_type": "code",
   "execution_count": 34,
   "metadata": {},
   "outputs": [
    {
     "data": {
      "text/plain": [
       "['awareness',\n",
       " 'away',\n",
       " 'awe',\n",
       " 'awesome',\n",
       " 'awful',\n",
       " 'b',\n",
       " 'baby',\n",
       " 'back',\n",
       " 'bad',\n",
       " 'ball']"
      ]
     },
     "execution_count": 34,
     "metadata": {},
     "output_type": "execute_result"
    }
   ],
   "source": [
    "# Answer here\n",
    "from sklearn.feature_extraction.text import TfidfVectorizer\n",
    "max_f = 1000\n",
    "tfidf = TfidfVectorizer(max_features=max_f, tokenizer=nltk.word_tokenize) \n",
    "tfidf.fit(train_df['text'])\n",
    "tfidf_train = tfidf.transform(train_df['text'])\n",
    "tfidf.get_feature_names()[100:110]"
   ]
  },
  {
   "cell_type": "markdown",
   "metadata": {},
   "source": [
    "---\n",
    "## 3. Model\n",
    "### 3.1 Decision Trees\n",
    "Using scikit-learn ```DecisionTreeClassifier``` performs word frequency and uses these as features to train a model.  \n",
    "http://scikit-learn.org/stable/modules/generated/sklearn.tree.DecisionTreeClassifier.html#sklearn.tree.DecisionTreeClassifier"
   ]
  },
  {
   "cell_type": "code",
   "execution_count": 35,
   "metadata": {},
   "outputs": [
    {
     "name": "stdout",
     "output_type": "stream",
     "text": [
      "X_train.shape:  (3613, 500)\n",
      "y_train.shape:  (3613,)\n",
      "X_test.shape:  (347, 500)\n",
      "y_test.shape:  (347,)\n"
     ]
    }
   ],
   "source": [
    "from sklearn.tree import DecisionTreeClassifier\n",
    "\n",
    "# for a classificaiton problem, you need to provide both training & testing data\n",
    "X_train = BOW_500.transform(train_df['text'])\n",
    "y_train = train_df['emotion']\n",
    "\n",
    "X_test = BOW_500.transform(test_df['text'])\n",
    "y_test = test_df['emotion']\n",
    "\n",
    "## take a look at data dimension is a good habbit  :)\n",
    "print('X_train.shape: ', X_train.shape)\n",
    "print('y_train.shape: ', y_train.shape)\n",
    "print('X_test.shape: ', X_test.shape)\n",
    "print('y_test.shape: ', y_test.shape)"
   ]
  },
  {
   "cell_type": "code",
   "execution_count": 36,
   "metadata": {},
   "outputs": [
    {
     "data": {
      "text/plain": [
       "array(['fear', 'anger', 'joy', 'joy', 'sadness', 'fear', 'joy', 'anger',\n",
       "       'sadness', 'sadness'], dtype=object)"
      ]
     },
     "execution_count": 36,
     "metadata": {},
     "output_type": "execute_result"
    }
   ],
   "source": [
    "## build DecisionTree model\n",
    "DT_model = DecisionTreeClassifier(random_state=0)\n",
    "\n",
    "## training!\n",
    "DT_model = DT_model.fit(X_train, y_train)\n",
    "\n",
    "## predict!\n",
    "y_train_pred = DT_model.predict(X_train)\n",
    "y_test_pred = DT_model.predict(X_test)\n",
    "\n",
    "## so we get the pred result\n",
    "y_test_pred[:10]"
   ]
  },
  {
   "cell_type": "markdown",
   "metadata": {},
   "source": [
    " "
   ]
  },
  {
   "cell_type": "markdown",
   "metadata": {},
   "source": [
    "---\n",
    "## 4. Results Evaluation"
   ]
  },
  {
   "cell_type": "markdown",
   "metadata": {},
   "source": [
    "Now we will check the results of our model's performance"
   ]
  },
  {
   "cell_type": "code",
   "execution_count": 37,
   "metadata": {},
   "outputs": [
    {
     "name": "stdout",
     "output_type": "stream",
     "text": [
      "training accuracy: 0.99\n",
      "testing accuracy: 0.66\n"
     ]
    }
   ],
   "source": [
    "## accuracy\n",
    "from sklearn.metrics import accuracy_score\n",
    "\n",
    "acc_train = accuracy_score(y_true=y_train, y_pred=y_train_pred)\n",
    "acc_test = accuracy_score(y_true=y_test, y_pred=y_test_pred)\n",
    "\n",
    "print('training accuracy: {}'.format(round(acc_train, 2)))\n",
    "print('testing accuracy: {}'.format(round(acc_test, 2)))\n"
   ]
  },
  {
   "cell_type": "code",
   "execution_count": 38,
   "metadata": {},
   "outputs": [
    {
     "name": "stdout",
     "output_type": "stream",
     "text": [
      "              precision    recall  f1-score   support\n",
      "\n",
      "       anger       0.67      0.70      0.69        84\n",
      "        fear       0.67      0.65      0.66       110\n",
      "         joy       0.65      0.65      0.65        79\n",
      "     sadness       0.66      0.65      0.65        74\n",
      "\n",
      "    accuracy                           0.66       347\n",
      "   macro avg       0.66      0.66      0.66       347\n",
      "weighted avg       0.66      0.66      0.66       347\n",
      "\n"
     ]
    }
   ],
   "source": [
    "## precision, recall, f1-score,\n",
    "from sklearn.metrics import classification_report\n",
    "\n",
    "print(classification_report(y_true=y_test, y_pred=y_test_pred))"
   ]
  },
  {
   "cell_type": "code",
   "execution_count": 39,
   "metadata": {},
   "outputs": [
    {
     "name": "stdout",
     "output_type": "stream",
     "text": [
      "[[59 12 10  3]\n",
      " [15 72 10 13]\n",
      " [ 6 13 51  9]\n",
      " [ 8 10  8 48]]\n"
     ]
    }
   ],
   "source": [
    "## check by confusion matrix\n",
    "from sklearn.metrics import confusion_matrix\n",
    "\n",
    "cm = confusion_matrix(y_true=y_test, y_pred=y_test_pred) \n",
    "print(cm)"
   ]
  },
  {
   "cell_type": "code",
   "execution_count": 40,
   "metadata": {},
   "outputs": [],
   "source": [
    "# Funciton for visualizing confusion_matrix\n",
    "import matplotlib.pyplot as plt\n",
    "import seaborn as sns\n",
    "import numpy as np\n",
    "import itertools\n",
    "\n",
    "def plot_confusion_matrix(cm, classes, title='Confusion matrix',\n",
    "                          cmap=sns.cubehelix_palette(as_cmap=True)):\n",
    "    \"\"\"\n",
    "    This function is modified from: \n",
    "    http://scikit-learn.org/stable/auto_examples/model_selection/plot_confusion_matrix.html\n",
    "    \"\"\"\n",
    "    classes.sort()\n",
    "    tick_marks = np.arange(len(classes))    \n",
    "    \n",
    "    fig, ax = plt.subplots(figsize=(5,5))\n",
    "    im = ax.imshow(cm, interpolation='nearest', cmap=cmap)\n",
    "    ax.figure.colorbar(im, ax=ax)\n",
    "    ax.set(xticks=np.arange(cm.shape[1]),\n",
    "           yticks=np.arange(cm.shape[0]),\n",
    "           xticklabels = classes,\n",
    "           yticklabels = classes,\n",
    "           title = title,\n",
    "           xlabel = 'True label',\n",
    "           ylabel = 'Predicted label')\n",
    "\n",
    "    fmt = 'd'\n",
    "    thresh = cm.max() / 2.\n",
    "    for i, j in itertools.product(range(cm.shape[0]), range(cm.shape[1])):\n",
    "        plt.text(j, i, format(cm[i, j], fmt), horizontalalignment=\"center\", color=\"white\" if cm[i, j] > thresh else \"black\")\n",
    "    ylim_top = len(classes) - 0.5\n",
    "    plt.ylim([ylim_top, -.5])\n",
    "    plt.tight_layout()\n",
    "    plt.show()"
   ]
  },
  {
   "cell_type": "code",
   "execution_count": 41,
   "metadata": {},
   "outputs": [
    {
     "data": {
      "image/png": "[encoded data removed]",
      "text/plain": [
       "<Figure size 360x360 with 2 Axes>"
      ]
     },
     "metadata": {
      "needs_background": "light"
     },
     "output_type": "display_data"
    }
   ],
   "source": [
    "# plot your confusion matrix\n",
    "my_tags = ['anger', 'fear', 'joy', 'sadness']\n",
    "plot_confusion_matrix(cm, classes=my_tags, title='Confusion matrix')"
   ]
  },
  {
   "cell_type": "markdown",
   "metadata": {},
   "source": [
    "---\n",
    "### ** >>> Exercise 3 (Take home): **  \n",
    "Can you interpret the results above? What do they mean?"
   ]
  },
  {
   "cell_type": "markdown",
   "metadata": {},
   "source": [
    "### Answer here\n",
    "#### The confusion matrix calculates how many samples did the computer get wrong or correct.\n",
    "#### The y-axis means that the model predicted and the x-axis means what the sample is true"
   ]
  },
  {
   "cell_type": "markdown",
   "metadata": {},
   "source": [
    "---\n",
    "### ** >>> Exercise 4 (Take home): **  \n",
    "Build a model using a ```Naive Bayes``` model and train it. What are the testing results? \n",
    "\n",
    "*Reference*: https://scikit-learn.org/stable/modules/generated/sklearn.naive_bayes.MultinomialNB.html"
   ]
  },
  {
   "cell_type": "code",
   "execution_count": 43,
   "metadata": {},
   "outputs": [
    {
     "name": "stdout",
     "output_type": "stream",
     "text": [
      "              precision    recall  f1-score   support\n",
      "\n",
      "       anger       0.65      0.65      0.65        84\n",
      "        fear       0.72      0.77      0.75       110\n",
      "         joy       0.76      0.70      0.73        79\n",
      "     sadness       0.63      0.62      0.63        74\n",
      "\n",
      "    accuracy                           0.69       347\n",
      "   macro avg       0.69      0.69      0.69       347\n",
      "weighted avg       0.70      0.69      0.69       347\n",
      "\n"
     ]
    }
   ],
   "source": [
    "# Answer here\n",
    "from sklearn.naive_bayes import MultinomialNB\n",
    "clf = MultinomialNB()\n",
    "clf.fit(X_train, y_train)\n",
    "y_train_pred_NB = clf.predict(X_train)\n",
    "y_test_pred_NB = clf.predict(X_test)\n",
    "print(classification_report(y_true=y_test, y_pred=y_test_pred_NB))"
   ]
  },
  {
   "cell_type": "markdown",
   "metadata": {},
   "source": [
    "---\n",
    "### ** >>> Exercise 5 (Take home): **  \n",
    "\n",
    "How do the results from the Naive Bayes model and the Decision Tree model compare? How do you interpret these differences? Use the theoretical background covered in class to try and explain these differences."
   ]
  },
  {
   "cell_type": "markdown",
   "metadata": {},
   "source": [
    "### Answer here\n",
    "#### The Naive Bayes's acc result is higher than decision tree's\n",
    "#### Decision tree's recall&f1-score in anger&sadness are higher than NB's\n",
    "#### These can see that the probability for the emotion is better than decision tree"
   ]
  },
  {
   "cell_type": "markdown",
   "metadata": {},
   "source": [
    "---"
   ]
  },
  {
   "cell_type": "markdown",
   "metadata": {},
   "source": [
    "## 5. Other things you can try"
   ]
  },
  {
   "cell_type": "markdown",
   "metadata": {},
   "source": [
    "Thus, there are several things you can try that will affect your results. In order to yield better results, you can experiment by: \n",
    "    * Trying different features (Feature engineering)\n",
    "        -Eg. Word2Vec,PCA,LDA,FastText, Clustering......\n",
    "    * Trying different models\n",
    "    * Analyzing your results and interpret them to improve your feature engineering/model building process\n",
    "    * Iterate through the steps above until finding a satisfying result\n",
    "Remember that you should also consider the task at hand and the model you'll feed the data to. "
   ]
  },
  {
   "cell_type": "markdown",
   "metadata": {},
   "source": [
    " "
   ]
  },
  {
   "cell_type": "markdown",
   "metadata": {},
   "source": [
    "---\n",
    "## 6. Deep Learning\n",
    "\n",
    "We use [Keras](https://keras.io/) to be our deep learning framwork, and follow the [Model (functional API)](https://keras.io/models/model/) to build a Deep Neural Network (DNN) model. Keras runs with Tensorflow in the backend. It's a nice abstraction to start working with NN models. \n",
    "\n",
    "Because Deep Learning is a 1-semester course, we can't talk about each detail about it in the lab session. Here, we only provide a simple template about how to build & run a DL model successfully. You can follow this template to design your model.\n",
    "\n",
    "We will begin by building a fully connected network, which looks like this:"
   ]
  },
  {
   "cell_type": "markdown",
   "metadata": {},
   "source": [
    "![Fully Connected Network](pics/pic1.png)\n",
    "\n",
    "(source: https://github.com/drewnoff/spark-notebook-ml-labs/tree/master/labs/DLFramework)\n"
   ]
  },
  {
   "cell_type": "markdown",
   "metadata": {},
   "source": [
    "### 6.1 Prepare data (X, y)"
   ]
  },
  {
   "cell_type": "code",
   "execution_count": 44,
   "metadata": {},
   "outputs": [
    {
     "name": "stderr",
     "output_type": "stream",
     "text": [
      "Using TensorFlow backend.\n",
      "C:\\Users\\Leaf\\anaconda3\\lib\\site-packages\\tensorflow\\python\\framework\\dtypes.py:516: FutureWarning: Passing (type, 1) or '1type' as a synonym of type is deprecated; in a future version of numpy, it will be understood as (type, (1,)) / '(1,)type'.\n",
      "  _np_qint8 = np.dtype([(\"qint8\", np.int8, 1)])\n",
      "C:\\Users\\Leaf\\anaconda3\\lib\\site-packages\\tensorflow\\python\\framework\\dtypes.py:517: FutureWarning: Passing (type, 1) or '1type' as a synonym of type is deprecated; in a future version of numpy, it will be understood as (type, (1,)) / '(1,)type'.\n",
      "  _np_quint8 = np.dtype([(\"quint8\", np.uint8, 1)])\n",
      "C:\\Users\\Leaf\\anaconda3\\lib\\site-packages\\tensorflow\\python\\framework\\dtypes.py:518: FutureWarning: Passing (type, 1) or '1type' as a synonym of type is deprecated; in a future version of numpy, it will be understood as (type, (1,)) / '(1,)type'.\n",
      "  _np_qint16 = np.dtype([(\"qint16\", np.int16, 1)])\n",
      "C:\\Users\\Leaf\\anaconda3\\lib\\site-packages\\tensorflow\\python\\framework\\dtypes.py:519: FutureWarning: Passing (type, 1) or '1type' as a synonym of type is deprecated; in a future version of numpy, it will be understood as (type, (1,)) / '(1,)type'.\n",
      "  _np_quint16 = np.dtype([(\"quint16\", np.uint16, 1)])\n",
      "C:\\Users\\Leaf\\anaconda3\\lib\\site-packages\\tensorflow\\python\\framework\\dtypes.py:520: FutureWarning: Passing (type, 1) or '1type' as a synonym of type is deprecated; in a future version of numpy, it will be understood as (type, (1,)) / '(1,)type'.\n",
      "  _np_qint32 = np.dtype([(\"qint32\", np.int32, 1)])\n",
      "C:\\Users\\Leaf\\anaconda3\\lib\\site-packages\\tensorflow\\python\\framework\\dtypes.py:525: FutureWarning: Passing (type, 1) or '1type' as a synonym of type is deprecated; in a future version of numpy, it will be understood as (type, (1,)) / '(1,)type'.\n",
      "  np_resource = np.dtype([(\"resource\", np.ubyte, 1)])\n",
      "C:\\Users\\Leaf\\anaconda3\\lib\\site-packages\\tensorboard\\compat\\tensorflow_stub\\dtypes.py:541: FutureWarning: Passing (type, 1) or '1type' as a synonym of type is deprecated; in a future version of numpy, it will be understood as (type, (1,)) / '(1,)type'.\n",
      "  _np_qint8 = np.dtype([(\"qint8\", np.int8, 1)])\n",
      "C:\\Users\\Leaf\\anaconda3\\lib\\site-packages\\tensorboard\\compat\\tensorflow_stub\\dtypes.py:542: FutureWarning: Passing (type, 1) or '1type' as a synonym of type is deprecated; in a future version of numpy, it will be understood as (type, (1,)) / '(1,)type'.\n",
      "  _np_quint8 = np.dtype([(\"quint8\", np.uint8, 1)])\n",
      "C:\\Users\\Leaf\\anaconda3\\lib\\site-packages\\tensorboard\\compat\\tensorflow_stub\\dtypes.py:543: FutureWarning: Passing (type, 1) or '1type' as a synonym of type is deprecated; in a future version of numpy, it will be understood as (type, (1,)) / '(1,)type'.\n",
      "  _np_qint16 = np.dtype([(\"qint16\", np.int16, 1)])\n",
      "C:\\Users\\Leaf\\anaconda3\\lib\\site-packages\\tensorboard\\compat\\tensorflow_stub\\dtypes.py:544: FutureWarning: Passing (type, 1) or '1type' as a synonym of type is deprecated; in a future version of numpy, it will be understood as (type, (1,)) / '(1,)type'.\n",
      "  _np_quint16 = np.dtype([(\"quint16\", np.uint16, 1)])\n",
      "C:\\Users\\Leaf\\anaconda3\\lib\\site-packages\\tensorboard\\compat\\tensorflow_stub\\dtypes.py:545: FutureWarning: Passing (type, 1) or '1type' as a synonym of type is deprecated; in a future version of numpy, it will be understood as (type, (1,)) / '(1,)type'.\n",
      "  _np_qint32 = np.dtype([(\"qint32\", np.int32, 1)])\n",
      "C:\\Users\\Leaf\\anaconda3\\lib\\site-packages\\tensorboard\\compat\\tensorflow_stub\\dtypes.py:550: FutureWarning: Passing (type, 1) or '1type' as a synonym of type is deprecated; in a future version of numpy, it will be understood as (type, (1,)) / '(1,)type'.\n",
      "  np_resource = np.dtype([(\"resource\", np.ubyte, 1)])\n"
     ]
    },
    {
     "name": "stdout",
     "output_type": "stream",
     "text": [
      "X_train.shape:  (3613, 500)\n",
      "y_train.shape:  (3613,)\n",
      "X_test.shape:  (347, 500)\n",
      "y_test.shape:  (347,)\n"
     ]
    }
   ],
   "source": [
    "import keras\n",
    "\n",
    "# standardize name (X, y) \n",
    "X_train = BOW_500.transform(train_df['text'])\n",
    "y_train = train_df['emotion']\n",
    "\n",
    "X_test = BOW_500.transform(test_df['text'])\n",
    "y_test = test_df['emotion']\n",
    "\n",
    "## check dimension is a good habbit \n",
    "print('X_train.shape: ', X_train.shape)\n",
    "print('y_train.shape: ', y_train.shape)\n",
    "print('X_test.shape: ', X_test.shape)\n",
    "print('y_test.shape: ', y_test.shape)"
   ]
  },
  {
   "cell_type": "markdown",
   "metadata": {},
   "source": [
    "### 6.2 Deal with categorical label (y)\n",
    "\n",
    "Rather than put your label `train_df['emotion']` directly into a model, we have to process these categorical (or say nominal) label by ourselves. \n",
    "\n",
    "Here, we use the basic method [one-hot encoding](https://en.wikipedia.org/wiki/One-hot) to transform our categorical  labels to numerical ones.\n"
   ]
  },
  {
   "cell_type": "code",
   "execution_count": 45,
   "metadata": {},
   "outputs": [
    {
     "name": "stdout",
     "output_type": "stream",
     "text": [
      "check label:  ['anger' 'fear' 'joy' 'sadness']\n",
      "\n",
      "## Before convert\n",
      "y_train[0:4]:\n",
      " 1456       fear\n",
      "2777        joy\n",
      "3303    sadness\n",
      "3330    sadness\n",
      "Name: emotion, dtype: object\n",
      "\n",
      "y_train.shape:  (3613,)\n",
      "y_test.shape:  (347,)\n",
      "\n",
      "\n",
      "## After convert\n",
      "y_train[0:4]:\n",
      " [[0. 1. 0. 0.]\n",
      " [0. 0. 1. 0.]\n",
      " [0. 0. 0. 1.]\n",
      " [0. 0. 0. 1.]]\n",
      "\n",
      "y_train.shape:  (3613, 4)\n",
      "y_test.shape:  (347, 4)\n"
     ]
    }
   ],
   "source": [
    "## deal with label (string -> one-hot)\n",
    "\n",
    "from sklearn.preprocessing import LabelEncoder\n",
    "\n",
    "label_encoder = LabelEncoder()\n",
    "label_encoder.fit(y_train)\n",
    "print('check label: ', label_encoder.classes_)\n",
    "print('\\n## Before convert')\n",
    "print('y_train[0:4]:\\n', y_train[0:4])\n",
    "print('\\ny_train.shape: ', y_train.shape)\n",
    "print('y_test.shape: ', y_test.shape)\n",
    "\n",
    "def label_encode(le, labels):\n",
    "    enc = le.transform(labels)\n",
    "    return keras.utils.to_categorical(enc)\n",
    "\n",
    "def label_decode(le, one_hot_label):\n",
    "    dec = np.argmax(one_hot_label, axis=1)\n",
    "    return le.inverse_transform(dec)\n",
    "\n",
    "y_train = label_encode(label_encoder, y_train)\n",
    "y_test = label_encode(label_encoder, y_test)\n",
    "\n",
    "print('\\n\\n## After convert')\n",
    "print('y_train[0:4]:\\n', y_train[0:4])\n",
    "print('\\ny_train.shape: ', y_train.shape)\n",
    "print('y_test.shape: ', y_test.shape)\n"
   ]
  },
  {
   "cell_type": "markdown",
   "metadata": {},
   "source": [
    "### 6.3 Build model"
   ]
  },
  {
   "cell_type": "code",
   "execution_count": 46,
   "metadata": {},
   "outputs": [
    {
     "name": "stdout",
     "output_type": "stream",
     "text": [
      "input_shape:  500\n",
      "output_shape:  4\n"
     ]
    }
   ],
   "source": [
    "# I/O check\n",
    "input_shape = X_train.shape[1]\n",
    "print('input_shape: ', input_shape)\n",
    "\n",
    "output_shape = len(label_encoder.classes_)\n",
    "print('output_shape: ', output_shape)"
   ]
  },
  {
   "cell_type": "markdown",
   "metadata": {},
   "source": [
    "![Imgur](pics/pic2.png)"
   ]
  },
  {
   "cell_type": "code",
   "execution_count": 47,
   "metadata": {},
   "outputs": [
    {
     "name": "stdout",
     "output_type": "stream",
     "text": [
      "Model: \"model_1\"\n",
      "_________________________________________________________________\n",
      "Layer (type)                 Output Shape              Param #   \n",
      "=================================================================\n",
      "input_1 (InputLayer)         (None, 500)               0         \n",
      "_________________________________________________________________\n",
      "dense_1 (Dense)              (None, 64)                32064     \n",
      "_________________________________________________________________\n",
      "re_lu_1 (ReLU)               (None, 64)                0         \n",
      "_________________________________________________________________\n",
      "dense_2 (Dense)              (None, 64)                4160      \n",
      "_________________________________________________________________\n",
      "re_lu_2 (ReLU)               (None, 64)                0         \n",
      "_________________________________________________________________\n",
      "dense_3 (Dense)              (None, 4)                 260       \n",
      "_________________________________________________________________\n",
      "softmax_1 (Softmax)          (None, 4)                 0         \n",
      "=================================================================\n",
      "Total params: 36,484\n",
      "Trainable params: 36,484\n",
      "Non-trainable params: 0\n",
      "_________________________________________________________________\n"
     ]
    }
   ],
   "source": [
    "from keras.models import Model\n",
    "from keras.layers import Input, Dense\n",
    "from keras.layers import ReLU, Softmax\n",
    "\n",
    "# input layer\n",
    "model_input = Input(shape=(input_shape, ))  # 500\n",
    "X = model_input\n",
    "\n",
    "# 1st hidden layer\n",
    "X_W1 = Dense(units=64)(X)  # 64\n",
    "H1 = ReLU()(X_W1)\n",
    "\n",
    "# 2nd hidden layer\n",
    "H1_W2 = Dense(units=64)(H1)  # 64\n",
    "H2 = ReLU()(H1_W2)\n",
    "\n",
    "# output layer\n",
    "H2_W3 = Dense(units=output_shape)(H2)  # 4\n",
    "H3 = Softmax()(H2_W3)\n",
    "\n",
    "model_output = H3\n",
    "\n",
    "# create model\n",
    "model = Model(inputs=[model_input], outputs=[model_output])\n",
    "\n",
    "# loss function & optimizer\n",
    "model.compile(optimizer='adam',\n",
    "              loss='categorical_crossentropy',\n",
    "              metrics=['accuracy'])\n",
    "\n",
    "# show model construction\n",
    "model.summary()"
   ]
  },
  {
   "cell_type": "markdown",
   "metadata": {},
   "source": [
    "### 6.4 Train"
   ]
  },
  {
   "cell_type": "code",
   "execution_count": 48,
   "metadata": {},
   "outputs": [
    {
     "name": "stdout",
     "output_type": "stream",
     "text": [
      "WARNING:tensorflow:From C:\\Users\\Leaf\\anaconda3\\lib\\site-packages\\keras\\backend\\tensorflow_backend.py:422: The name tf.global_variables is deprecated. Please use tf.compat.v1.global_variables instead.\n",
      "\n",
      "Train on 3613 samples, validate on 347 samples\n",
      "Epoch 1/25\n",
      "3613/3613 [==============================] - 1s 149us/step - loss: 1.3304 - accuracy: 0.3651 - val_loss: 1.2803 - val_accuracy: 0.4236\n",
      "Epoch 2/25\n",
      "3613/3613 [==============================] - 0s 50us/step - loss: 0.9918 - accuracy: 0.6430 - val_loss: 0.9197 - val_accuracy: 0.6571\n",
      "Epoch 3/25\n",
      "3613/3613 [==============================] - 0s 46us/step - loss: 0.5835 - accuracy: 0.7872 - val_loss: 0.8061 - val_accuracy: 0.7032\n",
      "Epoch 4/25\n",
      "3613/3613 [==============================] - 0s 49us/step - loss: 0.4137 - accuracy: 0.8483 - val_loss: 0.7961 - val_accuracy: 0.6830\n",
      "Epoch 5/25\n",
      "3613/3613 [==============================] - 0s 50us/step - loss: 0.3240 - accuracy: 0.8807 - val_loss: 0.8775 - val_accuracy: 0.6772\n",
      "Epoch 6/25\n",
      "3613/3613 [==============================] - 0s 50us/step - loss: 0.2646 - accuracy: 0.9114 - val_loss: 0.9146 - val_accuracy: 0.6859\n",
      "Epoch 7/25\n",
      "3613/3613 [==============================] - 0s 52us/step - loss: 0.2155 - accuracy: 0.9267 - val_loss: 0.9876 - val_accuracy: 0.6657\n",
      "Epoch 8/25\n",
      "3613/3613 [==============================] - 0s 44us/step - loss: 0.1794 - accuracy: 0.9460 - val_loss: 1.0776 - val_accuracy: 0.6744\n",
      "Epoch 9/25\n",
      "3613/3613 [==============================] - 0s 45us/step - loss: 0.1564 - accuracy: 0.9529 - val_loss: 1.1143 - val_accuracy: 0.6772\n",
      "Epoch 10/25\n",
      "3613/3613 [==============================] - 0s 45us/step - loss: 0.1335 - accuracy: 0.9607 - val_loss: 1.1879 - val_accuracy: 0.6657\n",
      "Epoch 11/25\n",
      "3613/3613 [==============================] - 0s 44us/step - loss: 0.1218 - accuracy: 0.9654 - val_loss: 1.2656 - val_accuracy: 0.6686\n",
      "Epoch 12/25\n",
      "3613/3613 [==============================] - 0s 44us/step - loss: 0.1135 - accuracy: 0.9671 - val_loss: 1.3155 - val_accuracy: 0.6571\n",
      "Epoch 13/25\n",
      "3613/3613 [==============================] - 0s 43us/step - loss: 0.1070 - accuracy: 0.9668 - val_loss: 1.3448 - val_accuracy: 0.6455\n",
      "Epoch 14/25\n",
      "3613/3613 [==============================] - 0s 45us/step - loss: 0.0997 - accuracy: 0.9684 - val_loss: 1.4135 - val_accuracy: 0.6427\n",
      "Epoch 15/25\n",
      "3613/3613 [==============================] - 0s 43us/step - loss: 0.0939 - accuracy: 0.9718 - val_loss: 1.4132 - val_accuracy: 0.6484\n",
      "Epoch 16/25\n",
      "3613/3613 [==============================] - 0s 44us/step - loss: 0.0885 - accuracy: 0.9718 - val_loss: 1.4670 - val_accuracy: 0.6455\n",
      "Epoch 17/25\n",
      "3613/3613 [==============================] - 0s 49us/step - loss: 0.0847 - accuracy: 0.9748 - val_loss: 1.4890 - val_accuracy: 0.6484\n",
      "Epoch 18/25\n",
      "3613/3613 [==============================] - 0s 44us/step - loss: 0.0803 - accuracy: 0.9751 - val_loss: 1.5410 - val_accuracy: 0.6455\n",
      "Epoch 19/25\n",
      "3613/3613 [==============================] - 0s 48us/step - loss: 0.0799 - accuracy: 0.9743 - val_loss: 1.5815 - val_accuracy: 0.6484\n",
      "Epoch 20/25\n",
      "3613/3613 [==============================] - 0s 50us/step - loss: 0.0709 - accuracy: 0.9754 - val_loss: 1.5737 - val_accuracy: 0.6628\n",
      "Epoch 21/25\n",
      "3613/3613 [==============================] - 0s 47us/step - loss: 0.0752 - accuracy: 0.9743 - val_loss: 1.6395 - val_accuracy: 0.6455\n",
      "Epoch 22/25\n",
      "3613/3613 [==============================] - 0s 48us/step - loss: 0.0710 - accuracy: 0.9754 - val_loss: 1.6642 - val_accuracy: 0.6455\n",
      "Epoch 23/25\n",
      "3613/3613 [==============================] - 0s 51us/step - loss: 0.0694 - accuracy: 0.9745 - val_loss: 1.7166 - val_accuracy: 0.6542\n",
      "Epoch 24/25\n",
      "3613/3613 [==============================] - 0s 44us/step - loss: 0.0665 - accuracy: 0.9781 - val_loss: 1.7018 - val_accuracy: 0.6427\n",
      "Epoch 25/25\n",
      "3613/3613 [==============================] - 0s 44us/step - loss: 0.0673 - accuracy: 0.9756 - val_loss: 1.7322 - val_accuracy: 0.6427\n",
      "training finish\n"
     ]
    }
   ],
   "source": [
    "from keras.callbacks import CSVLogger\n",
    "\n",
    "csv_logger = CSVLogger('logs/training_log.csv')\n",
    "\n",
    "# training setting\n",
    "epochs = 25\n",
    "batch_size = 32\n",
    "\n",
    "# training!\n",
    "history = model.fit(X_train, y_train, \n",
    "                    epochs=epochs, \n",
    "                    batch_size=batch_size, \n",
    "                    callbacks=[csv_logger],\n",
    "                    validation_data = (X_test, y_test))\n",
    "print('training finish')"
   ]
  },
  {
   "cell_type": "markdown",
   "metadata": {},
   "source": [
    "### 6.5 Predict on testing data"
   ]
  },
  {
   "cell_type": "code",
   "execution_count": 49,
   "metadata": {},
   "outputs": [
    {
     "data": {
      "text/plain": [
       "array([[1.3204112e-03, 9.0062046e-01, 2.8543819e-03, 9.5204659e-02],\n",
       "       [9.9245971e-01, 7.3287077e-03, 2.0819709e-13, 2.1155860e-04],\n",
       "       [9.1912143e-04, 6.5441574e-03, 6.7307623e-03, 9.8580593e-01],\n",
       "       [1.1695545e-01, 2.6032559e-03, 8.7984079e-01, 6.0050527e-04],\n",
       "       [3.0139112e-04, 5.3575659e-05, 1.9974038e-08, 9.9964499e-01]],\n",
       "      dtype=float32)"
      ]
     },
     "execution_count": 49,
     "metadata": {},
     "output_type": "execute_result"
    }
   ],
   "source": [
    "## predict\n",
    "pred_result = model.predict(X_test, batch_size=128)\n",
    "pred_result[:5]"
   ]
  },
  {
   "cell_type": "code",
   "execution_count": 50,
   "metadata": {},
   "outputs": [
    {
     "data": {
      "text/plain": [
       "array(['fear', 'anger', 'sadness', 'joy', 'sadness'], dtype=object)"
      ]
     },
     "execution_count": 50,
     "metadata": {},
     "output_type": "execute_result"
    }
   ],
   "source": [
    "pred_result = label_decode(label_encoder, pred_result)\n",
    "pred_result[:5]"
   ]
  },
  {
   "cell_type": "code",
   "execution_count": 51,
   "metadata": {},
   "outputs": [
    {
     "name": "stdout",
     "output_type": "stream",
     "text": [
      "testing accuracy: 0.64\n"
     ]
    }
   ],
   "source": [
    "from sklearn.metrics import accuracy_score\n",
    "\n",
    "print('testing accuracy: {}'.format(round(accuracy_score(label_decode(label_encoder, y_test), pred_result), 2)))"
   ]
  },
  {
   "cell_type": "code",
   "execution_count": 52,
   "metadata": {},
   "outputs": [
    {
     "data": {
      "text/html": [
       "<div>\n",
       "<style scoped>\n",
       "    .dataframe tbody tr th:only-of-type {\n",
       "        vertical-align: middle;\n",
       "    }\n",
       "\n",
       "    .dataframe tbody tr th {\n",
       "        vertical-align: top;\n",
       "    }\n",
       "\n",
       "    .dataframe thead th {\n",
       "        text-align: right;\n",
       "    }\n",
       "</style>\n",
       "<table border=\"1\" class=\"dataframe\">\n",
       "  <thead>\n",
       "    <tr style=\"text-align: right;\">\n",
       "      <th></th>\n",
       "      <th>epoch</th>\n",
       "      <th>accuracy</th>\n",
       "      <th>loss</th>\n",
       "      <th>val_accuracy</th>\n",
       "      <th>val_loss</th>\n",
       "    </tr>\n",
       "  </thead>\n",
       "  <tbody>\n",
       "    <tr>\n",
       "      <th>0</th>\n",
       "      <td>0</td>\n",
       "      <td>0.365071</td>\n",
       "      <td>1.330413</td>\n",
       "      <td>0.423631</td>\n",
       "      <td>1.280341</td>\n",
       "    </tr>\n",
       "    <tr>\n",
       "      <th>1</th>\n",
       "      <td>1</td>\n",
       "      <td>0.642956</td>\n",
       "      <td>0.991835</td>\n",
       "      <td>0.657061</td>\n",
       "      <td>0.919749</td>\n",
       "    </tr>\n",
       "    <tr>\n",
       "      <th>2</th>\n",
       "      <td>2</td>\n",
       "      <td>0.787157</td>\n",
       "      <td>0.583488</td>\n",
       "      <td>0.703170</td>\n",
       "      <td>0.806141</td>\n",
       "    </tr>\n",
       "    <tr>\n",
       "      <th>3</th>\n",
       "      <td>3</td>\n",
       "      <td>0.848325</td>\n",
       "      <td>0.413725</td>\n",
       "      <td>0.682997</td>\n",
       "      <td>0.796116</td>\n",
       "    </tr>\n",
       "    <tr>\n",
       "      <th>4</th>\n",
       "      <td>4</td>\n",
       "      <td>0.880709</td>\n",
       "      <td>0.324011</td>\n",
       "      <td>0.677233</td>\n",
       "      <td>0.877509</td>\n",
       "    </tr>\n",
       "    <tr>\n",
       "      <th>5</th>\n",
       "      <td>5</td>\n",
       "      <td>0.911431</td>\n",
       "      <td>0.264559</td>\n",
       "      <td>0.685879</td>\n",
       "      <td>0.914589</td>\n",
       "    </tr>\n",
       "    <tr>\n",
       "      <th>6</th>\n",
       "      <td>6</td>\n",
       "      <td>0.926654</td>\n",
       "      <td>0.215451</td>\n",
       "      <td>0.665706</td>\n",
       "      <td>0.987609</td>\n",
       "    </tr>\n",
       "    <tr>\n",
       "      <th>7</th>\n",
       "      <td>7</td>\n",
       "      <td>0.946028</td>\n",
       "      <td>0.179384</td>\n",
       "      <td>0.674352</td>\n",
       "      <td>1.077647</td>\n",
       "    </tr>\n",
       "    <tr>\n",
       "      <th>8</th>\n",
       "      <td>8</td>\n",
       "      <td>0.952948</td>\n",
       "      <td>0.156432</td>\n",
       "      <td>0.677233</td>\n",
       "      <td>1.114305</td>\n",
       "    </tr>\n",
       "    <tr>\n",
       "      <th>9</th>\n",
       "      <td>9</td>\n",
       "      <td>0.960697</td>\n",
       "      <td>0.133545</td>\n",
       "      <td>0.665706</td>\n",
       "      <td>1.187935</td>\n",
       "    </tr>\n",
       "    <tr>\n",
       "      <th>10</th>\n",
       "      <td>10</td>\n",
       "      <td>0.965403</td>\n",
       "      <td>0.121775</td>\n",
       "      <td>0.668588</td>\n",
       "      <td>1.265550</td>\n",
       "    </tr>\n",
       "    <tr>\n",
       "      <th>11</th>\n",
       "      <td>11</td>\n",
       "      <td>0.967063</td>\n",
       "      <td>0.113519</td>\n",
       "      <td>0.657061</td>\n",
       "      <td>1.315504</td>\n",
       "    </tr>\n",
       "    <tr>\n",
       "      <th>12</th>\n",
       "      <td>12</td>\n",
       "      <td>0.966787</td>\n",
       "      <td>0.106996</td>\n",
       "      <td>0.645533</td>\n",
       "      <td>1.344766</td>\n",
       "    </tr>\n",
       "    <tr>\n",
       "      <th>13</th>\n",
       "      <td>13</td>\n",
       "      <td>0.968447</td>\n",
       "      <td>0.099739</td>\n",
       "      <td>0.642651</td>\n",
       "      <td>1.413460</td>\n",
       "    </tr>\n",
       "    <tr>\n",
       "      <th>14</th>\n",
       "      <td>14</td>\n",
       "      <td>0.971769</td>\n",
       "      <td>0.093888</td>\n",
       "      <td>0.648415</td>\n",
       "      <td>1.413237</td>\n",
       "    </tr>\n",
       "    <tr>\n",
       "      <th>15</th>\n",
       "      <td>15</td>\n",
       "      <td>0.971769</td>\n",
       "      <td>0.088534</td>\n",
       "      <td>0.645533</td>\n",
       "      <td>1.467032</td>\n",
       "    </tr>\n",
       "    <tr>\n",
       "      <th>16</th>\n",
       "      <td>16</td>\n",
       "      <td>0.974813</td>\n",
       "      <td>0.084685</td>\n",
       "      <td>0.648415</td>\n",
       "      <td>1.489010</td>\n",
       "    </tr>\n",
       "    <tr>\n",
       "      <th>17</th>\n",
       "      <td>17</td>\n",
       "      <td>0.975090</td>\n",
       "      <td>0.080312</td>\n",
       "      <td>0.645533</td>\n",
       "      <td>1.541015</td>\n",
       "    </tr>\n",
       "    <tr>\n",
       "      <th>18</th>\n",
       "      <td>18</td>\n",
       "      <td>0.974260</td>\n",
       "      <td>0.079949</td>\n",
       "      <td>0.648415</td>\n",
       "      <td>1.581451</td>\n",
       "    </tr>\n",
       "    <tr>\n",
       "      <th>19</th>\n",
       "      <td>19</td>\n",
       "      <td>0.975367</td>\n",
       "      <td>0.070921</td>\n",
       "      <td>0.662824</td>\n",
       "      <td>1.573743</td>\n",
       "    </tr>\n",
       "    <tr>\n",
       "      <th>20</th>\n",
       "      <td>20</td>\n",
       "      <td>0.974260</td>\n",
       "      <td>0.075248</td>\n",
       "      <td>0.645533</td>\n",
       "      <td>1.639501</td>\n",
       "    </tr>\n",
       "    <tr>\n",
       "      <th>21</th>\n",
       "      <td>21</td>\n",
       "      <td>0.975367</td>\n",
       "      <td>0.071025</td>\n",
       "      <td>0.645533</td>\n",
       "      <td>1.664223</td>\n",
       "    </tr>\n",
       "    <tr>\n",
       "      <th>22</th>\n",
       "      <td>22</td>\n",
       "      <td>0.974536</td>\n",
       "      <td>0.069403</td>\n",
       "      <td>0.654179</td>\n",
       "      <td>1.716618</td>\n",
       "    </tr>\n",
       "    <tr>\n",
       "      <th>23</th>\n",
       "      <td>23</td>\n",
       "      <td>0.978134</td>\n",
       "      <td>0.066509</td>\n",
       "      <td>0.642651</td>\n",
       "      <td>1.701822</td>\n",
       "    </tr>\n",
       "    <tr>\n",
       "      <th>24</th>\n",
       "      <td>24</td>\n",
       "      <td>0.975643</td>\n",
       "      <td>0.067258</td>\n",
       "      <td>0.642651</td>\n",
       "      <td>1.732237</td>\n",
       "    </tr>\n",
       "  </tbody>\n",
       "</table>\n",
       "</div>"
      ],
      "text/plain": [
       "    epoch  accuracy      loss  val_accuracy  val_loss\n",
       "0       0  0.365071  1.330413      0.423631  1.280341\n",
       "1       1  0.642956  0.991835      0.657061  0.919749\n",
       "2       2  0.787157  0.583488      0.703170  0.806141\n",
       "3       3  0.848325  0.413725      0.682997  0.796116\n",
       "4       4  0.880709  0.324011      0.677233  0.877509\n",
       "5       5  0.911431  0.264559      0.685879  0.914589\n",
       "6       6  0.926654  0.215451      0.665706  0.987609\n",
       "7       7  0.946028  0.179384      0.674352  1.077647\n",
       "8       8  0.952948  0.156432      0.677233  1.114305\n",
       "9       9  0.960697  0.133545      0.665706  1.187935\n",
       "10     10  0.965403  0.121775      0.668588  1.265550\n",
       "11     11  0.967063  0.113519      0.657061  1.315504\n",
       "12     12  0.966787  0.106996      0.645533  1.344766\n",
       "13     13  0.968447  0.099739      0.642651  1.413460\n",
       "14     14  0.971769  0.093888      0.648415  1.413237\n",
       "15     15  0.971769  0.088534      0.645533  1.467032\n",
       "16     16  0.974813  0.084685      0.648415  1.489010\n",
       "17     17  0.975090  0.080312      0.645533  1.541015\n",
       "18     18  0.974260  0.079949      0.648415  1.581451\n",
       "19     19  0.975367  0.070921      0.662824  1.573743\n",
       "20     20  0.974260  0.075248      0.645533  1.639501\n",
       "21     21  0.975367  0.071025      0.645533  1.664223\n",
       "22     22  0.974536  0.069403      0.654179  1.716618\n",
       "23     23  0.978134  0.066509      0.642651  1.701822\n",
       "24     24  0.975643  0.067258      0.642651  1.732237"
      ]
     },
     "execution_count": 52,
     "metadata": {},
     "output_type": "execute_result"
    }
   ],
   "source": [
    "#Let's take a look at the training log\n",
    "training_log = pd.DataFrame()\n",
    "training_log = pd.read_csv(\"logs/training_log.csv\")\n",
    "training_log"
   ]
  },
  {
   "cell_type": "markdown",
   "metadata": {},
   "source": [
    "---\n",
    "### ** >>> Exercise 6 (Take home): **  \n",
    "\n",
    "Plot the Training and Validation Accuracy and Loss (different plots), just like the images below (Note: the pictures below are an example from a different model). How to interpret the graphs you got? How are they related to the concept of overfitting/underfitting covered in class?\n",
    "<table><tr>\n",
    "    <td><img src=\"pics/pic3.png\" style=\"width: 300px;\"/> </td>\n",
    "    <td><img src=\"pics/pic4.png\" style=\"width: 300px;\"/> </td>\n",
    "</tr></table>"
   ]
  },
  {
   "cell_type": "code",
   "execution_count": 71,
   "metadata": {},
   "outputs": [],
   "source": [
    "# Answer here\n",
    "epoch = training_log.iloc[:,0]\n",
    "acc = training_log.iloc[:,1]\n",
    "loss = training_log.iloc[:,2]\n",
    "val_acc = training_log.iloc[:,3]\n",
    "val_loss = training_log.iloc[:,4]"
   ]
  },
  {
   "cell_type": "code",
   "execution_count": 74,
   "metadata": {},
   "outputs": [
    {
     "data": {
      "image/png": "[encoded data removed]",
      "text/plain": [
       "<Figure size 432x288 with 1 Axes>"
      ]
     },
     "metadata": {
      "needs_background": "light"
     },
     "output_type": "display_data"
    }
   ],
   "source": [
    "plt.plot(acc,'b-',label=\"Train accuracy\")\n",
    "plt.plot(val_acc,'r-',label=\"Val accuracy\")\n",
    "plt.legend()\n",
    "plt.show()"
   ]
  },
  {
   "cell_type": "code",
   "execution_count": 75,
   "metadata": {},
   "outputs": [
    {
     "data": {
      "image/png": "[encoded data removed]",
      "text/plain": [
       "<Figure size 432x288 with 1 Axes>"
      ]
     },
     "metadata": {
      "needs_background": "light"
     },
     "output_type": "display_data"
    }
   ],
   "source": [
    "plt.plot(loss,'b-',label=\"Train accuracy\")\n",
    "plt.plot(val_loss,'r-',label=\"Val accuracy\")\n",
    "plt.legend()\n",
    "plt.show()"
   ]
  },
  {
   "cell_type": "markdown",
   "metadata": {},
   "source": [
    "---"
   ]
  },
  {
   "cell_type": "markdown",
   "metadata": {},
   "source": [
    "### Note\n",
    "\n",
    "If you don't have a GPU (level is higher than GTX 1060) or you are not good at setting lots of things about computer, we recommend you to use the [kaggle kernel](https://www.kaggle.com/kernels) to do deep learning model training. They have already installed all the librarys and provided free GPU for you to use.\n",
    "\n",
    "Note however that you will only be able to run a kernel for 6 hours. After 6 hours of inactivity, your Kaggle kernel will shut down (meaning if your model takes more than 6 hours to train, you can't train it at once).\n",
    "\n",
    "\n",
    "### More Information for your reference\n",
    "\n",
    "* Keras document: https://keras.io/\n",
    "* Keras GitHub example: https://github.com/keras-team/keras/tree/master/examples\n",
    "* CS229: Machine Learning: http://cs229.stanford.edu/syllabus.html\n",
    "* Deep Learning cheatsheet: https://stanford.edu/~shervine/teaching/cs-229/cheatsheet-deep-learning\n",
    "* If you want to try TensorFlow or PyTorch: https://pytorch.org/tutorials/\n",
    "https://www.tensorflow.org/tutorials/quickstart/beginner"
   ]
  },
  {
   "cell_type": "markdown",
   "metadata": {},
   "source": [
    "---\n",
    "## 7. Word2Vector\n",
    "\n",
    "We will introduce how to use `gensim` to train your word2vec model and how to load a pre-trained model.\n",
    "\n",
    "https://radimrehurek.com/gensim/index.html"
   ]
  },
  {
   "cell_type": "markdown",
   "metadata": {},
   "source": [
    "### 7.1 Prepare training corpus"
   ]
  },
  {
   "cell_type": "code",
   "execution_count": 78,
   "metadata": {},
   "outputs": [
    {
     "ename": "AttributeError",
     "evalue": "module 'smart_open' has no attribute 'local_file'",
     "output_type": "error",
     "traceback": [
      "\u001b[1;31m---------------------------------------------------------------------------\u001b[0m",
      "\u001b[1;31mAttributeError\u001b[0m                            Traceback (most recent call last)",
      "\u001b[1;32m<ipython-input-78-096585a38fdf>\u001b[0m in \u001b[0;36m<module>\u001b[1;34m\u001b[0m\n\u001b[0;32m      1\u001b[0m \u001b[1;31m## check library\u001b[0m\u001b[1;33m\u001b[0m\u001b[1;33m\u001b[0m\u001b[1;33m\u001b[0m\u001b[0m\n\u001b[1;32m----> 2\u001b[1;33m \u001b[1;32mimport\u001b[0m \u001b[0mgensim\u001b[0m\u001b[1;33m\u001b[0m\u001b[1;33m\u001b[0m\u001b[0m\n\u001b[0m\u001b[0;32m      3\u001b[0m \u001b[1;33m\u001b[0m\u001b[0m\n\u001b[0;32m      4\u001b[0m \u001b[1;31m## ignore warnings\u001b[0m\u001b[1;33m\u001b[0m\u001b[1;33m\u001b[0m\u001b[1;33m\u001b[0m\u001b[0m\n\u001b[0;32m      5\u001b[0m \u001b[1;32mimport\u001b[0m \u001b[0mwarnings\u001b[0m\u001b[1;33m\u001b[0m\u001b[1;33m\u001b[0m\u001b[0m\n",
      "\u001b[1;32m~\\anaconda3\\lib\\site-packages\\gensim\\__init__.py\u001b[0m in \u001b[0;36m<module>\u001b[1;34m\u001b[0m\n\u001b[0;32m      3\u001b[0m \"\"\"\n\u001b[0;32m      4\u001b[0m \u001b[1;33m\u001b[0m\u001b[0m\n\u001b[1;32m----> 5\u001b[1;33m \u001b[1;32mfrom\u001b[0m \u001b[0mgensim\u001b[0m \u001b[1;32mimport\u001b[0m \u001b[0mparsing\u001b[0m\u001b[1;33m,\u001b[0m \u001b[0mcorpora\u001b[0m\u001b[1;33m,\u001b[0m \u001b[0mmatutils\u001b[0m\u001b[1;33m,\u001b[0m \u001b[0minterfaces\u001b[0m\u001b[1;33m,\u001b[0m \u001b[0mmodels\u001b[0m\u001b[1;33m,\u001b[0m \u001b[0msimilarities\u001b[0m\u001b[1;33m,\u001b[0m \u001b[0msummarization\u001b[0m\u001b[1;33m,\u001b[0m \u001b[0mutils\u001b[0m  \u001b[1;31m# noqa:F401\u001b[0m\u001b[1;33m\u001b[0m\u001b[1;33m\u001b[0m\u001b[0m\n\u001b[0m\u001b[0;32m      6\u001b[0m \u001b[1;32mimport\u001b[0m \u001b[0mlogging\u001b[0m\u001b[1;33m\u001b[0m\u001b[1;33m\u001b[0m\u001b[0m\n\u001b[0;32m      7\u001b[0m \u001b[1;33m\u001b[0m\u001b[0m\n",
      "\u001b[1;32m~\\anaconda3\\lib\\site-packages\\gensim\\parsing\\__init__.py\u001b[0m in \u001b[0;36m<module>\u001b[1;34m\u001b[0m\n\u001b[0;32m      2\u001b[0m \u001b[1;33m\u001b[0m\u001b[0m\n\u001b[0;32m      3\u001b[0m \u001b[1;32mfrom\u001b[0m \u001b[1;33m.\u001b[0m\u001b[0mporter\u001b[0m \u001b[1;32mimport\u001b[0m \u001b[0mPorterStemmer\u001b[0m  \u001b[1;31m# noqa:F401\u001b[0m\u001b[1;33m\u001b[0m\u001b[1;33m\u001b[0m\u001b[0m\n\u001b[1;32m----> 4\u001b[1;33m from .preprocessing import (remove_stopwords, strip_punctuation, strip_punctuation2,  # noqa:F401\n\u001b[0m\u001b[0;32m      5\u001b[0m                             \u001b[0mstrip_tags\u001b[0m\u001b[1;33m,\u001b[0m \u001b[0mstrip_short\u001b[0m\u001b[1;33m,\u001b[0m \u001b[0mstrip_numeric\u001b[0m\u001b[1;33m,\u001b[0m\u001b[1;33m\u001b[0m\u001b[1;33m\u001b[0m\u001b[0m\n\u001b[0;32m      6\u001b[0m                             \u001b[0mstrip_non_alphanum\u001b[0m\u001b[1;33m,\u001b[0m \u001b[0mstrip_multiple_whitespaces\u001b[0m\u001b[1;33m,\u001b[0m\u001b[1;33m\u001b[0m\u001b[1;33m\u001b[0m\u001b[0m\n",
      "\u001b[1;32m~\\anaconda3\\lib\\site-packages\\gensim\\parsing\\preprocessing.py\u001b[0m in \u001b[0;36m<module>\u001b[1;34m\u001b[0m\n\u001b[0;32m     40\u001b[0m \u001b[1;32mimport\u001b[0m \u001b[0mglob\u001b[0m\u001b[1;33m\u001b[0m\u001b[1;33m\u001b[0m\u001b[0m\n\u001b[0;32m     41\u001b[0m \u001b[1;33m\u001b[0m\u001b[0m\n\u001b[1;32m---> 42\u001b[1;33m \u001b[1;32mfrom\u001b[0m \u001b[0mgensim\u001b[0m \u001b[1;32mimport\u001b[0m \u001b[0mutils\u001b[0m\u001b[1;33m\u001b[0m\u001b[1;33m\u001b[0m\u001b[0m\n\u001b[0m\u001b[0;32m     43\u001b[0m \u001b[1;32mfrom\u001b[0m \u001b[0mgensim\u001b[0m\u001b[1;33m.\u001b[0m\u001b[0mparsing\u001b[0m\u001b[1;33m.\u001b[0m\u001b[0mporter\u001b[0m \u001b[1;32mimport\u001b[0m \u001b[0mPorterStemmer\u001b[0m\u001b[1;33m\u001b[0m\u001b[1;33m\u001b[0m\u001b[0m\n\u001b[0;32m     44\u001b[0m \u001b[1;33m\u001b[0m\u001b[0m\n",
      "\u001b[1;32m~\\anaconda3\\lib\\site-packages\\gensim\\utils.py\u001b[0m in \u001b[0;36m<module>\u001b[1;34m\u001b[0m\n\u001b[0;32m     43\u001b[0m \u001b[1;32mfrom\u001b[0m \u001b[0msix\u001b[0m\u001b[1;33m.\u001b[0m\u001b[0mmoves\u001b[0m \u001b[1;32mimport\u001b[0m \u001b[0mrange\u001b[0m\u001b[1;33m\u001b[0m\u001b[1;33m\u001b[0m\u001b[0m\n\u001b[0;32m     44\u001b[0m \u001b[1;33m\u001b[0m\u001b[0m\n\u001b[1;32m---> 45\u001b[1;33m \u001b[1;32mfrom\u001b[0m \u001b[0msmart_open\u001b[0m \u001b[1;32mimport\u001b[0m \u001b[0mopen\u001b[0m\u001b[1;33m\u001b[0m\u001b[1;33m\u001b[0m\u001b[0m\n\u001b[0m\u001b[0;32m     46\u001b[0m \u001b[1;33m\u001b[0m\u001b[0m\n\u001b[0;32m     47\u001b[0m \u001b[1;32mfrom\u001b[0m \u001b[0mmultiprocessing\u001b[0m \u001b[1;32mimport\u001b[0m \u001b[0mcpu_count\u001b[0m\u001b[1;33m\u001b[0m\u001b[1;33m\u001b[0m\u001b[0m\n",
      "\u001b[1;32m~\\anaconda3\\lib\\site-packages\\smart_open\\__init__.py\u001b[0m in \u001b[0;36m<module>\u001b[1;34m\u001b[0m\n\u001b[0;32m     32\u001b[0m \u001b[1;33m\u001b[0m\u001b[0m\n\u001b[0;32m     33\u001b[0m \u001b[1;32mfrom\u001b[0m \u001b[0msmart_open\u001b[0m \u001b[1;32mimport\u001b[0m \u001b[0mversion\u001b[0m  \u001b[1;31m# noqa: E402\u001b[0m\u001b[1;33m\u001b[0m\u001b[1;33m\u001b[0m\u001b[0m\n\u001b[1;32m---> 34\u001b[1;33m \u001b[1;32mfrom\u001b[0m \u001b[1;33m.\u001b[0m\u001b[0msmart_open_lib\u001b[0m \u001b[1;32mimport\u001b[0m \u001b[0mopen\u001b[0m\u001b[1;33m,\u001b[0m \u001b[0mparse_uri\u001b[0m\u001b[1;33m,\u001b[0m \u001b[0msmart_open\u001b[0m\u001b[1;33m,\u001b[0m \u001b[0mregister_compressor\u001b[0m  \u001b[1;31m# noqa: E402\u001b[0m\u001b[1;33m\u001b[0m\u001b[1;33m\u001b[0m\u001b[0m\n\u001b[0m\u001b[0;32m     35\u001b[0m \u001b[1;33m\u001b[0m\u001b[0m\n\u001b[0;32m     36\u001b[0m _WARNING = \"\"\"smart_open.s3_iter_bucket is deprecated and will stop functioning\n",
      "\u001b[1;32m~\\anaconda3\\lib\\site-packages\\smart_open\\smart_open_lib.py\u001b[0m in \u001b[0;36m<module>\u001b[1;34m\u001b[0m\n\u001b[0;32m     33\u001b[0m \u001b[1;33m\u001b[0m\u001b[0m\n\u001b[0;32m     34\u001b[0m \u001b[1;32mfrom\u001b[0m \u001b[0msmart_open\u001b[0m \u001b[1;32mimport\u001b[0m \u001b[0mcompression\u001b[0m\u001b[1;33m\u001b[0m\u001b[1;33m\u001b[0m\u001b[0m\n\u001b[1;32m---> 35\u001b[1;33m \u001b[1;32mfrom\u001b[0m \u001b[0msmart_open\u001b[0m \u001b[1;32mimport\u001b[0m \u001b[0mdoctools\u001b[0m\u001b[1;33m\u001b[0m\u001b[1;33m\u001b[0m\u001b[0m\n\u001b[0m\u001b[0;32m     36\u001b[0m \u001b[1;32mfrom\u001b[0m \u001b[0msmart_open\u001b[0m \u001b[1;32mimport\u001b[0m \u001b[0mtransport\u001b[0m\u001b[1;33m\u001b[0m\u001b[1;33m\u001b[0m\u001b[0m\n\u001b[0;32m     37\u001b[0m \u001b[1;33m\u001b[0m\u001b[0m\n",
      "\u001b[1;32m~\\anaconda3\\lib\\site-packages\\smart_open\\doctools.py\u001b[0m in \u001b[0;36m<module>\u001b[1;34m\u001b[0m\n\u001b[0;32m     19\u001b[0m \u001b[1;33m\u001b[0m\u001b[0m\n\u001b[0;32m     20\u001b[0m \u001b[1;32mfrom\u001b[0m \u001b[1;33m.\u001b[0m \u001b[1;32mimport\u001b[0m \u001b[0mcompression\u001b[0m\u001b[1;33m\u001b[0m\u001b[1;33m\u001b[0m\u001b[0m\n\u001b[1;32m---> 21\u001b[1;33m \u001b[1;32mfrom\u001b[0m \u001b[1;33m.\u001b[0m \u001b[1;32mimport\u001b[0m \u001b[0mtransport\u001b[0m\u001b[1;33m\u001b[0m\u001b[1;33m\u001b[0m\u001b[0m\n\u001b[0m\u001b[0;32m     22\u001b[0m \u001b[1;33m\u001b[0m\u001b[0m\n\u001b[0;32m     23\u001b[0m \u001b[0mPLACEHOLDER\u001b[0m \u001b[1;33m=\u001b[0m \u001b[1;34m'    smart_open/doctools.py magic goes here'\u001b[0m\u001b[1;33m\u001b[0m\u001b[1;33m\u001b[0m\u001b[0m\n",
      "\u001b[1;32m~\\anaconda3\\lib\\site-packages\\smart_open\\transport.py\u001b[0m in \u001b[0;36m<module>\u001b[1;34m\u001b[0m\n\u001b[0;32m     20\u001b[0m \u001b[0mNO_SCHEME\u001b[0m \u001b[1;33m=\u001b[0m \u001b[1;34m''\u001b[0m\u001b[1;33m\u001b[0m\u001b[1;33m\u001b[0m\u001b[0m\n\u001b[0;32m     21\u001b[0m \u001b[1;33m\u001b[0m\u001b[0m\n\u001b[1;32m---> 22\u001b[1;33m \u001b[0m_REGISTRY\u001b[0m \u001b[1;33m=\u001b[0m \u001b[1;33m{\u001b[0m\u001b[0mNO_SCHEME\u001b[0m\u001b[1;33m:\u001b[0m \u001b[0msmart_open\u001b[0m\u001b[1;33m.\u001b[0m\u001b[0mlocal_file\u001b[0m\u001b[1;33m}\u001b[0m\u001b[1;33m\u001b[0m\u001b[1;33m\u001b[0m\u001b[0m\n\u001b[0m\u001b[0;32m     23\u001b[0m \u001b[0m_ERRORS\u001b[0m \u001b[1;33m=\u001b[0m \u001b[1;33m{\u001b[0m\u001b[1;33m}\u001b[0m\u001b[1;33m\u001b[0m\u001b[1;33m\u001b[0m\u001b[0m\n\u001b[0;32m     24\u001b[0m _MISSING_DEPS_ERROR = \"\"\"You are trying to use the %(module)s functionality of smart_open\n",
      "\u001b[1;31mAttributeError\u001b[0m: module 'smart_open' has no attribute 'local_file'"
     ]
    }
   ],
   "source": [
    "## check library\n",
    "import gensim\n",
    "\n",
    "## ignore warnings\n",
    "import warnings\n",
    "warnings.filterwarnings('ignore')\n",
    "\n",
    "# # if you want to see the training messages, you can use it\n",
    "# import logging\n",
    "# logging.basicConfig(format='%(asctime)s : %(levelname)s : %(message)s', level=logging.INFO)\n",
    "\n",
    "## the input type\n",
    "train_df['text_tokenized'] = train_df['text'].apply(lambda x: nltk.word_tokenize(x))\n",
    "train_df[['id', 'text', 'text_tokenized']].head()"
   ]
  },
  {
   "cell_type": "code",
   "execution_count": 46,
   "metadata": {},
   "outputs": [
    {
     "data": {
      "text/plain": [
       "array([list(['Tomorrow', 'is', 'going', 'to', 'be', 'a', 'challenge', ',', 'I', 'have', 'to', 'talk', 'at', 'a', 'freshers', 'fair', 'to', 'STRANGERS', '😁and', 'pick', 'up', 'my', 'new', 'flat', 'keys']),\n",
       "       list(['Look', 'forward', 'to', 'the', 'detours', 'because', 'they', 'bring', 'delightful', 'surprises', '.', '#', 'lifequote']),\n",
       "       list(['@', 'JasonMillerinDC', '@', 'realDonaldTrump', 'Prudence', 'suggests', 'that', 'a', '8+', '%', 'bump', 'over', '2-3', 'weeks', 'should', 'be', 'viewed', 'with', 'SKEPTICISM', '.', 'Media/HRC', 'axis', '#', 'angry'])],\n",
       "      dtype=object)"
      ]
     },
     "execution_count": 46,
     "metadata": {},
     "output_type": "execute_result"
    }
   ],
   "source": [
    "## create the training corpus\n",
    "training_corpus = train_df['text_tokenized'].values\n",
    "training_corpus[:3]"
   ]
  },
  {
   "cell_type": "markdown",
   "metadata": {},
   "source": [
    "### 7.2 Training our model\n",
    "\n",
    "You can try to train your own model. More details: https://radimrehurek.com/gensim/models/word2vec.html"
   ]
  },
  {
   "cell_type": "code",
   "execution_count": 47,
   "metadata": {},
   "outputs": [
    {
     "data": {
      "text/html": [
       "<div>\n",
       "<style scoped>\n",
       "    .dataframe tbody tr th:only-of-type {\n",
       "        vertical-align: middle;\n",
       "    }\n",
       "\n",
       "    .dataframe tbody tr th {\n",
       "        vertical-align: top;\n",
       "    }\n",
       "\n",
       "    .dataframe thead th {\n",
       "        text-align: right;\n",
       "    }\n",
       "</style>\n",
       "<table border=\"1\" class=\"dataframe\">\n",
       "  <thead>\n",
       "    <tr style=\"text-align: right;\">\n",
       "      <th></th>\n",
       "      <th>id</th>\n",
       "      <th>text</th>\n",
       "      <th>text_tokenized</th>\n",
       "    </tr>\n",
       "  </thead>\n",
       "  <tbody>\n",
       "    <tr>\n",
       "      <th>1244</th>\n",
       "      <td>20387</td>\n",
       "      <td>Tomorrow is going to be a challenge, I have to...</td>\n",
       "      <td>[Tomorrow, is, going, to, be, a, challenge, ,,...</td>\n",
       "    </tr>\n",
       "    <tr>\n",
       "      <th>2171</th>\n",
       "      <td>30167</td>\n",
       "      <td>Look forward to the detours because they bring...</td>\n",
       "      <td>[Look, forward, to, the, detours, because, the...</td>\n",
       "    </tr>\n",
       "    <tr>\n",
       "      <th>241</th>\n",
       "      <td>10241</td>\n",
       "      <td>@JasonMillerinDC @realDonaldTrump Prudence sug...</td>\n",
       "      <td>[@, JasonMillerinDC, @, realDonaldTrump, Prude...</td>\n",
       "    </tr>\n",
       "    <tr>\n",
       "      <th>731</th>\n",
       "      <td>10731</td>\n",
       "      <td>@EAMaddenNFL @EASPORTS I played a game where J...</td>\n",
       "      <td>[@, EAMaddenNFL, @, EASPORTS, I, played, a, ga...</td>\n",
       "    </tr>\n",
       "    <tr>\n",
       "      <th>3001</th>\n",
       "      <td>40174</td>\n",
       "      <td>@KatHeartwell some don't see the difference be...</td>\n",
       "      <td>[@, KatHeartwell, some, do, n't, see, the, dif...</td>\n",
       "    </tr>\n",
       "  </tbody>\n",
       "</table>\n",
       "</div>"
      ],
      "text/plain": [
       "         id                                               text  \\\n",
       "1244  20387  Tomorrow is going to be a challenge, I have to...   \n",
       "2171  30167  Look forward to the detours because they bring...   \n",
       "241   10241  @JasonMillerinDC @realDonaldTrump Prudence sug...   \n",
       "731   10731  @EAMaddenNFL @EASPORTS I played a game where J...   \n",
       "3001  40174  @KatHeartwell some don't see the difference be...   \n",
       "\n",
       "                                         text_tokenized  \n",
       "1244  [Tomorrow, is, going, to, be, a, challenge, ,,...  \n",
       "2171  [Look, forward, to, the, detours, because, the...  \n",
       "241   [@, JasonMillerinDC, @, realDonaldTrump, Prude...  \n",
       "731   [@, EAMaddenNFL, @, EASPORTS, I, played, a, ga...  \n",
       "3001  [@, KatHeartwell, some, do, n't, see, the, dif...  "
      ]
     },
     "execution_count": 47,
     "metadata": {},
     "output_type": "execute_result"
    }
   ],
   "source": [
    "## the input type\n",
    "train_df['text_tokenized'] = train_df['text'].apply(lambda x: nltk.word_tokenize(x))\n",
    "train_df[['id', 'text', 'text_tokenized']].head()"
   ]
  },
  {
   "cell_type": "code",
   "execution_count": 48,
   "metadata": {
    "scrolled": true
   },
   "outputs": [],
   "source": [
    "from gensim.models import Word2Vec\n",
    "\n",
    "## setting\n",
    "vector_dim = 100\n",
    "window_size = 5\n",
    "min_count = 1\n",
    "training_iter = 20\n",
    "\n",
    "## model\n",
    "word2vec_model = Word2Vec(sentences=training_corpus, \n",
    "                          size=vector_dim, window=window_size, \n",
    "                          min_count=min_count, iter=training_iter)"
   ]
  },
  {
   "cell_type": "markdown",
   "metadata": {},
   "source": [
    "![Imgur](https://i.imgur.com/Fca3MCs.png)"
   ]
  },
  {
   "cell_type": "markdown",
   "metadata": {},
   "source": [
    "### 7.3 Generating word vector (embeddings)"
   ]
  },
  {
   "cell_type": "code",
   "execution_count": 49,
   "metadata": {},
   "outputs": [
    {
     "data": {
      "text/plain": [
       "array([-1.19423449e-01, -1.82709128e-01,  5.72801769e-01, -6.05170906e-01,\n",
       "       -9.26902294e-01,  1.36440367e-01, -9.12223816e-01, -2.14189410e-01,\n",
       "        1.45948660e-02, -1.38683587e-01,  4.85660583e-01, -1.78548798e-01,\n",
       "        2.84892589e-01,  3.40622187e-01, -1.51844136e-03,  6.09040141e-01,\n",
       "        3.60224366e-01, -2.89301157e-01, -1.60337925e-01, -2.89812595e-01,\n",
       "        5.23234010e-01,  2.30317906e-01, -2.46878579e-01, -2.26987004e-01,\n",
       "        1.96448434e-02,  1.20098956e-01,  3.27298224e-01, -1.05720669e-01,\n",
       "       -1.55736446e+00, -6.03508770e-01,  1.01762033e+00,  2.35541284e-01,\n",
       "       -1.40550330e-01, -2.98561245e-01,  9.31452692e-01, -8.72513711e-01,\n",
       "       -1.12406090e-01, -2.73425609e-01,  2.70266205e-01, -5.37294805e-01,\n",
       "       -6.25581563e-01, -3.88157964e-01,  3.79510045e-01,  8.72594953e-01,\n",
       "       -1.18767522e-01, -3.68110746e-01, -1.06912768e+00, -5.67880929e-01,\n",
       "        4.99532342e-01,  5.24815083e-01, -6.93297923e-01, -5.35572648e-01,\n",
       "       -3.20859104e-01, -5.62157869e-01, -6.93154514e-01, -4.87557292e-01,\n",
       "       -9.32313427e-02, -4.95861053e-01, -1.02671337e+00, -3.09879124e-01,\n",
       "       -5.35277724e-01,  7.76765123e-02, -4.16643173e-01,  3.05958420e-01,\n",
       "        2.56458640e-01,  9.18145925e-02,  2.67302632e-01, -2.39196137e-01,\n",
       "        9.14046094e-02, -1.51655853e-01,  9.35065746e-02, -8.58105719e-01,\n",
       "        1.74446791e-01, -2.34969273e-01, -1.04057491e-01, -4.90679502e-01,\n",
       "        5.08487642e-01, -8.27422917e-01, -4.03589070e-01,  9.12456393e-01,\n",
       "       -2.22498506e-01, -7.52780586e-02,  6.98684216e-01, -6.40315711e-01,\n",
       "       -3.63659114e-01,  1.65306315e-01, -4.75034304e-02, -1.19923562e-01,\n",
       "       -6.87953651e-01, -4.74294871e-01, -7.35013664e-01,  1.67647272e-01,\n",
       "        2.23191425e-01, -7.28704691e-01, -4.60981369e-01, -4.19122189e-01,\n",
       "       -6.52044296e-01,  2.41302773e-01,  1.31714940e-01,  4.61564809e-02],\n",
       "      dtype=float32)"
      ]
     },
     "execution_count": 49,
     "metadata": {},
     "output_type": "execute_result"
    }
   ],
   "source": [
    "# get the corresponding vector of a word\n",
    "word_vec = word2vec_model.wv['happy']\n",
    "word_vec"
   ]
  },
  {
   "cell_type": "code",
   "execution_count": 50,
   "metadata": {},
   "outputs": [
    {
     "data": {
      "text/plain": [
       "[('help', 0.9421035051345825),\n",
       " ('cant', 0.9407065510749817),\n",
       " ('.\\\\nA', 0.94025719165802),\n",
       " ('birthday', 0.9388319849967957),\n",
       " ('establishment', 0.9368715286254883),\n",
       " (\"'you\", 0.9362553954124451),\n",
       " ('tones', 0.9348230361938477),\n",
       " ('win', 0.9335157871246338),\n",
       " ('plz', 0.9334697723388672),\n",
       " ('kinda', 0.9329609870910645)]"
      ]
     },
     "execution_count": 50,
     "metadata": {},
     "output_type": "execute_result"
    }
   ],
   "source": [
    "# Get the most similar words\n",
    "word = 'happy'\n",
    "topn = 10\n",
    "word2vec_model.most_similar(word, topn=topn)"
   ]
  },
  {
   "cell_type": "markdown",
   "metadata": {},
   "source": [
    "### 7.4 Using a pre-trained w2v model\n",
    "\n",
    "Instead of training your own model ,you can use a model that has already been trained. Here, we see 2 ways of doing that:\n",
    "\n",
    "\n",
    "#### (1) Download model by yourself\n",
    "\n",
    "source: [GoogleNews-vectors-negative300](https://code.google.com/archive/p/word2vec/)\n",
    "\n",
    "more details: https://radimrehurek.com/gensim/models/keyedvectors.html"
   ]
  },
  {
   "cell_type": "code",
   "execution_count": 51,
   "metadata": {},
   "outputs": [
    {
     "name": "stdout",
     "output_type": "stream",
     "text": [
      "load ok\n"
     ]
    },
    {
     "data": {
      "text/plain": [
       "[('glad', 0.7408890724182129),\n",
       " ('pleased', 0.6632170677185059),\n",
       " ('ecstatic', 0.6626912355422974),\n",
       " ('overjoyed', 0.6599286794662476),\n",
       " ('thrilled', 0.6514049768447876),\n",
       " ('satisfied', 0.6437948942184448),\n",
       " ('proud', 0.636042058467865),\n",
       " ('delighted', 0.6272379159927368),\n",
       " ('disappointed', 0.6269949674606323),\n",
       " ('excited', 0.6247665882110596)]"
      ]
     },
     "execution_count": 51,
     "metadata": {},
     "output_type": "execute_result"
    }
   ],
   "source": [
    "from gensim.models import KeyedVectors\n",
    "\n",
    "## Note: this model is very huge, this will take some time ...\n",
    "model_path = \"GoogleNews/GoogleNews-vectors-negative300.bin.gz\"\n",
    "w2v_google_model = KeyedVectors.load_word2vec_format(model_path, binary=True)\n",
    "print('load ok')\n",
    "\n",
    "w2v_google_model.most_similar('happy', topn=10)"
   ]
  },
  {
   "cell_type": "markdown",
   "metadata": {},
   "source": [
    "#### (2) Using gensim api\n",
    "\n",
    "Other pretrained models are available here: https://github.com/RaRe-Technologies/gensim-data"
   ]
  },
  {
   "cell_type": "code",
   "execution_count": 52,
   "metadata": {},
   "outputs": [
    {
     "name": "stdout",
     "output_type": "stream",
     "text": [
      "load ok\n"
     ]
    },
    {
     "data": {
      "text/plain": [
       "[('birthday', 0.9577817916870117),\n",
       " ('thank', 0.9376667141914368),\n",
       " ('welcome', 0.93361496925354),\n",
       " ('love', 0.9176183938980103),\n",
       " ('miss', 0.916450023651123),\n",
       " ('hello', 0.9158351421356201),\n",
       " ('thanks', 0.9150084853172302),\n",
       " ('merry', 0.9053248167037964),\n",
       " ('bless', 0.902732253074646),\n",
       " ('wish', 0.9013164639472961)]"
      ]
     },
     "execution_count": 52,
     "metadata": {},
     "output_type": "execute_result"
    }
   ],
   "source": [
    "import gensim.downloader as api\n",
    "\n",
    "## If you see `SSL: CERTIFICATE_VERIFY_FAILED` error, use this:\n",
    "import ssl\n",
    "import urllib.request\n",
    "ssl._create_default_https_context = ssl._create_unverified_context\n",
    "\n",
    "glove_twitter_25_model = api.load(\"glove-twitter-25\")\n",
    "print('load ok')\n",
    "\n",
    "glove_twitter_25_model.most_similar('happy', topn=10)"
   ]
  },
  {
   "cell_type": "markdown",
   "metadata": {},
   "source": [
    "### 7.5 king + woman - man = ?"
   ]
  },
  {
   "cell_type": "markdown",
   "metadata": {},
   "source": [
    "Let's run one of the most famous examples for Word2Vec and compute the similarity between these 3 words:"
   ]
  },
  {
   "cell_type": "code",
   "execution_count": 53,
   "metadata": {},
   "outputs": [
    {
     "data": {
      "text/plain": [
       "[('queen', 0.7118192911148071),\n",
       " ('monarch', 0.6189674139022827),\n",
       " ('princess', 0.5902431607246399),\n",
       " ('crown_prince', 0.5499460697174072),\n",
       " ('prince', 0.5377321243286133),\n",
       " ('kings', 0.5236844420433044),\n",
       " ('Queen_Consort', 0.5235945582389832),\n",
       " ('queens', 0.5181134343147278),\n",
       " ('sultan', 0.5098593235015869),\n",
       " ('monarchy', 0.5087411999702454)]"
      ]
     },
     "execution_count": 53,
     "metadata": {},
     "output_type": "execute_result"
    }
   ],
   "source": [
    "w2v_google_model.most_similar(positive=['king', 'woman'], negative=['man'])"
   ]
  },
  {
   "cell_type": "markdown",
   "metadata": {},
   "source": [
    "---\n",
    "### ** >>> Exercise 7 (Take home): **  \n",
    "\n",
    "Now, we have the word vectors, but our input data is a sequence of words (or say sentence). \n",
    "How can we utilize these \"word\" vectors to represent the sentence data and train our model?\n"
   ]
  },
  {
   "cell_type": "code",
   "execution_count": 54,
   "metadata": {},
   "outputs": [],
   "source": [
    "# Answer here\n"
   ]
  },
  {
   "cell_type": "markdown",
   "metadata": {},
   "source": [
    "### 8. Clustering: k-means\n",
    "\n",
    "Here we introduce how to use `sklearn` to do the basic **unsupervised learning** approach, k-means.    \n",
    "\n",
    "more details: http://scikit-learn.org/stable/modules/generated/sklearn.cluster.KMeans.html\n"
   ]
  },
  {
   "cell_type": "markdown",
   "metadata": {},
   "source": [
    "#### Basic concept\n",
    "\n",
    "![Image](https://i.imgur.com/PEdUf54.png)\n",
    "\n",
    "(img source: https://towardsdatascience.com/k-means-clustering-identifying-f-r-i-e-n-d-s-in-the-world-of-strangers-695537505d)"
   ]
  },
  {
   "cell_type": "code",
   "execution_count": 55,
   "metadata": {},
   "outputs": [
    {
     "name": "stdout",
     "output_type": "stream",
     "text": [
      "target words:  ['happy', 'fear', 'angry', 'car', 'teacher', 'computer']\n"
     ]
    }
   ],
   "source": [
    "# clustering target\n",
    "target_list = ['happy', 'fear', 'angry', 'car', 'teacher', 'computer']\n",
    "print('target words: ', target_list)\n",
    "\n",
    "# convert to word vector\n",
    "X = [word2vec_model.wv[word] for word in target_list]"
   ]
  },
  {
   "cell_type": "code",
   "execution_count": 56,
   "metadata": {},
   "outputs": [
    {
     "name": "stdout",
     "output_type": "stream",
     "text": [
      "word: happy \t cluster: 0\n",
      "word: fear \t cluster: 0\n",
      "word: angry \t cluster: 0\n",
      "word: car \t cluster: 1\n",
      "word: teacher \t cluster: 1\n",
      "word: computer \t cluster: 1\n"
     ]
    }
   ],
   "source": [
    "from sklearn.cluster import KMeans\n",
    "\n",
    "# we have to decide how many cluster (k) we want\n",
    "k = 2\n",
    "\n",
    "# k-means model\n",
    "kmeans_model = KMeans(n_clusters=k)\n",
    "kmeans_model.fit(X)\n",
    "\n",
    "# cluster result\n",
    "cluster_result = kmeans_model.labels_\n",
    "\n",
    "# show\n",
    "for i in range(len(target_list)):\n",
    "    print('word: {} \\t cluster: {}'.format(target_list[i], cluster_result[i]))"
   ]
  },
  {
   "cell_type": "markdown",
   "metadata": {},
   "source": [
    "![Imgur](pics/pic6.png)"
   ]
  },
  {
   "cell_type": "code",
   "execution_count": 57,
   "metadata": {},
   "outputs": [
    {
     "data": {
      "text/plain": [
       "array([1], dtype=int32)"
      ]
     },
     "execution_count": 57,
     "metadata": {},
     "output_type": "execute_result"
    }
   ],
   "source": [
    "#check cluster membership\n",
    "word = 'student'\n",
    "word_vec = word2vec_model.wv[word]\n",
    "kmeans_model.predict([word_vec])"
   ]
  },
  {
   "cell_type": "code",
   "execution_count": 58,
   "metadata": {},
   "outputs": [
    {
     "data": {
      "text/plain": [
       "array([0], dtype=int32)"
      ]
     },
     "execution_count": 58,
     "metadata": {},
     "output_type": "execute_result"
    }
   ],
   "source": [
    "#check cluster membership\n",
    "word = 'sad'\n",
    "word_vec = word2vec_model.wv[word]\n",
    "kmeans_model.predict([word_vec])"
   ]
  },
  {
   "cell_type": "markdown",
   "metadata": {},
   "source": [
    "\n",
    "## 9. High-dimension Visualization: t-SNE\n",
    "\n",
    "No matter if you use the Bag-of-words, tf-idf, or word2vec, it's very hard to see the embedding result, because the dimension is larger than 3.  \n",
    "\n",
    "In Lab 1, we already talked about PCA. We can use PCA to reduce the dimension of our data, then visualize it. However, if you dig deeper into the result, you'd find it is insufficient...\n",
    "\n",
    "Our aim will be to create a visualization similar to the one below:"
   ]
  },
  {
   "cell_type": "markdown",
   "metadata": {},
   "source": [
    "  "
   ]
  },
  {
   "cell_type": "markdown",
   "metadata": {},
   "source": [
    "![Image](pics/pic7.png)\n",
    "source: https://www.fabian-keller.de/research/high-dimensional-data-visualization "
   ]
  },
  {
   "cell_type": "markdown",
   "metadata": {},
   "source": [
    "  "
   ]
  },
  {
   "cell_type": "markdown",
   "metadata": {},
   "source": [
    "Here we would like to introduce another visualization method called t-SNE.  \n",
    "http://scikit-learn.org/stable/modules/generated/sklearn.manifold.TSNE.html "
   ]
  },
  {
   "cell_type": "markdown",
   "metadata": {},
   "source": [
    "### 9.1 Prepare visualizing target"
   ]
  },
  {
   "cell_type": "markdown",
   "metadata": {},
   "source": [
    "Let's repare data lists like:\n",
    "    - happpy words\n",
    "    - angry words\n",
    "    - data words\n",
    "    - mining words"
   ]
  },
  {
   "cell_type": "code",
   "execution_count": 59,
   "metadata": {},
   "outputs": [
    {
     "name": "stdout",
     "output_type": "stream",
     "text": [
      "happy_words:  ['happy', 'glad', 'pleased', 'ecstatic', 'overjoyed', 'thrilled']\n",
      "angry_words:  ['angry', 'irate', 'enraged', 'indignant', 'incensed', 'annoyed']\n",
      "data_words:  ['data', 'Data', 'datasets', 'dataset', 'databases', 'statistics']\n",
      "mining_words:  ['mining', 'Mining', 'mines', 'coal_mining', 'mine', 'miner']\n",
      "\n",
      "target words: \n",
      "['happy', 'glad', 'pleased', 'ecstatic', 'overjoyed', 'thrilled', 'angry', 'irate', 'enraged', 'indignant', 'incensed', 'annoyed', 'data', 'Data', 'datasets', 'dataset', 'databases', 'statistics', 'mining', 'Mining', 'mines', 'coal_mining', 'mine', 'miner']\n",
      "\n",
      "color list:\n",
      "['b', 'b', 'b', 'b', 'b', 'b', 'g', 'g', 'g', 'g', 'g', 'g', 'r', 'r', 'r', 'r', 'r', 'r', 'y', 'y', 'y', 'y', 'y', 'y']\n"
     ]
    }
   ],
   "source": [
    "word_list = ['happy', 'angry', 'data', 'mining']\n",
    "\n",
    "topn = 5\n",
    "happy_words = ['happy'] + [word_ for word_, sim_ in w2v_google_model.most_similar('happy', topn=topn)]\n",
    "angry_words = ['angry'] + [word_ for word_, sim_ in w2v_google_model.most_similar('angry', topn=topn)]        \n",
    "data_words = ['data'] + [word_ for word_, sim_ in w2v_google_model.most_similar('data', topn=topn)]        \n",
    "mining_words = ['mining'] + [word_ for word_, sim_ in w2v_google_model.most_similar('mining', topn=topn)]        \n",
    "\n",
    "print('happy_words: ', happy_words)\n",
    "print('angry_words: ', angry_words)\n",
    "print('data_words: ', data_words)\n",
    "print('mining_words: ', mining_words)\n",
    "\n",
    "target_words = happy_words + angry_words + data_words + mining_words\n",
    "print('\\ntarget words: ')\n",
    "print(target_words)\n",
    "\n",
    "print('\\ncolor list:')\n",
    "cn = topn + 1\n",
    "color = ['b'] * cn + ['g'] * cn + ['r'] * cn + ['y'] * cn\n",
    "print(color)"
   ]
  },
  {
   "cell_type": "markdown",
   "metadata": {},
   "source": [
    "### 9.1 Plot using t-SNE (2-dimension)"
   ]
  },
  {
   "cell_type": "code",
   "execution_count": 60,
   "metadata": {},
   "outputs": [
    {
     "data": {
      "image/png": "[encoded data removed]",
      "text/plain": [
       "<Figure size 862.5x862.5 with 1 Axes>"
      ]
     },
     "metadata": {
      "needs_background": "light"
     },
     "output_type": "display_data"
    }
   ],
   "source": [
    "%matplotlib inline\n",
    "import matplotlib.pyplot as plt\n",
    "from sklearn.manifold import TSNE\n",
    "\n",
    "## w2v model\n",
    "model = w2v_google_model\n",
    "\n",
    "## prepare training word vectors\n",
    "size = 200\n",
    "target_size = len(target_words)\n",
    "all_word = list(model.vocab.keys())\n",
    "word_train = target_words + all_word[:size]\n",
    "X_train = model[word_train]\n",
    "\n",
    "## t-SNE model\n",
    "tsne = TSNE(n_components=2, metric='cosine', random_state=28)\n",
    "\n",
    "## training\n",
    "X_tsne = tsne.fit_transform(X_train)\n",
    "\n",
    "## plot the result\n",
    "plt.figure(figsize=(7.5, 7.5), dpi=115)\n",
    "plt.scatter(X_tsne[:target_size, 0], X_tsne[:target_size, 1], c=color)\n",
    "for label, x, y in zip(target_words, X_tsne[:target_size, 0], X_tsne[:target_size, 1]):\n",
    "    plt.annotate(label, xy=(x,y), xytext=(0,0),  textcoords='offset points')\n",
    "plt.show()"
   ]
  },
  {
   "cell_type": "markdown",
   "metadata": {},
   "source": [
    "---\n",
    "### ** >>> Exercise 8 (Take home): **  \n",
    "\n",
    "Generate a t-SNE visualization to show the 15 words most related to the words \"angry\", \"happy\", \"sad\", \"fear\" (60 words total)."
   ]
  },
  {
   "cell_type": "code",
   "execution_count": 61,
   "metadata": {},
   "outputs": [],
   "source": [
    "# Answer here\n"
   ]
  },
  {
   "cell_type": "markdown",
   "metadata": {},
   "source": [
    "---"
   ]
  }
 ],
 "metadata": {
  "kernelspec": {
   "display_name": "Python 3",
   "language": "python",
   "name": "python3"
  },
  "language_info": {
   "codemirror_mode": {
    "name": "ipython",
    "version": 3
   },
   "file_extension": ".py",
   "mimetype": "text/x-python",
   "name": "python",
   "nbconvert_exporter": "python",
   "pygments_lexer": "ipython3",
   "version": "3.7.9"
  },
  "varInspector": {
   "cols": {
    "lenName": 16,
    "lenType": 16,
    "lenVar": 40
   },
   "kernels_config": {
    "python": {
     "delete_cmd_postfix": "",
     "delete_cmd_prefix": "del ",
     "library": "var_list.py",
     "varRefreshCmd": "print(var_dic_list())"
    },
    "r": {
     "delete_cmd_postfix": ") ",
     "delete_cmd_prefix": "rm(",
     "library": "var_list.r",
     "varRefreshCmd": "cat(var_dic_list()) "
    }
   },
   "oldHeight": 594.85,
   "position": {
    "height": "40px",
    "left": "723px",
    "right": "20px",
    "top": "80px",
    "width": "250px"
   },
   "types_to_exclude": [
    "module",
    "function",
    "builtin_function_or_method",
    "instance",
    "_Feature"
   ],
   "varInspector_section_display": "none",
   "window_display": true
  }
 },
 "nbformat": 4,
 "nbformat_minor": 2
}
