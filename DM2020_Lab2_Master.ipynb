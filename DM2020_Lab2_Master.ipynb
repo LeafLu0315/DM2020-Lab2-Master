{
 "cells": [
  {
   "cell_type": "markdown",
   "metadata": {},
   "source": [
    "# Data Mining Lab 2\n",
    "In this lab session we will focus on the use of Neural Word Embeddings "
   ]
  },
  {
   "cell_type": "markdown",
   "metadata": {},
   "source": [
    "## Table of Contents\n",
    "1. Data preparation\n",
    "2. Feature engineering\n",
    "3. Model\n",
    "4. Results evaluation\n",
    "5. Other things you could try\n",
    "6. Deep Learning\n",
    "7. Word to Vector\n",
    "8. Clustering\n",
    "9. High-dimension Visualization\n",
    "\n"
   ]
  },
  {
   "cell_type": "markdown",
   "metadata": {},
   "source": [
    "### Necessary Library Requirements:\n",
    "\n",
    "#### Same as Lab1:\n",
    "- [Jupyter](http://jupyter.org/) (Strongly recommended but not required)\n",
    "    - Install via `pip3 install jupyter` and use `jupyter notebook` in terminal to run\n",
    "- [Scikit Learn](http://scikit-learn.org/stable/index.html)\n",
    "    - Install via `pip3 sklearn` from a terminal\n",
    "- [Pandas](http://pandas.pydata.org/)\n",
    "    - Install via `pip3 install pandas` from a terminal\n",
    "- [Numpy](http://www.numpy.org/)\n",
    "    - Install via `pip3 install numpy` from a terminal\n",
    "- [Matplotlib](https://matplotlib.org/)\n",
    "    - Install via `pip3 maplotlib` from a terminal\n",
    "- [Plotly](https://plot.ly/)\n",
    "    - Install via `pip3 install plotly` from a terminal\n",
    "- [Seaborn](https://seaborn.pydata.org/)\n",
    "    - Install and signup for `seaborn`\n",
    "- [NLTK](http://www.nltk.org/)\n",
    "    - Install via `pip3 install nltk` from a terminal\n",
    "    \n",
    "#### New Libraries to intsall:\n",
    "- [Gensim](https://pypi.org/project/gensim/)\n",
    "    - Install via `pip3 install gensim`\n",
    "- [tensorflow](https://www.tensorflow.org/)\n",
    "    - Install via `pip3 install tensorflow=1.15`\n",
    "    - Also install `pip3 install tensorflow-hub`\n",
    "- [Keras](https://keras.io/)\n",
    "    - Install via `pip3 install keras`\n",
    "    \n",
    "                                                                                            \n",
    "                                                                                           "
   ]
  },
  {
   "cell_type": "markdown",
   "metadata": {},
   "source": [
    "---\n",
    "## Introduction"
   ]
  },
  {
   "cell_type": "markdown",
   "metadata": {},
   "source": [
    "**Dataset:** [SemEval 2017 Task](https://competitions.codalab.org/competitions/16380)\n",
    "\n",
    "**Task:** Classify text data into 4 different emotions using word embedding and other deep information retrieval approaches.\n",
    "\n",
    "![pic0](pics/pic0.png)"
   ]
  },
  {
   "cell_type": "markdown",
   "metadata": {},
   "source": [
    "---\n",
    "## 1. Data Preparation"
   ]
  },
  {
   "cell_type": "markdown",
   "metadata": {},
   "source": [
    "Before beggining the lab, please make sure to download the [Google News Dataset](https://drive.google.com/file/d/0B7XkCwpI5KDYNlNUTTlSS21pQmM/edit) and place it in a folder named \"GoogleNews\" in the same directory as this file."
   ]
  },
  {
   "cell_type": "markdown",
   "metadata": {},
   "source": [
    "## 1.1 Load data\n",
    "\n",
    "We start by loading the csv files into a single pandas dataframe for training and one for testing."
   ]
  },
  {
   "cell_type": "code",
   "execution_count": 1,
   "metadata": {},
   "outputs": [],
   "source": [
    "import pandas as pd\n",
    "\n",
    "### training data\n",
    "anger_train = pd.read_csv(\"data/semeval/train/anger-ratings-0to1.train.txt\",\n",
    "                         sep=\"\\t\", header=None,names=[\"id\", \"text\", \"emotion\", \"intensity\"])\n",
    "sadness_train = pd.read_csv(\"data/semeval/train/sadness-ratings-0to1.train.txt\",\n",
    "                         sep=\"\\t\", header=None, names=[\"id\", \"text\", \"emotion\", \"intensity\"])\n",
    "fear_train = pd.read_csv(\"data/semeval/train/fear-ratings-0to1.train.txt\",\n",
    "                         sep=\"\\t\", header=None, names=[\"id\", \"text\", \"emotion\", \"intensity\"])\n",
    "joy_train = pd.read_csv(\"data/semeval/train/joy-ratings-0to1.train.txt\",\n",
    "                         sep=\"\\t\", header=None, names=[\"id\", \"text\", \"emotion\", \"intensity\"])"
   ]
  },
  {
   "cell_type": "code",
   "execution_count": 2,
   "metadata": {},
   "outputs": [],
   "source": [
    "# combine 4 sub-dataset\n",
    "train_df = pd.concat([anger_train, fear_train, joy_train, sadness_train], ignore_index=True)"
   ]
  },
  {
   "cell_type": "code",
   "execution_count": 3,
   "metadata": {},
   "outputs": [
    {
     "data": {
      "text/html": [
       "<div>\n",
       "<style scoped>\n",
       "    .dataframe tbody tr th:only-of-type {\n",
       "        vertical-align: middle;\n",
       "    }\n",
       "\n",
       "    .dataframe tbody tr th {\n",
       "        vertical-align: top;\n",
       "    }\n",
       "\n",
       "    .dataframe thead th {\n",
       "        text-align: right;\n",
       "    }\n",
       "</style>\n",
       "<table border=\"1\" class=\"dataframe\">\n",
       "  <thead>\n",
       "    <tr style=\"text-align: right;\">\n",
       "      <th></th>\n",
       "      <th>id</th>\n",
       "      <th>text</th>\n",
       "      <th>emotion</th>\n",
       "      <th>intensity</th>\n",
       "    </tr>\n",
       "  </thead>\n",
       "  <tbody>\n",
       "    <tr>\n",
       "      <th>0</th>\n",
       "      <td>10000</td>\n",
       "      <td>How the fu*k! Who the heck! moved my fridge!.....</td>\n",
       "      <td>anger</td>\n",
       "      <td>0.938</td>\n",
       "    </tr>\n",
       "    <tr>\n",
       "      <th>1</th>\n",
       "      <td>10001</td>\n",
       "      <td>So my Indian Uber driver just called someone t...</td>\n",
       "      <td>anger</td>\n",
       "      <td>0.896</td>\n",
       "    </tr>\n",
       "    <tr>\n",
       "      <th>2</th>\n",
       "      <td>10002</td>\n",
       "      <td>@DPD_UK I asked for my parcel to be delivered ...</td>\n",
       "      <td>anger</td>\n",
       "      <td>0.896</td>\n",
       "    </tr>\n",
       "    <tr>\n",
       "      <th>3</th>\n",
       "      <td>10003</td>\n",
       "      <td>so ef whichever butt wipe pulled the fire alar...</td>\n",
       "      <td>anger</td>\n",
       "      <td>0.896</td>\n",
       "    </tr>\n",
       "    <tr>\n",
       "      <th>4</th>\n",
       "      <td>10004</td>\n",
       "      <td>Don't join @BTCare they put the phone down on ...</td>\n",
       "      <td>anger</td>\n",
       "      <td>0.896</td>\n",
       "    </tr>\n",
       "  </tbody>\n",
       "</table>\n",
       "</div>"
      ],
      "text/plain": [
       "      id                                               text emotion  intensity\n",
       "0  10000  How the fu*k! Who the heck! moved my fridge!.....   anger      0.938\n",
       "1  10001  So my Indian Uber driver just called someone t...   anger      0.896\n",
       "2  10002  @DPD_UK I asked for my parcel to be delivered ...   anger      0.896\n",
       "3  10003  so ef whichever butt wipe pulled the fire alar...   anger      0.896\n",
       "4  10004  Don't join @BTCare they put the phone down on ...   anger      0.896"
      ]
     },
     "execution_count": 3,
     "metadata": {},
     "output_type": "execute_result"
    }
   ],
   "source": [
    "### testing data\n",
    "anger_test = pd.read_csv(\"data/semeval/dev/anger-ratings-0to1.dev.gold.txt\",\n",
    "                         sep=\"\\t\", header=None, names=[\"id\", \"text\", \"emotion\", \"intensity\"])\n",
    "sadness_test = pd.read_csv(\"data/semeval/dev/sadness-ratings-0to1.dev.gold.txt\",\n",
    "                         sep=\"\\t\", header=None, names=[\"id\", \"text\", \"emotion\", \"intensity\"])\n",
    "fear_test = pd.read_csv(\"data/semeval/dev/fear-ratings-0to1.dev.gold.txt\",\n",
    "                         sep=\"\\t\", header=None, names=[\"id\", \"text\", \"emotion\", \"intensity\"])\n",
    "joy_test = pd.read_csv(\"data/semeval/dev/joy-ratings-0to1.dev.gold.txt\",\n",
    "                         sep=\"\\t\", header=None, names=[\"id\", \"text\", \"emotion\", \"intensity\"])\n",
    "\n",
    "# combine 4 sub-dataset\n",
    "test_df = pd.concat([anger_test, fear_test, joy_test, sadness_test], ignore_index=True)\n",
    "train_df.head()"
   ]
  },
  {
   "cell_type": "code",
   "execution_count": 4,
   "metadata": {},
   "outputs": [
    {
     "data": {
      "text/html": [
       "<div>\n",
       "<style scoped>\n",
       "    .dataframe tbody tr th:only-of-type {\n",
       "        vertical-align: middle;\n",
       "    }\n",
       "\n",
       "    .dataframe tbody tr th {\n",
       "        vertical-align: top;\n",
       "    }\n",
       "\n",
       "    .dataframe thead th {\n",
       "        text-align: right;\n",
       "    }\n",
       "</style>\n",
       "<table border=\"1\" class=\"dataframe\">\n",
       "  <thead>\n",
       "    <tr style=\"text-align: right;\">\n",
       "      <th></th>\n",
       "      <th>id</th>\n",
       "      <th>text</th>\n",
       "      <th>emotion</th>\n",
       "      <th>intensity</th>\n",
       "    </tr>\n",
       "  </thead>\n",
       "  <tbody>\n",
       "    <tr>\n",
       "      <th>0</th>\n",
       "      <td>10857</td>\n",
       "      <td>@ZubairSabirPTI  pls dont insult the word 'Molna'</td>\n",
       "      <td>anger</td>\n",
       "      <td>0.479</td>\n",
       "    </tr>\n",
       "    <tr>\n",
       "      <th>1</th>\n",
       "      <td>10858</td>\n",
       "      <td>@ArcticFantasy I would have almost took offens...</td>\n",
       "      <td>anger</td>\n",
       "      <td>0.458</td>\n",
       "    </tr>\n",
       "    <tr>\n",
       "      <th>2</th>\n",
       "      <td>10859</td>\n",
       "      <td>@IllinoisLoyalty that Rutgers game was an abom...</td>\n",
       "      <td>anger</td>\n",
       "      <td>0.562</td>\n",
       "    </tr>\n",
       "    <tr>\n",
       "      <th>3</th>\n",
       "      <td>10860</td>\n",
       "      <td>@CozanGaming that's what lisa asked before she...</td>\n",
       "      <td>anger</td>\n",
       "      <td>0.500</td>\n",
       "    </tr>\n",
       "    <tr>\n",
       "      <th>4</th>\n",
       "      <td>10861</td>\n",
       "      <td>Sometimes I get mad over something so minuscul...</td>\n",
       "      <td>anger</td>\n",
       "      <td>0.708</td>\n",
       "    </tr>\n",
       "  </tbody>\n",
       "</table>\n",
       "</div>"
      ],
      "text/plain": [
       "      id                                               text emotion  intensity\n",
       "0  10857  @ZubairSabirPTI  pls dont insult the word 'Molna'   anger      0.479\n",
       "1  10858  @ArcticFantasy I would have almost took offens...   anger      0.458\n",
       "2  10859  @IllinoisLoyalty that Rutgers game was an abom...   anger      0.562\n",
       "3  10860  @CozanGaming that's what lisa asked before she...   anger      0.500\n",
       "4  10861  Sometimes I get mad over something so minuscul...   anger      0.708"
      ]
     },
     "execution_count": 4,
     "metadata": {},
     "output_type": "execute_result"
    }
   ],
   "source": [
    "test_df.head()"
   ]
  },
  {
   "cell_type": "code",
   "execution_count": 5,
   "metadata": {},
   "outputs": [],
   "source": [
    "# shuffle dataset\n",
    "train_df = train_df.sample(frac=1)\n",
    "test_df = test_df.sample(frac=1)"
   ]
  },
  {
   "cell_type": "code",
   "execution_count": 6,
   "metadata": {
    "scrolled": true
   },
   "outputs": [
    {
     "name": "stdout",
     "output_type": "stream",
     "text": [
      "Shape of Training df:  (3613, 4)\n",
      "Shape of Testing df:  (347, 4)\n"
     ]
    }
   ],
   "source": [
    "print(\"Shape of Training df: \", train_df.shape)\n",
    "print(\"Shape of Testing df: \", test_df.shape)"
   ]
  },
  {
   "cell_type": "markdown",
   "metadata": {},
   "source": [
    "---\n",
    "### ** >>> Exercise 1 (Take home): **  \n",
    "Plot word frequency for Top 30 words in both train and test dataset. (Hint: refer to DM lab 1)\n"
   ]
  },
  {
   "cell_type": "code",
   "execution_count": 7,
   "metadata": {},
   "outputs": [
    {
     "data": {
      "text/plain": [
       "{'#rocklandcounty': 1,\n",
       " 'get': 162,\n",
       " 'to': 1273,\n",
       " 'ravis': 1,\n",
       " 'in': 588,\n",
       " 'suffern,': 1,\n",
       " 'ny.': 1,\n",
       " 'Great': 5,\n",
       " 'food,': 2,\n",
       " 'new': 53,\n",
       " '#chef,': 1,\n",
       " 'terrific': 12,\n",
       " 'atmosphere.': 1,\n",
       " 'Say': 1,\n",
       " \"'twitter'\": 1,\n",
       " 'server': 2,\n",
       " 'and': 912,\n",
       " 'free': 8,\n",
       " '#appetizer': 1,\n",
       " '@politico': 2,\n",
       " '@realDonaldTrump': 20,\n",
       " 'another': 24,\n",
       " 'angry': 22,\n",
       " 'white': 16,\n",
       " 'man!': 1,\n",
       " '@talkRobyn': 2,\n",
       " 'oh': 12,\n",
       " 'dear': 4,\n",
       " 'I': 1042,\n",
       " 'have': 290,\n",
       " 'watch': 37,\n",
       " 'this': 275,\n",
       " 'the': 1585,\n",
       " 'woman': 16,\n",
       " 'with': 272,\n",
       " 'pout': 29,\n",
       " 'did': 54,\n",
       " 'well': 18,\n",
       " '@CBSThisMorning': 2,\n",
       " '@newsgirl123456': 2,\n",
       " 'again,': 2,\n",
       " 'profiling': 2,\n",
       " \"DOESN'T\": 2,\n",
       " 'discourage': 10,\n",
       " '(September': 2,\n",
       " '20,': 2,\n",
       " '2016;': 2,\n",
       " '18:41': 2,\n",
       " 'EDT)': 2,\n",
       " '#TRUMP': 2,\n",
       " '#FAIL': 2,\n",
       " '@holly_lolly7': 1,\n",
       " 'just': 238,\n",
       " 'serious': 17,\n",
       " 'respect': 6,\n",
       " 'for': 431,\n",
       " 'any': 50,\n",
       " 'man': 40,\n",
       " 'that': 419,\n",
       " 'can': 138,\n",
       " 'pull': 1,\n",
       " 'off': 65,\n",
       " 'a': 1145,\n",
       " 'bun': 1,\n",
       " 'better': 31,\n",
       " 'than': 61,\n",
       " 'can,': 2,\n",
       " 'like': 216,\n",
       " 'maybe': 22,\n",
       " 'they': 122,\n",
       " 'teach': 3,\n",
       " 'me': 304,\n",
       " 'their': 76,\n",
       " 'ways.': 2,\n",
       " '@brendancoots': 1,\n",
       " \"where's\": 1,\n",
       " 'your': 209,\n",
       " 'outrage': 12,\n",
       " 'party': 8,\n",
       " 'nominated': 1,\n",
       " 'lying,': 1,\n",
       " 'corrupt': 1,\n",
       " 'person?': 1,\n",
       " 'And': 36,\n",
       " 'received': 8,\n",
       " 'donations': 1,\n",
       " 'from': 172,\n",
       " 'nations': 1,\n",
       " 'who': 93,\n",
       " 'support': 9,\n",
       " 'terror': 13,\n",
       " '@makai_kishi_': 1,\n",
       " 'Her': 3,\n",
       " 'eyes': 6,\n",
       " 'stayed': 17,\n",
       " 'glued': 1,\n",
       " 'monitor,': 1,\n",
       " 'not': 263,\n",
       " 'turning': 3,\n",
       " 'away': 29,\n",
       " 'anything': 31,\n",
       " 'You': 68,\n",
       " 'sure': 26,\n",
       " 'lot': 11,\n",
       " 'say': 33,\n",
       " 'about': 184,\n",
       " 'something': 39,\n",
       " \"doesn't\": 27,\n",
       " 'even': 63,\n",
       " 'concern': 12,\n",
       " 'you': 567,\n",
       " '😉': 3,\n",
       " 'Can': 18,\n",
       " 'someone': 56,\n",
       " 'make': 82,\n",
       " 'priority': 2,\n",
       " 'list': 2,\n",
       " 'of': 778,\n",
       " 'which': 30,\n",
       " 'things': 27,\n",
       " 'should': 59,\n",
       " 'be': 340,\n",
       " 'outraged': 3,\n",
       " 'at': 249,\n",
       " '+': 11,\n",
       " 'order?': 2,\n",
       " '#outrage': 8,\n",
       " '#racism': 3,\n",
       " '#animalrights': 2,\n",
       " '#abortion': 2,\n",
       " '#cops': 2,\n",
       " 'A': 53,\n",
       " 'hearty': 15,\n",
       " 'welcome': 2,\n",
       " 'those': 37,\n",
       " 'followed': 2,\n",
       " 'me.': 26,\n",
       " '@WYSdaily': 2,\n",
       " \"I'm\": 238,\n",
       " 'confident': 4,\n",
       " 'will': 152,\n",
       " 'NEVER': 4,\n",
       " 'experience': 11,\n",
       " 'our': 105,\n",
       " 'successes': 2,\n",
       " 'last': 36,\n",
       " '50yrs.': 2,\n",
       " 'Best': 5,\n",
       " 'hope': 22,\n",
       " 'is': 757,\n",
       " 'Bournemouth': 2,\n",
       " 'im': 41,\n",
       " 'also': 29,\n",
       " 'definitely': 6,\n",
       " 'still': 83,\n",
       " 'bitter': 15,\n",
       " 'yellow': 1,\n",
       " 'ranger': 1,\n",
       " 'being': 66,\n",
       " 'asian,': 1,\n",
       " 'but': 242,\n",
       " 'asian': 1,\n",
       " 'representation': 1,\n",
       " 'hollywood': 1,\n",
       " 'essentially': 1,\n",
       " 'shrug': 1,\n",
       " 'anyway': 3,\n",
       " '@Markgatiss': 3,\n",
       " 'surrounded': 3,\n",
       " 'by': 171,\n",
       " 'Trump': 21,\n",
       " 'voters.': 3,\n",
       " \"You're\": 9,\n",
       " 'right,': 3,\n",
       " 'it': 359,\n",
       " 'fucking': 45,\n",
       " 'terrifying.': 3,\n",
       " '#redstate': 3,\n",
       " 'so': 279,\n",
       " 'sad': 24,\n",
       " 'when': 157,\n",
       " 'person': 21,\n",
       " 'love': 69,\n",
       " 'try': 20,\n",
       " 'fighting': 10,\n",
       " 'happiness,': 1,\n",
       " \"you'd\": 6,\n",
       " 'do': 122,\n",
       " 'them.': 6,\n",
       " 'Indignation:': 1,\n",
       " '[whispers': 1,\n",
       " 'date': 5,\n",
       " 'during': 13,\n",
       " 'Lerman/Letts': 1,\n",
       " 'centerpiece': 1,\n",
       " 'scene]': 1,\n",
       " \"That's\": 13,\n",
       " 'his': 105,\n",
       " 'overwhelming': 1,\n",
       " 'sense': 13,\n",
       " 'indignation.': 2,\n",
       " 'Watch': 54,\n",
       " 'amazing': 66,\n",
       " 'live.ly': 54,\n",
       " 'broadcast': 54,\n",
       " '@kana_blender': 2,\n",
       " '#lively': 29,\n",
       " '#musically': 53,\n",
       " 'Queen': 1,\n",
       " 'Bey': 1,\n",
       " 'smiling': 13,\n",
       " 'over': 70,\n",
       " 'sixth': 2,\n",
       " 'afternoon': 6,\n",
       " 'Floofel.i': 1,\n",
       " 'wonder': 13,\n",
       " 'if': 154,\n",
       " 'mother': 4,\n",
       " 'knows': 10,\n",
       " 'how': 92,\n",
       " 'dark': 16,\n",
       " 'humor': 1,\n",
       " 'be.Needs': 1,\n",
       " 'realize': 7,\n",
       " 'much': 56,\n",
       " 'butt': 3,\n",
       " 'Apple': 1,\n",
       " 'is.': 2,\n",
       " 'Pastels': 1,\n",
       " 'cats.cutie': 1,\n",
       " 'pie.': 1,\n",
       " '@edquinn63': 2,\n",
       " 'forget': 10,\n",
       " 'pick': 12,\n",
       " 'ur': 23,\n",
       " 'fave': 2,\n",
       " 'child': 12,\n",
       " 'up': 133,\n",
       " 'school': 13,\n",
       " '#offended': 15,\n",
       " 'When': 65,\n",
       " 'makes': 45,\n",
       " 'excited,': 1,\n",
       " 'terrified,': 1,\n",
       " 'thrilled,': 1,\n",
       " 'nervous,': 1,\n",
       " 'elated': 17,\n",
       " '&amp;': 162,\n",
       " \"you've\": 10,\n",
       " 'been': 79,\n",
       " 'kicked': 2,\n",
       " 'guts': 1,\n",
       " 'all': 198,\n",
       " 'once.': 3,\n",
       " 'Need': 6,\n",
       " 'word': 12,\n",
       " '@AerLingus': 1,\n",
       " '#business': 2,\n",
       " 'class': 14,\n",
       " '#Los': 1,\n",
       " 'Angeles': 1,\n",
       " 'Dublin': 1,\n",
       " '#destroyed': 1,\n",
       " 'luggage': 1,\n",
       " '#60': 1,\n",
       " 'day': 86,\n",
       " 'customer': 19,\n",
       " 'response': 3,\n",
       " 'time': 82,\n",
       " '#unhappy': 18,\n",
       " 'How': 32,\n",
       " 'had': 77,\n",
       " 'Matty': 2,\n",
       " 'Dawson': 2,\n",
       " 'scored': 3,\n",
       " 'there!!!!!': 2,\n",
       " '#terrible': 30,\n",
       " '@SandraTXAS': 1,\n",
       " '@6bird4': 1,\n",
       " '@CajunKangaroo': 1,\n",
       " '@justanavywife': 1,\n",
       " 'please.': 1,\n",
       " 'Or': 7,\n",
       " 'could': 46,\n",
       " 'clouded': 4,\n",
       " 'passion.': 1,\n",
       " 'Emotion': 1,\n",
       " 'leads': 7,\n",
       " 'truth.': 1,\n",
       " '@TiganVarcolac': 1,\n",
       " '&lt;': 3,\n",
       " 'feel': 69,\n",
       " 'precious': 1,\n",
       " 'pleasure.': 2,\n",
       " \"'Harder..'\": 1,\n",
       " 'He': 26,\n",
       " 'whispered': 1,\n",
       " 'almost': 13,\n",
       " 'breathless': 1,\n",
       " 'index': 1,\n",
       " 'finger': 1,\n",
       " 'stroked': 1,\n",
       " 'along': 5,\n",
       " 'waistband': 1,\n",
       " '&gt;': 7,\n",
       " 'what': 115,\n",
       " 'would': 87,\n",
       " 'happen': 8,\n",
       " 'were': 60,\n",
       " 'tell': 37,\n",
       " 'some': 74,\n",
       " 'people': 82,\n",
       " 'truth': 3,\n",
       " '#savage': 2,\n",
       " '#uhoh': 2,\n",
       " '#angry': 27,\n",
       " 'Update:': 2,\n",
       " 'yet': 15,\n",
       " 'hang': 4,\n",
       " 'out': 158,\n",
       " '@MisElizaJane,': 2,\n",
       " 'hopeful!': 2,\n",
       " '@fillegrossiere': 1,\n",
       " '@PeasParsley': 1,\n",
       " '@tombrodude': 1,\n",
       " 'bobs': 1,\n",
       " 'burgers': 2,\n",
       " 'an': 119,\n",
       " 'animated': 15,\n",
       " 'show.': 3,\n",
       " 'Maybe': 11,\n",
       " 'Bob': 1,\n",
       " 'looks': 22,\n",
       " 'him.': 10,\n",
       " 'They': 12,\n",
       " 'cast': 1,\n",
       " 'him': 59,\n",
       " 'based': 6,\n",
       " 'on': 362,\n",
       " 'voice': 5,\n",
       " 'too': 61,\n",
       " 'Early': 1,\n",
       " 'morning': 19,\n",
       " 'cheerfulness': 4,\n",
       " 'extremely': 1,\n",
       " 'obnoxious': 1,\n",
       " '#ALDUB62ndWeeksary': 1,\n",
       " 'Hennessey': 2,\n",
       " '-': 121,\n",
       " 'dreadful.': 8,\n",
       " 'Mutch': 2,\n",
       " 'he': 122,\n",
       " 'pitch?': 2,\n",
       " 'Fryers': 2,\n",
       " 'depth': 2,\n",
       " 'unfortunately.': 2,\n",
       " '#CPFC': 2,\n",
       " '@CarrieLynne2323': 1,\n",
       " 'totally': 5,\n",
       " 'it.': 42,\n",
       " 'said': 34,\n",
       " 'no': 113,\n",
       " 'donuts': 1,\n",
       " '13': 3,\n",
       " 'times': 13,\n",
       " 'one': 109,\n",
       " 'week': 28,\n",
       " 'lost': 36,\n",
       " '0.3': 1,\n",
       " 'lbs': 1,\n",
       " 'discouraged!': 3,\n",
       " 'But': 34,\n",
       " \"it's\": 133,\n",
       " 'linear': 1,\n",
       " '😘': 1,\n",
       " '@zavvi': 2,\n",
       " '@zavvihelp': 2,\n",
       " 'only': 73,\n",
       " 'offering': 2,\n",
       " '6': 10,\n",
       " 'moth': 2,\n",
       " 'warranty': 2,\n",
       " '#ps4pro': 2,\n",
       " '#truth': 6,\n",
       " '#ripoff': 2,\n",
       " 'Dylon': 1,\n",
       " 'felt': 15,\n",
       " 'dejected.': 2,\n",
       " 'has': 97,\n",
       " 'dejected': 2,\n",
       " 'aunt!': 1,\n",
       " '@DreKnott': 1,\n",
       " \"You've\": 4,\n",
       " 'got': 75,\n",
       " 'tremendous': 3,\n",
       " 'range.': 1,\n",
       " 'dislike': 2,\n",
       " 'offended': 15,\n",
       " 'littlest': 1,\n",
       " 'shit': 27,\n",
       " '.': 38,\n",
       " '@lucy_hyner': 1,\n",
       " '@Soulboy2266': 1,\n",
       " 'sadly': 11,\n",
       " '!!': 9,\n",
       " 'One': 11,\n",
       " 'less': 11,\n",
       " 'hour': 10,\n",
       " 'drinking': 5,\n",
       " '😢🍻': 1,\n",
       " '@LFC': 1,\n",
       " 'What': 36,\n",
       " 'awful': 16,\n",
       " 'team': 25,\n",
       " '@bt_uk': 2,\n",
       " 'why': 52,\n",
       " 'does': 32,\n",
       " 'tracking': 3,\n",
       " 'show': 16,\n",
       " 'my': 453,\n",
       " 'equipment': 2,\n",
       " 'delivered,': 2,\n",
       " \"wasn't?\": 2,\n",
       " 'Why': 27,\n",
       " 'service': 20,\n",
       " 'suddenly': 2,\n",
       " 'delayed?': 2,\n",
       " \"We've\": 5,\n",
       " 'already': 19,\n",
       " '3': 33,\n",
       " 'weeks.': 5,\n",
       " '@NandosSA': 2,\n",
       " 'order': 11,\n",
       " '@OrderInSA': 2,\n",
       " 'chips': 2,\n",
       " 'are': 213,\n",
       " 'under': 16,\n",
       " 'cooked': 2,\n",
       " 'half': 20,\n",
       " 'raw!!!': 2,\n",
       " 'Usually': 2,\n",
       " 'best': 38,\n",
       " 'part': 15,\n",
       " 'meal': 4,\n",
       " '#notcool': 2,\n",
       " '@crimpoop': 1,\n",
       " 'adorable': 1,\n",
       " 'cheerful': 14,\n",
       " 'daughter\\\\nAlways': 1,\n",
       " 'pouring': 2,\n",
       " 'positivity': 4,\n",
       " 'green': 2,\n",
       " 'goo': 1,\n",
       " 'me\\\\ndare': 1,\n",
       " 'hurt': 7,\n",
       " 'her': 90,\n",
       " \"you'll\": 8,\n",
       " 'see': 70,\n",
       " 'hell': 16,\n",
       " '//growls\\\\n\\\\n#PandaBot': 1,\n",
       " 'Democracy': 1,\n",
       " 'work\\\\n#mob': 1,\n",
       " '#mentality': 1,\n",
       " '#mass': 1,\n",
       " '#hysteria': 2,\n",
       " '#fear': 23,\n",
       " '#mongering': 1,\n",
       " '#oligarchy': 1,\n",
       " '@LiamJamesVernon': 1,\n",
       " 'optimism!!': 1,\n",
       " 'BLUE': 1,\n",
       " 'MOON!': 1,\n",
       " 'i': 176,\n",
       " 'never': 59,\n",
       " 'greys': 2,\n",
       " 'anatomy': 3,\n",
       " 'ever': 51,\n",
       " 'again': 21,\n",
       " 'Shonda': 2,\n",
       " 'Rimes': 2,\n",
       " 'takes': 14,\n",
       " 'OG': 2,\n",
       " 'character☹️☹️☹️☹️☹️☹️☹️☹️☹️☹️': 2,\n",
       " 'actual': 2,\n",
       " 'nightmare': 14,\n",
       " '@united': 1,\n",
       " 'horrible': 11,\n",
       " 'service.': 5,\n",
       " 'EWR.': 1,\n",
       " 'Not': 24,\n",
       " 'cloud': 2,\n",
       " 'sky.': 1,\n",
       " 'Normal': 1,\n",
       " 'departure': 2,\n",
       " '10am': 1,\n",
       " 'now': 85,\n",
       " 'leaving': 3,\n",
       " '5pm.': 1,\n",
       " 'Crappy': 1,\n",
       " '#UnitedAirlines': 1,\n",
       " '@evanhufferd': 2,\n",
       " 'Transitioning': 1,\n",
       " 'job': 18,\n",
       " 'hard': 18,\n",
       " 'nothing': 21,\n",
       " 'joyful': 18,\n",
       " 'memories': 4,\n",
       " 'previous': 1,\n",
       " 'one.': 10,\n",
       " 'Thanks': 15,\n",
       " '@LifeTeen': 1,\n",
       " 'changing': 8,\n",
       " 'life!': 4,\n",
       " '❤️': 8,\n",
       " 'On': 8,\n",
       " 'bright': 12,\n",
       " 'side': 19,\n",
       " 'YouTube': 3,\n",
       " 'heroes': 1,\n",
       " 'leafy': 2,\n",
       " 'finally': 13,\n",
       " 'banned': 1,\n",
       " '@Ms_HeartAttack': 2,\n",
       " 'peanut': 3,\n",
       " 'butter': 3,\n",
       " 'sting': 14,\n",
       " 'puerto': 1,\n",
       " 'Rican': 1,\n",
       " 'Taino': 1,\n",
       " 'hair': 8,\n",
       " 'black': 27,\n",
       " 'nose': 4,\n",
       " 'gotta': 9,\n",
       " 'ruffle': 6,\n",
       " 'targeted': 2,\n",
       " 'feathers?': 1,\n",
       " '“': 2,\n",
       " 'My': 64,\n",
       " 'courage': 2,\n",
       " 'always': 64,\n",
       " 'rises': 1,\n",
       " 'every': 43,\n",
       " 'attempt': 5,\n",
       " 'intimidate': 4,\n",
       " 'me.”\\\\n-Elizabeth': 1,\n",
       " 'Bennett': 1,\n",
       " '(Pride': 1,\n",
       " 'Prejudice)\\\\n#Quotes': 1,\n",
       " '#Courage': 1,\n",
       " '#FaceYourFears': 1,\n",
       " \"Let's\": 6,\n",
       " 'drunk': 5,\n",
       " 'each': 11,\n",
       " 'other': 31,\n",
       " \"we're\": 14,\n",
       " 'afraid': 23,\n",
       " 'sober.': 2,\n",
       " '@questlove': 1,\n",
       " 'going': 65,\n",
       " 'these': 25,\n",
       " \"'riots'\": 1,\n",
       " 'perpetuating': 1,\n",
       " 'hate.': 2,\n",
       " 'Saying': 1,\n",
       " \"you're\": 44,\n",
       " 'boycott': 1,\n",
       " 'city!?!': 1,\n",
       " '#lost': 34,\n",
       " '@Myahrissavietta': 1,\n",
       " 'cheery': 15,\n",
       " '😘😉': 1,\n",
       " 'neighborhood': 1,\n",
       " 'use': 26,\n",
       " 'gps': 1,\n",
       " 'phone': 18,\n",
       " 'find': 34,\n",
       " 'way': 54,\n",
       " 'out.': 4,\n",
       " '#GoogleMaps': 1,\n",
       " '#blondmoment': 1,\n",
       " 'good': 76,\n",
       " 'thing': 34,\n",
       " 'sick': 12,\n",
       " 'coughing': 2,\n",
       " 'ab': 2,\n",
       " 'workout.': 2,\n",
       " 'abs': 2,\n",
       " 'more': 89,\n",
       " 'defined': 2,\n",
       " '😂😅': 2,\n",
       " '@superbatlane': 1,\n",
       " 'true': 9,\n",
       " 'escape': 1,\n",
       " 'until': 16,\n",
       " 'car': 13,\n",
       " 'sunk': 16,\n",
       " '@gdimelow': 1,\n",
       " '@TheDailyShow': 1,\n",
       " '@NivenJ1': 1,\n",
       " '@jordanklepper': 1,\n",
       " 'These': 8,\n",
       " 'interviews': 1,\n",
       " 'scare': 14,\n",
       " 'crap': 6,\n",
       " 'imagined': 1,\n",
       " 'many': 20,\n",
       " 'dumb,': 1,\n",
       " 'dumb': 7,\n",
       " 'Americans.': 1,\n",
       " '@chenaidavid': 1,\n",
       " 'easy,': 2,\n",
       " 'breezy,': 3,\n",
       " 'beautiful': 8,\n",
       " 'rasta': 1,\n",
       " 'mon': 1,\n",
       " '@FoRDaYS14': 2,\n",
       " '😳': 6,\n",
       " 'chewing': 3,\n",
       " 'what?': 2,\n",
       " '#arcdental': 2,\n",
       " '#turlock': 2,\n",
       " 'Drop': 3,\n",
       " 'fear...': 1,\n",
       " '@ChickOfBeauty': 2,\n",
       " 'No!': 4,\n",
       " 'By': 5,\n",
       " \"Y'all\": 4,\n",
       " 'mean': 12,\n",
       " 'rioting,': 2,\n",
       " 'fire': 11,\n",
       " 'starting,': 2,\n",
       " 'business': 5,\n",
       " 'burning,': 2,\n",
       " 'looting': 7,\n",
       " 'ASSHOLES!': 2,\n",
       " 'That': 39,\n",
       " 'create': 5,\n",
       " '#BlackLivesmatter': 2,\n",
       " 'Holding': 2,\n",
       " 'grudge': 11,\n",
       " 'stop': 33,\n",
       " 'blessings': 1,\n",
       " 'God': 17,\n",
       " ',learn': 1,\n",
       " 'forgive': 1,\n",
       " '🙏🏾': 1,\n",
       " '#terror': 25,\n",
       " 'test': 12,\n",
       " '................': 1,\n",
       " 'Patti': 2,\n",
       " 'seems': 10,\n",
       " 'sad.': 5,\n",
       " 'She': 20,\n",
       " 'stamped': 2,\n",
       " 'ran': 8,\n",
       " 'behind': 9,\n",
       " 'sofa.': 2,\n",
       " 'We': 50,\n",
       " 'give': 47,\n",
       " 'plenty': 3,\n",
       " 'affection...more': 2,\n",
       " 'usual.': 2,\n",
       " 'Wishing': 4,\n",
       " 'was': 219,\n",
       " 'rich': 4,\n",
       " 'didnt': 3,\n",
       " '#poor': 2,\n",
       " '#sleepy': 2,\n",
       " '#restless': 9,\n",
       " '#sad': 27,\n",
       " '#needsmoresleep': 2,\n",
       " '@NHLexpertpicks': 2,\n",
       " '@usahockey': 2,\n",
       " 'USA': 5,\n",
       " 'embarrassing': 3,\n",
       " 'watch.': 4,\n",
       " 'guys': 25,\n",
       " 'won': 8,\n",
       " 'game..?': 2,\n",
       " '#horrible': 17,\n",
       " '#joke': 6,\n",
       " '@JBCrewdotcom': 1,\n",
       " 'own': 28,\n",
       " 'fans': 16,\n",
       " 'insult': 8,\n",
       " 'sleep': 11,\n",
       " 'cooties.\\\\nI': 1,\n",
       " 'close': 9,\n",
       " 'dream': 8,\n",
       " 'awake': 1,\n",
       " '#weary': 2,\n",
       " '#sleepissues': 1,\n",
       " '#narcolepsy': 1,\n",
       " 'started': 17,\n",
       " 'amazing!!': 1,\n",
       " 'Hopefully': 3,\n",
       " 'whole': 31,\n",
       " 'as': 143,\n",
       " 'want': 78,\n",
       " 'go!\\\\n': 1,\n",
       " '#GreatDay': 1,\n",
       " 'To': 6,\n",
       " 'insure': 1,\n",
       " 'health:': 1,\n",
       " 'Eat': 1,\n",
       " 'lightly,': 1,\n",
       " 'breathe': 3,\n",
       " 'deeply,': 1,\n",
       " 'live': 20,\n",
       " 'moderately,': 1,\n",
       " 'cultivate': 1,\n",
       " 'cheerfulness,': 3,\n",
       " 'maintain': 3,\n",
       " 'interest': 1,\n",
       " 'life.': 9,\n",
       " '@DMAnthonyJoseph': 1,\n",
       " '@TheClumpany': 1,\n",
       " 'No': 31,\n",
       " 'grudge.': 1,\n",
       " 'Only': 7,\n",
       " 'abundance.': 1,\n",
       " '@1VoiceMatters': 1,\n",
       " '@MichaelTPremo': 1,\n",
       " 'wind': 6,\n",
       " '#MenForChoice': 1,\n",
       " 'infuriate': 3,\n",
       " 'Just': 54,\n",
       " 'generation.': 1,\n",
       " '“Do': 2,\n",
       " 'fret': 12,\n",
       " 'cool!': 2,\n",
       " 'Humans': 2,\n",
       " 'follow': 11,\n",
       " 'me,': 19,\n",
       " 'become': 8,\n",
       " 'instantly': 4,\n",
       " 'cool!”': 2,\n",
       " '#Bot': 2,\n",
       " '@Rocks_n_Ropes': 2,\n",
       " \"Can't\": 11,\n",
       " 'believe': 24,\n",
       " 'rude': 4,\n",
       " 'cashier': 2,\n",
       " 'today': 49,\n",
       " 'returning': 2,\n",
       " 'item!': 2,\n",
       " 'Your': 14,\n",
       " 'slacking.': 2,\n",
       " 'Mixed': 1,\n",
       " 'emotions.': 1,\n",
       " '#sadness': 23,\n",
       " '#anxietymaybe': 1,\n",
       " '#missingfriends': 1,\n",
       " '#growingupsucks': 1,\n",
       " '#lostfriends': 1,\n",
       " '#wheresthetruefriends': 1,\n",
       " '#complications': 1,\n",
       " '@sjdonghaev': 1,\n",
       " '@ezlisteningdisc': 1,\n",
       " 'offend': 14,\n",
       " 'just,,,': 1,\n",
       " 'Weird.': 1,\n",
       " '@Cory_Bonini': 1,\n",
       " 'AP': 1,\n",
       " \"didn't\": 39,\n",
       " 'productive': 2,\n",
       " '1': 12,\n",
       " 'or': 124,\n",
       " '1st': 2,\n",
       " 'against': 22,\n",
       " 'GB': 1,\n",
       " 'Kalil': 1,\n",
       " 'horrible!': 1,\n",
       " '@Vikings': 1,\n",
       " 'D': 4,\n",
       " 'its': 30,\n",
       " 'strongest': 1,\n",
       " 'asset': 1,\n",
       " 'currently.': 1,\n",
       " '@EngrNabeeel': 1,\n",
       " 'then': 53,\n",
       " 'rejoicing': 12,\n",
       " \"lil'\": 1,\n",
       " 'bit': 22,\n",
       " 'prematured': 1,\n",
       " 'dont': 12,\n",
       " 'think🤔🤔🤔': 1,\n",
       " 'Hope': 8,\n",
       " 'instinct': 2,\n",
       " 'reasoning': 3,\n",
       " 'human': 12,\n",
       " 'mind': 15,\n",
       " 'kill.': 2,\n",
       " 'An': 7,\n",
       " 'animal': 3,\n",
       " 'knew': 7,\n",
       " 'despair.': 5,\n",
       " '@AQpk': 1,\n",
       " 'worse': 7,\n",
       " 'expected': 5,\n",
       " 'hilarious': 10,\n",
       " 'too.': 6,\n",
       " 'remember.': 1,\n",
       " 'Bes!': 2,\n",
       " \"don't\": 142,\n",
       " 'blooded': 3,\n",
       " 'hoopjunkie': 2,\n",
       " 'switch': 4,\n",
       " \"f*c@n'\": 2,\n",
       " 'juz': 4,\n",
       " 'destroyed': 3,\n",
       " 'team.': 5,\n",
       " \"don't!\": 2,\n",
       " 'sadness': 11,\n",
       " 'leaves': 8,\n",
       " 'broken': 8,\n",
       " 'bed,': 2,\n",
       " 'hold': 12,\n",
       " 'depths': 4,\n",
       " 'despair,': 4,\n",
       " 'name': 13,\n",
       " '🎶': 3,\n",
       " 'If': 55,\n",
       " 'Monday': 4,\n",
       " 'face': 31,\n",
       " 'punch': 6,\n",
       " '#monday': 2,\n",
       " '#face': 2,\n",
       " '#punch': 2,\n",
       " '#fight': 2,\n",
       " '#like': 3,\n",
       " '#firstworldproblems': 2,\n",
       " '#need': 3,\n",
       " '#coffee': 3,\n",
       " '#asap': 2,\n",
       " '#follow': 3,\n",
       " 'whether': 6,\n",
       " \"we've\": 2,\n",
       " 'talked': 1,\n",
       " 'joyous': 14,\n",
       " 'Goodbye.': 1,\n",
       " 'Accept': 6,\n",
       " 'challenges': 7,\n",
       " 'exhilaration': 8,\n",
       " 'victory!!': 1,\n",
       " 'backed': 2,\n",
       " 'pats': 2,\n",
       " '-2.5': 2,\n",
       " '10/11': 2,\n",
       " 'before': 42,\n",
       " '#pleasing': 2,\n",
       " 'Condolences': 2,\n",
       " 'JC': 4,\n",
       " 'Georges': 2,\n",
       " 'family..': 2,\n",
       " 'Ladies': 1,\n",
       " 'gentlemen\\\\nAfter': 1,\n",
       " 'success': 3,\n",
       " '#PanamaLeaks\\\\nNow': 1,\n",
       " 'presenting': 1,\n",
       " '#BahamasLeaks': 1,\n",
       " '😂': 24,\n",
       " 'ability': 4,\n",
       " 'happy': 39,\n",
       " '#smile,': 2,\n",
       " 'it!': 3,\n",
       " 'The': 135,\n",
       " 'world': 27,\n",
       " 'needs': 21,\n",
       " 'right': 47,\n",
       " 'now.': 8,\n",
       " '#CreateLove': 1,\n",
       " '☺️': 2,\n",
       " '@AdsByFlaherty': 1,\n",
       " 'cheerfully': 12,\n",
       " 'defending': 3,\n",
       " 'group': 4,\n",
       " 'unchecked,': 1,\n",
       " 'armed': 2,\n",
       " 'thugs': 1,\n",
       " \"who've\": 1,\n",
       " 'shown': 2,\n",
       " 'history': 5,\n",
       " 'racism,': 1,\n",
       " 'violence,': 1,\n",
       " 'lies.': 1,\n",
       " 'Obama': 4,\n",
       " 'admin': 2,\n",
       " 'rejects': 2,\n",
       " 'Texas': 5,\n",
       " 'plan': 5,\n",
       " 'refugees': 2,\n",
       " 'vetted': 2,\n",
       " 'terrorism': 17,\n",
       " 'pulls': 3,\n",
       " 'fed': 2,\n",
       " 'refugee': 6,\n",
       " 'resettlement': 2,\n",
       " 'program.': 2,\n",
       " 'Aiding': 2,\n",
       " 'Dear': 4,\n",
       " 'future': 13,\n",
       " 'big': 14,\n",
       " 'brother': 5,\n",
       " 'players,': 3,\n",
       " 'chase': 3,\n",
       " 'dick': 5,\n",
       " 'season': 17,\n",
       " 'win': 10,\n",
       " '500,00': 2,\n",
       " 'dollars': 5,\n",
       " 'Sti': 2,\n",
       " '#bb18': 10,\n",
       " 'Do': 16,\n",
       " 'grow': 8,\n",
       " 'weary': 12,\n",
       " 'doing': 27,\n",
       " \"good.'\\\\n\\\\n-@billclinton\": 1,\n",
       " \"good'\": 1,\n",
       " 'lasting': 1,\n",
       " 'legacy': 1,\n",
       " '@billclinton': 3,\n",
       " '@ClintonGlobal': 2,\n",
       " '#CGI2016': 4,\n",
       " '#thankfulmoment': 1,\n",
       " '@ProjectThankful': 1,\n",
       " 'Now': 22,\n",
       " '@Jasmine_Wrn': 1,\n",
       " 'snapchat': 2,\n",
       " 'back': 65,\n",
       " 'constant': 3,\n",
       " 'battle': 1,\n",
       " 'ugliest': 1,\n",
       " 'snap': 13,\n",
       " '😂🙃': 2,\n",
       " '#snap': 7,\n",
       " 'survival': 1,\n",
       " 'Watching': 5,\n",
       " 'Paranormal': 2,\n",
       " 'Activity:': 2,\n",
       " 'Ghost': 2,\n",
       " 'Dimension.': 2,\n",
       " 'yet.': 6,\n",
       " '#horror': 24,\n",
       " 'Shanghais': 1,\n",
       " 'chief': 1,\n",
       " 'distracting': 2,\n",
       " 'levity': 8,\n",
       " 'pampa': 1,\n",
       " 'proper': 2,\n",
       " 'dingle': 1,\n",
       " 'carry': 4,\n",
       " 'away:': 1,\n",
       " 'uUDQujcia': 1,\n",
       " 'irate': 2,\n",
       " 'jesus.': 1,\n",
       " 'nobody': 3,\n",
       " 'calling': 4,\n",
       " 'ppl': 7,\n",
       " 'hajime': 1,\n",
       " 'abusive': 2,\n",
       " 'strawmen': 1,\n",
       " 'lmao': 12,\n",
       " '@everycolorbot': 2,\n",
       " 'color': 4,\n",
       " 'same': 24,\n",
       " '#triggered': 2,\n",
       " '#colorblind': 2,\n",
       " '|': 2,\n",
       " 'At': 13,\n",
       " 'home': 18,\n",
       " 'sick...': 1,\n",
       " '🎼The': 1,\n",
       " 'blues🎼': 1,\n",
       " \"won't\": 18,\n",
       " 'cure': 1,\n",
       " 'need': 65,\n",
       " 'ideas': 2,\n",
       " '🎸😭': 1,\n",
       " '#sorethroat': 1,\n",
       " '#sick': 1,\n",
       " '#blues': 15,\n",
       " '#music': 7,\n",
       " '#fallweather': 1,\n",
       " '#carletonuniversity': 1,\n",
       " '#ottawa': 1,\n",
       " 'Light': 1,\n",
       " 'per': 5,\n",
       " 'heyday': 8,\n",
       " 'popularization': 1,\n",
       " 'backfire': 1,\n",
       " 'cinematography:': 1,\n",
       " 'XUcQb': 1,\n",
       " '@MaxVenator': 1,\n",
       " 'foreign': 2,\n",
       " 'policy': 3,\n",
       " 'goofy': 2,\n",
       " 'Secretary': 1,\n",
       " 'State': 2,\n",
       " 'John': 9,\n",
       " ...}"
      ]
     },
     "execution_count": 7,
     "metadata": {},
     "output_type": "execute_result"
    }
   ],
   "source": [
    "# Answer here\n",
    "def countWords(s):\n",
    "    arr = s.split()\n",
    "    dic = dict()\n",
    "    #print(arr)\n",
    "    for word in arr:\n",
    "        if(word in dic):\n",
    "            dic[word] += 1\n",
    "        else:\n",
    "            dic[word] = 1\n",
    "    return dic\n",
    "\n",
    "def list_to_string(arr):\n",
    "    s = \" \"\n",
    "    return s.join(arr)\n",
    "\n",
    "dic_train = countWords(list_to_string(train_df['text']))\n",
    "dic_test = countWords(list_to_string(test_df['text']))\n",
    "\n",
    "dic_train"
   ]
  },
  {
   "cell_type": "code",
   "execution_count": 8,
   "metadata": {},
   "outputs": [
    {
     "data": {
      "text/plain": [
       "<AxesSubplot:xlabel='word'>"
      ]
     },
     "execution_count": 8,
     "metadata": {},
     "output_type": "execute_result"
    },
    {
     "data": {
      "image/png": "[encoded data removed]",
      "text/plain": [
       "<Figure size 432x288 with 1 Axes>"
      ]
     },
     "metadata": {
      "needs_background": "light"
     },
     "output_type": "display_data"
    }
   ],
   "source": [
    "train_top30 = pd.DataFrame(dic_train.items(), columns=['word', 'frequency']).sort_values('frequency', ascending=False).iloc[:30,]\n",
    "train_top30.plot.bar(x = 'word', y = 'frequency')"
   ]
  },
  {
   "cell_type": "code",
   "execution_count": 9,
   "metadata": {},
   "outputs": [
    {
     "data": {
      "text/plain": [
       "<AxesSubplot:xlabel='word'>"
      ]
     },
     "execution_count": 9,
     "metadata": {},
     "output_type": "execute_result"
    },
    {
     "data": {
      "image/png": "[encoded data removed]",
      "text/plain": [
       "<Figure size 432x288 with 1 Axes>"
      ]
     },
     "metadata": {
      "needs_background": "light"
     },
     "output_type": "display_data"
    }
   ],
   "source": [
    "test_top30 = pd.DataFrame(dic_test.items(), columns=['word', 'frequency']).sort_values('frequency', ascending=False).iloc[:30,]\n",
    "test_top30.plot.bar(x = 'word', y = 'frequency')"
   ]
  },
  {
   "cell_type": "markdown",
   "metadata": {},
   "source": [
    "---\n",
    "### 1.2 Save data"
   ]
  },
  {
   "cell_type": "markdown",
   "metadata": {},
   "source": [
    "We will save our data in Pickle format. The pickle module implements binary protocols for serializing and de-serializing a Python object structure.   \n",
    "  \n",
    "Some advantages for using pickle structure:  \n",
    "* Because it stores the attribute type, it's more convenient for cross-platform use.  \n",
    "* When your data is huge, it could use less space to store also consume less loading time.   "
   ]
  },
  {
   "cell_type": "code",
   "execution_count": 10,
   "metadata": {},
   "outputs": [],
   "source": [
    "## save to pickle file\n",
    "train_df.to_pickle(\"train_df.pkl\") \n",
    "test_df.to_pickle(\"test_df.pkl\")"
   ]
  },
  {
   "cell_type": "code",
   "execution_count": 11,
   "metadata": {},
   "outputs": [
    {
     "data": {
      "text/html": [
       "<div>\n",
       "<style scoped>\n",
       "    .dataframe tbody tr th:only-of-type {\n",
       "        vertical-align: middle;\n",
       "    }\n",
       "\n",
       "    .dataframe tbody tr th {\n",
       "        vertical-align: top;\n",
       "    }\n",
       "\n",
       "    .dataframe thead th {\n",
       "        text-align: right;\n",
       "    }\n",
       "</style>\n",
       "<table border=\"1\" class=\"dataframe\">\n",
       "  <thead>\n",
       "    <tr style=\"text-align: right;\">\n",
       "      <th></th>\n",
       "      <th>id</th>\n",
       "      <th>text</th>\n",
       "      <th>emotion</th>\n",
       "      <th>intensity</th>\n",
       "    </tr>\n",
       "  </thead>\n",
       "  <tbody>\n",
       "    <tr>\n",
       "      <th>346</th>\n",
       "      <td>40859</td>\n",
       "      <td>@KeithOlbermann depressing how despicable Trum...</td>\n",
       "      <td>sadness</td>\n",
       "      <td>0.708</td>\n",
       "    </tr>\n",
       "    <tr>\n",
       "      <th>32</th>\n",
       "      <td>10889</td>\n",
       "      <td>Ananya just grabbed a bible, opened it, starte...</td>\n",
       "      <td>anger</td>\n",
       "      <td>0.417</td>\n",
       "    </tr>\n",
       "    <tr>\n",
       "      <th>262</th>\n",
       "      <td>30891</td>\n",
       "      <td>Our tone of voice: we're like One Direction, w...</td>\n",
       "      <td>joy</td>\n",
       "      <td>0.423</td>\n",
       "    </tr>\n",
       "    <tr>\n",
       "      <th>24</th>\n",
       "      <td>10881</td>\n",
       "      <td>@DxfyingGrxvity - frustration, looking up at E...</td>\n",
       "      <td>anger</td>\n",
       "      <td>0.604</td>\n",
       "    </tr>\n",
       "    <tr>\n",
       "      <th>285</th>\n",
       "      <td>40798</td>\n",
       "      <td>@kayleighmcenany  @DonaldJTrumpJr Is that real...</td>\n",
       "      <td>sadness</td>\n",
       "      <td>0.625</td>\n",
       "    </tr>\n",
       "    <tr>\n",
       "      <th>...</th>\n",
       "      <td>...</td>\n",
       "      <td>...</td>\n",
       "      <td>...</td>\n",
       "      <td>...</td>\n",
       "    </tr>\n",
       "    <tr>\n",
       "      <th>46</th>\n",
       "      <td>10903</td>\n",
       "      <td>@LiamCannon1 He's just too raging to type prop...</td>\n",
       "      <td>anger</td>\n",
       "      <td>0.375</td>\n",
       "    </tr>\n",
       "    <tr>\n",
       "      <th>304</th>\n",
       "      <td>40817</td>\n",
       "      <td>This world has some serious issues we should a...</td>\n",
       "      <td>sadness</td>\n",
       "      <td>0.750</td>\n",
       "    </tr>\n",
       "    <tr>\n",
       "      <th>182</th>\n",
       "      <td>21245</td>\n",
       "      <td>Hillary Clinton looked the other way to the Sa...</td>\n",
       "      <td>fear</td>\n",
       "      <td>0.479</td>\n",
       "    </tr>\n",
       "    <tr>\n",
       "      <th>325</th>\n",
       "      <td>40838</td>\n",
       "      <td>@GolfStrat out of Rory starts. What would your...</td>\n",
       "      <td>sadness</td>\n",
       "      <td>0.343</td>\n",
       "    </tr>\n",
       "    <tr>\n",
       "      <th>123</th>\n",
       "      <td>21186</td>\n",
       "      <td>On @Varneyco/@FoxBusiness to talk latest on #C...</td>\n",
       "      <td>fear</td>\n",
       "      <td>0.604</td>\n",
       "    </tr>\n",
       "  </tbody>\n",
       "</table>\n",
       "<p>347 rows × 4 columns</p>\n",
       "</div>"
      ],
      "text/plain": [
       "        id                                               text  emotion  \\\n",
       "346  40859  @KeithOlbermann depressing how despicable Trum...  sadness   \n",
       "32   10889  Ananya just grabbed a bible, opened it, starte...    anger   \n",
       "262  30891  Our tone of voice: we're like One Direction, w...      joy   \n",
       "24   10881  @DxfyingGrxvity - frustration, looking up at E...    anger   \n",
       "285  40798  @kayleighmcenany  @DonaldJTrumpJr Is that real...  sadness   \n",
       "..     ...                                                ...      ...   \n",
       "46   10903  @LiamCannon1 He's just too raging to type prop...    anger   \n",
       "304  40817  This world has some serious issues we should a...  sadness   \n",
       "182  21245  Hillary Clinton looked the other way to the Sa...     fear   \n",
       "325  40838  @GolfStrat out of Rory starts. What would your...  sadness   \n",
       "123  21186  On @Varneyco/@FoxBusiness to talk latest on #C...     fear   \n",
       "\n",
       "     intensity  \n",
       "346      0.708  \n",
       "32       0.417  \n",
       "262      0.423  \n",
       "24       0.604  \n",
       "285      0.625  \n",
       "..         ...  \n",
       "46       0.375  \n",
       "304      0.750  \n",
       "182      0.479  \n",
       "325      0.343  \n",
       "123      0.604  \n",
       "\n",
       "[347 rows x 4 columns]"
      ]
     },
     "execution_count": 11,
     "metadata": {},
     "output_type": "execute_result"
    }
   ],
   "source": [
    "import pandas as pd\n",
    "\n",
    "## load a pickle file\n",
    "train_df = pd.read_pickle(\"train_df.pkl\")\n",
    "test_df = pd.read_pickle(\"test_df.pkl\")\n",
    "test_df"
   ]
  },
  {
   "cell_type": "markdown",
   "metadata": {},
   "source": [
    "For more information: https://reurl.cc/0Dzqx"
   ]
  },
  {
   "cell_type": "markdown",
   "metadata": {},
   "source": [
    "---\n",
    "### 1.3 Exploratory data analysis (EDA)\n",
    "\n",
    "Again, before getting our hands dirty, we need to explore a little bit and understand the data we're dealing with."
   ]
  },
  {
   "cell_type": "code",
   "execution_count": 12,
   "metadata": {},
   "outputs": [
    {
     "data": {
      "text/plain": [
       "emotion\n",
       "anger       857\n",
       "fear       1147\n",
       "joy         823\n",
       "sadness     786\n",
       "Name: text, dtype: int64"
      ]
     },
     "execution_count": 12,
     "metadata": {},
     "output_type": "execute_result"
    }
   ],
   "source": [
    "#group to find distribution\n",
    "train_df.groupby(['emotion']).count()['text']"
   ]
  },
  {
   "cell_type": "code",
   "execution_count": 13,
   "metadata": {},
   "outputs": [
    {
     "data": {
      "image/png": "[encoded data removed]",
      "text/plain": [
       "<Figure size 360x216 with 1 Axes>"
      ]
     },
     "metadata": {
      "needs_background": "light"
     },
     "output_type": "display_data"
    }
   ],
   "source": [
    "%matplotlib inline\n",
    "import numpy as np\n",
    "import matplotlib.pyplot as plt\n",
    "\n",
    "# the histogram of the data\n",
    "labels = train_df['emotion'].unique()\n",
    "post_total = len(train_df)\n",
    "df1 = train_df.groupby(['emotion']).count()['text']\n",
    "df1 = df1.apply(lambda x: round(x*100/post_total,3))\n",
    "\n",
    "#plot\n",
    "fig, ax = plt.subplots(figsize=(5,3))\n",
    "plt.bar(df1.index,df1.values)\n",
    "\n",
    "#arrange\n",
    "plt.ylabel('% of instances')\n",
    "plt.xlabel('Emotion')\n",
    "plt.title('Emotion distribution')\n",
    "plt.grid(True)\n",
    "plt.show()"
   ]
  },
  {
   "cell_type": "markdown",
   "metadata": {},
   "source": [
    "---"
   ]
  },
  {
   "cell_type": "markdown",
   "metadata": {},
   "source": [
    "## 2. Feature engineering\n",
    "### Using Bag of Words\n",
    "Using scikit-learn ```CountVectorizer``` perform word frequency and use these as features to train a model.  \n",
    "http://scikit-learn.org/stable/modules/generated/sklearn.feature_extraction.text.CountVectorizer.html"
   ]
  },
  {
   "cell_type": "code",
   "execution_count": 14,
   "metadata": {},
   "outputs": [],
   "source": [
    "from sklearn.feature_extraction.text import CountVectorizer"
   ]
  },
  {
   "cell_type": "code",
   "execution_count": 15,
   "metadata": {},
   "outputs": [],
   "source": [
    "# build analyzers (bag-of-words)\n",
    "BOW_vectorizer = CountVectorizer() "
   ]
  },
  {
   "cell_type": "code",
   "execution_count": 16,
   "metadata": {},
   "outputs": [],
   "source": [
    "# 1. Learn a vocabulary dictionary of all tokens in the raw documents.\n",
    "BOW_vectorizer.fit(train_df['text'])\n",
    "\n",
    "# 2. Transform documents to document-term matrix.\n",
    "train_data_BOW_features = BOW_vectorizer.transform(train_df['text'])\n",
    "test_data_BOW_features = BOW_vectorizer.transform(test_df['text'])"
   ]
  },
  {
   "cell_type": "code",
   "execution_count": 17,
   "metadata": {},
   "outputs": [
    {
     "data": {
      "text/plain": [
       "<3613x10115 sparse matrix of type '<class 'numpy.int64'>'\n",
       "\twith 51467 stored elements in Compressed Sparse Row format>"
      ]
     },
     "execution_count": 17,
     "metadata": {},
     "output_type": "execute_result"
    }
   ],
   "source": [
    "# check the result\n",
    "train_data_BOW_features"
   ]
  },
  {
   "cell_type": "code",
   "execution_count": 18,
   "metadata": {},
   "outputs": [
    {
     "data": {
      "text/plain": [
       "scipy.sparse.csr.csr_matrix"
      ]
     },
     "execution_count": 18,
     "metadata": {},
     "output_type": "execute_result"
    }
   ],
   "source": [
    "type(train_data_BOW_features)"
   ]
  },
  {
   "cell_type": "code",
   "execution_count": 19,
   "metadata": {
    "scrolled": true
   },
   "outputs": [
    {
     "data": {
      "text/plain": [
       "array([[0, 0, 0, ..., 0, 0, 0],\n",
       "       [0, 0, 0, ..., 0, 0, 0],\n",
       "       [0, 0, 0, ..., 0, 0, 0],\n",
       "       ...,\n",
       "       [0, 0, 0, ..., 0, 0, 0],\n",
       "       [0, 0, 0, ..., 0, 0, 0],\n",
       "       [0, 0, 0, ..., 0, 0, 0]], dtype=int64)"
      ]
     },
     "execution_count": 19,
     "metadata": {},
     "output_type": "execute_result"
    }
   ],
   "source": [
    "# add .toarray() to show\n",
    "train_data_BOW_features.toarray()"
   ]
  },
  {
   "cell_type": "code",
   "execution_count": 20,
   "metadata": {
    "scrolled": false
   },
   "outputs": [
    {
     "data": {
      "text/plain": [
       "(3613, 10115)"
      ]
     },
     "execution_count": 20,
     "metadata": {},
     "output_type": "execute_result"
    }
   ],
   "source": [
    "# check the dimension\n",
    "train_data_BOW_features.shape"
   ]
  },
  {
   "cell_type": "code",
   "execution_count": 21,
   "metadata": {},
   "outputs": [
    {
     "data": {
      "text/plain": [
       "['2k17', '2much', '2nd', '30', '300', '301', '30am', '30pm', '30s', '31']"
      ]
     },
     "execution_count": 21,
     "metadata": {},
     "output_type": "execute_result"
    }
   ],
   "source": [
    "# observe some feature names\n",
    "feature_names = BOW_vectorizer.get_feature_names()\n",
    "feature_names[100:110]"
   ]
  },
  {
   "cell_type": "markdown",
   "metadata": {},
   "source": [
    " "
   ]
  },
  {
   "cell_type": "markdown",
   "metadata": {},
   "source": [
    "The embedding is done. We can technically feed this into our model. However, depending on the embedding technique you use and your model, your accuracy might not be as high, because:\n",
    "\n",
    "* curse of dimensionality  (we have 10,115 dimension now)\n",
    "* some important features are ignored (for example, some models using emoticons yeld better performance than counterparts)"
   ]
  },
  {
   "cell_type": "code",
   "execution_count": 22,
   "metadata": {},
   "outputs": [
    {
     "data": {
      "text/plain": [
       "False"
      ]
     },
     "execution_count": 22,
     "metadata": {},
     "output_type": "execute_result"
    }
   ],
   "source": [
    "\"😂\" in feature_names"
   ]
  },
  {
   "cell_type": "markdown",
   "metadata": {},
   "source": [
    "Let's try using another tokenizer below."
   ]
  },
  {
   "cell_type": "code",
   "execution_count": 23,
   "metadata": {},
   "outputs": [
    {
     "name": "stderr",
     "output_type": "stream",
     "text": [
      "C:\\Users\\Leaf\\anaconda3\\lib\\site-packages\\sklearn\\feature_extraction\\text.py:484: UserWarning: The parameter 'token_pattern' will not be used since 'tokenizer' is not None'\n",
      "  warnings.warn(\"The parameter 'token_pattern' will not be used\"\n"
     ]
    },
    {
     "data": {
      "text/plain": [
       "(3613, 500)"
      ]
     },
     "execution_count": 23,
     "metadata": {},
     "output_type": "execute_result"
    }
   ],
   "source": [
    "import nltk\n",
    "\n",
    "# build analyzers (bag-of-words)\n",
    "BOW_500 = CountVectorizer(max_features=500, tokenizer=nltk.word_tokenize) \n",
    "\n",
    "# apply analyzer to training data\n",
    "BOW_500.fit(train_df['text'])\n",
    "\n",
    "train_data_BOW_features_500 = BOW_500.transform(train_df['text'])\n",
    "\n",
    "## check dimension\n",
    "train_data_BOW_features_500.shape"
   ]
  },
  {
   "cell_type": "code",
   "execution_count": 24,
   "metadata": {},
   "outputs": [
    {
     "data": {
      "text/plain": [
       "array([[0, 3, 0, ..., 0, 0, 0],\n",
       "       [1, 0, 0, ..., 0, 0, 0],\n",
       "       [0, 0, 0, ..., 0, 0, 0],\n",
       "       ...,\n",
       "       [0, 3, 0, ..., 0, 0, 0],\n",
       "       [3, 5, 0, ..., 0, 0, 0],\n",
       "       [0, 0, 0, ..., 0, 0, 0]], dtype=int64)"
      ]
     },
     "execution_count": 24,
     "metadata": {},
     "output_type": "execute_result"
    }
   ],
   "source": [
    "train_data_BOW_features_500.toarray()"
   ]
  },
  {
   "cell_type": "code",
   "execution_count": 25,
   "metadata": {},
   "outputs": [
    {
     "data": {
      "text/plain": [
       "['change',\n",
       " 'cheer',\n",
       " 'cheerful',\n",
       " 'cheering',\n",
       " 'cheery',\n",
       " 'class',\n",
       " 'come',\n",
       " 'comes',\n",
       " 'could',\n",
       " 'country']"
      ]
     },
     "execution_count": 25,
     "metadata": {},
     "output_type": "execute_result"
    }
   ],
   "source": [
    "# observe some feature names\n",
    "feature_names_500 = BOW_500.get_feature_names()\n",
    "feature_names_500[100:110]"
   ]
  },
  {
   "cell_type": "code",
   "execution_count": 26,
   "metadata": {},
   "outputs": [
    {
     "data": {
      "text/plain": [
       "True"
      ]
     },
     "execution_count": 26,
     "metadata": {},
     "output_type": "execute_result"
    }
   ],
   "source": [
    "\"😂\" in feature_names_500"
   ]
  },
  {
   "cell_type": "markdown",
   "metadata": {},
   "source": [
    "---\n",
    "### ** >>> Exercise 2 (Take home): **  \n",
    "Generate an embedding using the TF-IDF vectorizer instead of th BOW one with 1000 features and show the feature names for features [100:110]."
   ]
  },
  {
   "cell_type": "code",
   "execution_count": 27,
   "metadata": {},
   "outputs": [
    {
     "data": {
      "text/plain": [
       "['awareness',\n",
       " 'away',\n",
       " 'awe',\n",
       " 'awesome',\n",
       " 'awful',\n",
       " 'b',\n",
       " 'baby',\n",
       " 'back',\n",
       " 'bad',\n",
       " 'ball']"
      ]
     },
     "execution_count": 27,
     "metadata": {},
     "output_type": "execute_result"
    }
   ],
   "source": [
    "# Answer here\n",
    "from sklearn.feature_extraction.text import TfidfVectorizer\n",
    "max_f = 1000\n",
    "tfidf = TfidfVectorizer(max_features=max_f, tokenizer=nltk.word_tokenize) \n",
    "tfidf.fit(train_df['text'])\n",
    "tfidf_train = tfidf.transform(train_df['text'])\n",
    "tfidf.get_feature_names()[100:110]"
   ]
  },
  {
   "cell_type": "markdown",
   "metadata": {},
   "source": [
    "---\n",
    "## 3. Model\n",
    "### 3.1 Decision Trees\n",
    "Using scikit-learn ```DecisionTreeClassifier``` performs word frequency and uses these as features to train a model.  \n",
    "http://scikit-learn.org/stable/modules/generated/sklearn.tree.DecisionTreeClassifier.html#sklearn.tree.DecisionTreeClassifier"
   ]
  },
  {
   "cell_type": "code",
   "execution_count": 28,
   "metadata": {},
   "outputs": [
    {
     "name": "stdout",
     "output_type": "stream",
     "text": [
      "X_train.shape:  (3613, 500)\n",
      "y_train.shape:  (3613,)\n",
      "X_test.shape:  (347, 500)\n",
      "y_test.shape:  (347,)\n"
     ]
    }
   ],
   "source": [
    "from sklearn.tree import DecisionTreeClassifier\n",
    "\n",
    "# for a classificaiton problem, you need to provide both training & testing data\n",
    "X_train = BOW_500.transform(train_df['text'])\n",
    "y_train = train_df['emotion']\n",
    "\n",
    "X_test = BOW_500.transform(test_df['text'])\n",
    "y_test = test_df['emotion']\n",
    "\n",
    "## take a look at data dimension is a good habbit  :)\n",
    "print('X_train.shape: ', X_train.shape)\n",
    "print('y_train.shape: ', y_train.shape)\n",
    "print('X_test.shape: ', X_test.shape)\n",
    "print('y_test.shape: ', y_test.shape)"
   ]
  },
  {
   "cell_type": "code",
   "execution_count": 29,
   "metadata": {},
   "outputs": [
    {
     "data": {
      "text/plain": [
       "array(['sadness', 'anger', 'joy', 'anger', 'sadness', 'fear', 'fear',\n",
       "       'fear', 'fear', 'joy'], dtype=object)"
      ]
     },
     "execution_count": 29,
     "metadata": {},
     "output_type": "execute_result"
    }
   ],
   "source": [
    "## build DecisionTree model\n",
    "DT_model = DecisionTreeClassifier(random_state=0)\n",
    "\n",
    "## training!\n",
    "DT_model = DT_model.fit(X_train, y_train)\n",
    "\n",
    "## predict!\n",
    "y_train_pred = DT_model.predict(X_train)\n",
    "y_test_pred = DT_model.predict(X_test)\n",
    "\n",
    "## so we get the pred result\n",
    "y_test_pred[:10]"
   ]
  },
  {
   "cell_type": "markdown",
   "metadata": {},
   "source": [
    " "
   ]
  },
  {
   "cell_type": "markdown",
   "metadata": {},
   "source": [
    "---\n",
    "## 4. Results Evaluation"
   ]
  },
  {
   "cell_type": "markdown",
   "metadata": {},
   "source": [
    "Now we will check the results of our model's performance"
   ]
  },
  {
   "cell_type": "code",
   "execution_count": 30,
   "metadata": {},
   "outputs": [
    {
     "name": "stdout",
     "output_type": "stream",
     "text": [
      "training accuracy: 0.99\n",
      "testing accuracy: 0.66\n"
     ]
    }
   ],
   "source": [
    "## accuracy\n",
    "from sklearn.metrics import accuracy_score\n",
    "\n",
    "acc_train = accuracy_score(y_true=y_train, y_pred=y_train_pred)\n",
    "acc_test = accuracy_score(y_true=y_test, y_pred=y_test_pred)\n",
    "\n",
    "print('training accuracy: {}'.format(round(acc_train, 2)))\n",
    "print('testing accuracy: {}'.format(round(acc_test, 2)))\n"
   ]
  },
  {
   "cell_type": "code",
   "execution_count": 31,
   "metadata": {},
   "outputs": [
    {
     "name": "stdout",
     "output_type": "stream",
     "text": [
      "              precision    recall  f1-score   support\n",
      "\n",
      "       anger       0.67      0.70      0.69        84\n",
      "        fear       0.67      0.65      0.66       110\n",
      "         joy       0.65      0.65      0.65        79\n",
      "     sadness       0.66      0.65      0.65        74\n",
      "\n",
      "    accuracy                           0.66       347\n",
      "   macro avg       0.66      0.66      0.66       347\n",
      "weighted avg       0.66      0.66      0.66       347\n",
      "\n"
     ]
    }
   ],
   "source": [
    "## precision, recall, f1-score,\n",
    "from sklearn.metrics import classification_report\n",
    "\n",
    "print(classification_report(y_true=y_test, y_pred=y_test_pred))"
   ]
  },
  {
   "cell_type": "code",
   "execution_count": 32,
   "metadata": {},
   "outputs": [
    {
     "name": "stdout",
     "output_type": "stream",
     "text": [
      "[[59 12 10  3]\n",
      " [15 72 10 13]\n",
      " [ 6 13 51  9]\n",
      " [ 8 10  8 48]]\n"
     ]
    }
   ],
   "source": [
    "## check by confusion matrix\n",
    "from sklearn.metrics import confusion_matrix\n",
    "\n",
    "cm = confusion_matrix(y_true=y_test, y_pred=y_test_pred) \n",
    "print(cm)"
   ]
  },
  {
   "cell_type": "code",
   "execution_count": 33,
   "metadata": {},
   "outputs": [],
   "source": [
    "# Funciton for visualizing confusion_matrix\n",
    "import matplotlib.pyplot as plt\n",
    "import seaborn as sns\n",
    "import numpy as np\n",
    "import itertools\n",
    "\n",
    "def plot_confusion_matrix(cm, classes, title='Confusion matrix',\n",
    "                          cmap=sns.cubehelix_palette(as_cmap=True)):\n",
    "    \"\"\"\n",
    "    This function is modified from: \n",
    "    http://scikit-learn.org/stable/auto_examples/model_selection/plot_confusion_matrix.html\n",
    "    \"\"\"\n",
    "    classes.sort()\n",
    "    tick_marks = np.arange(len(classes))    \n",
    "    \n",
    "    fig, ax = plt.subplots(figsize=(5,5))\n",
    "    im = ax.imshow(cm, interpolation='nearest', cmap=cmap)\n",
    "    ax.figure.colorbar(im, ax=ax)\n",
    "    ax.set(xticks=np.arange(cm.shape[1]),\n",
    "           yticks=np.arange(cm.shape[0]),\n",
    "           xticklabels = classes,\n",
    "           yticklabels = classes,\n",
    "           title = title,\n",
    "           xlabel = 'True label',\n",
    "           ylabel = 'Predicted label')\n",
    "\n",
    "    fmt = 'd'\n",
    "    thresh = cm.max() / 2.\n",
    "    for i, j in itertools.product(range(cm.shape[0]), range(cm.shape[1])):\n",
    "        plt.text(j, i, format(cm[i, j], fmt), horizontalalignment=\"center\", color=\"white\" if cm[i, j] > thresh else \"black\")\n",
    "    ylim_top = len(classes) - 0.5\n",
    "    plt.ylim([ylim_top, -.5])\n",
    "    plt.tight_layout()\n",
    "    plt.show()"
   ]
  },
  {
   "cell_type": "code",
   "execution_count": 34,
   "metadata": {},
   "outputs": [
    {
     "data": {
      "image/png": "[encoded data removed]",
      "text/plain": [
       "<Figure size 360x360 with 2 Axes>"
      ]
     },
     "metadata": {
      "needs_background": "light"
     },
     "output_type": "display_data"
    }
   ],
   "source": [
    "# plot your confusion matrix\n",
    "my_tags = ['anger', 'fear', 'joy', 'sadness']\n",
    "plot_confusion_matrix(cm, classes=my_tags, title='Confusion matrix')"
   ]
  },
  {
   "cell_type": "markdown",
   "metadata": {},
   "source": [
    "---\n",
    "### ** >>> Exercise 3 (Take home): **  \n",
    "Can you interpret the results above? What do they mean?"
   ]
  },
  {
   "cell_type": "markdown",
   "metadata": {},
   "source": [
    "### Answer here\n",
    "#### The confusion matrix calculates how many samples did the computer get wrong or correct.\n",
    "#### The y-axis means that the model predicted and the x-axis means what the sample is true"
   ]
  },
  {
   "cell_type": "markdown",
   "metadata": {},
   "source": [
    "---\n",
    "### ** >>> Exercise 4 (Take home): **  \n",
    "Build a model using a ```Naive Bayes``` model and train it. What are the testing results? \n",
    "\n",
    "*Reference*: https://scikit-learn.org/stable/modules/generated/sklearn.naive_bayes.MultinomialNB.html"
   ]
  },
  {
   "cell_type": "code",
   "execution_count": 35,
   "metadata": {},
   "outputs": [
    {
     "name": "stdout",
     "output_type": "stream",
     "text": [
      "              precision    recall  f1-score   support\n",
      "\n",
      "       anger       0.65      0.65      0.65        84\n",
      "        fear       0.72      0.77      0.75       110\n",
      "         joy       0.76      0.70      0.73        79\n",
      "     sadness       0.63      0.62      0.63        74\n",
      "\n",
      "    accuracy                           0.69       347\n",
      "   macro avg       0.69      0.69      0.69       347\n",
      "weighted avg       0.70      0.69      0.69       347\n",
      "\n"
     ]
    }
   ],
   "source": [
    "# Answer here\n",
    "from sklearn.naive_bayes import MultinomialNB\n",
    "clf = MultinomialNB()\n",
    "clf.fit(X_train, y_train)\n",
    "y_train_pred_NB = clf.predict(X_train)\n",
    "y_test_pred_NB = clf.predict(X_test)\n",
    "print(classification_report(y_true=y_test, y_pred=y_test_pred_NB))"
   ]
  },
  {
   "cell_type": "markdown",
   "metadata": {},
   "source": [
    "---\n",
    "### ** >>> Exercise 5 (Take home): **  \n",
    "\n",
    "How do the results from the Naive Bayes model and the Decision Tree model compare? How do you interpret these differences? Use the theoretical background covered in class to try and explain these differences."
   ]
  },
  {
   "cell_type": "markdown",
   "metadata": {},
   "source": [
    "### Answer here\n",
    "#### The Naive Bayes's acc result is higher than decision tree's\n",
    "#### Decision tree's recall&f1-score in anger&sadness are higher than NB's\n",
    "#### These can see that the probability for the emotion is better than decision tree"
   ]
  },
  {
   "cell_type": "markdown",
   "metadata": {},
   "source": [
    "---"
   ]
  },
  {
   "cell_type": "markdown",
   "metadata": {},
   "source": [
    "## 5. Other things you can try"
   ]
  },
  {
   "cell_type": "markdown",
   "metadata": {},
   "source": [
    "Thus, there are several things you can try that will affect your results. In order to yield better results, you can experiment by: \n",
    "    * Trying different features (Feature engineering)\n",
    "        -Eg. Word2Vec,PCA,LDA,FastText, Clustering......\n",
    "    * Trying different models\n",
    "    * Analyzing your results and interpret them to improve your feature engineering/model building process\n",
    "    * Iterate through the steps above until finding a satisfying result\n",
    "Remember that you should also consider the task at hand and the model you'll feed the data to. "
   ]
  },
  {
   "cell_type": "markdown",
   "metadata": {},
   "source": [
    " "
   ]
  },
  {
   "cell_type": "markdown",
   "metadata": {},
   "source": [
    "---\n",
    "## 6. Deep Learning\n",
    "\n",
    "We use [Keras](https://keras.io/) to be our deep learning framwork, and follow the [Model (functional API)](https://keras.io/models/model/) to build a Deep Neural Network (DNN) model. Keras runs with Tensorflow in the backend. It's a nice abstraction to start working with NN models. \n",
    "\n",
    "Because Deep Learning is a 1-semester course, we can't talk about each detail about it in the lab session. Here, we only provide a simple template about how to build & run a DL model successfully. You can follow this template to design your model.\n",
    "\n",
    "We will begin by building a fully connected network, which looks like this:"
   ]
  },
  {
   "cell_type": "markdown",
   "metadata": {},
   "source": [
    "![Fully Connected Network](pics/pic1.png)\n",
    "\n",
    "(source: https://github.com/drewnoff/spark-notebook-ml-labs/tree/master/labs/DLFramework)\n"
   ]
  },
  {
   "cell_type": "markdown",
   "metadata": {},
   "source": [
    "### 6.1 Prepare data (X, y)"
   ]
  },
  {
   "cell_type": "code",
   "execution_count": 36,
   "metadata": {},
   "outputs": [
    {
     "name": "stderr",
     "output_type": "stream",
     "text": [
      "Using TensorFlow backend.\n",
      "C:\\Users\\Leaf\\anaconda3\\lib\\site-packages\\tensorflow\\python\\framework\\dtypes.py:516: FutureWarning: Passing (type, 1) or '1type' as a synonym of type is deprecated; in a future version of numpy, it will be understood as (type, (1,)) / '(1,)type'.\n",
      "  _np_qint8 = np.dtype([(\"qint8\", np.int8, 1)])\n",
      "C:\\Users\\Leaf\\anaconda3\\lib\\site-packages\\tensorflow\\python\\framework\\dtypes.py:517: FutureWarning: Passing (type, 1) or '1type' as a synonym of type is deprecated; in a future version of numpy, it will be understood as (type, (1,)) / '(1,)type'.\n",
      "  _np_quint8 = np.dtype([(\"quint8\", np.uint8, 1)])\n",
      "C:\\Users\\Leaf\\anaconda3\\lib\\site-packages\\tensorflow\\python\\framework\\dtypes.py:518: FutureWarning: Passing (type, 1) or '1type' as a synonym of type is deprecated; in a future version of numpy, it will be understood as (type, (1,)) / '(1,)type'.\n",
      "  _np_qint16 = np.dtype([(\"qint16\", np.int16, 1)])\n",
      "C:\\Users\\Leaf\\anaconda3\\lib\\site-packages\\tensorflow\\python\\framework\\dtypes.py:519: FutureWarning: Passing (type, 1) or '1type' as a synonym of type is deprecated; in a future version of numpy, it will be understood as (type, (1,)) / '(1,)type'.\n",
      "  _np_quint16 = np.dtype([(\"quint16\", np.uint16, 1)])\n",
      "C:\\Users\\Leaf\\anaconda3\\lib\\site-packages\\tensorflow\\python\\framework\\dtypes.py:520: FutureWarning: Passing (type, 1) or '1type' as a synonym of type is deprecated; in a future version of numpy, it will be understood as (type, (1,)) / '(1,)type'.\n",
      "  _np_qint32 = np.dtype([(\"qint32\", np.int32, 1)])\n",
      "C:\\Users\\Leaf\\anaconda3\\lib\\site-packages\\tensorflow\\python\\framework\\dtypes.py:525: FutureWarning: Passing (type, 1) or '1type' as a synonym of type is deprecated; in a future version of numpy, it will be understood as (type, (1,)) / '(1,)type'.\n",
      "  np_resource = np.dtype([(\"resource\", np.ubyte, 1)])\n",
      "C:\\Users\\Leaf\\anaconda3\\lib\\site-packages\\tensorboard\\compat\\tensorflow_stub\\dtypes.py:541: FutureWarning: Passing (type, 1) or '1type' as a synonym of type is deprecated; in a future version of numpy, it will be understood as (type, (1,)) / '(1,)type'.\n",
      "  _np_qint8 = np.dtype([(\"qint8\", np.int8, 1)])\n",
      "C:\\Users\\Leaf\\anaconda3\\lib\\site-packages\\tensorboard\\compat\\tensorflow_stub\\dtypes.py:542: FutureWarning: Passing (type, 1) or '1type' as a synonym of type is deprecated; in a future version of numpy, it will be understood as (type, (1,)) / '(1,)type'.\n",
      "  _np_quint8 = np.dtype([(\"quint8\", np.uint8, 1)])\n",
      "C:\\Users\\Leaf\\anaconda3\\lib\\site-packages\\tensorboard\\compat\\tensorflow_stub\\dtypes.py:543: FutureWarning: Passing (type, 1) or '1type' as a synonym of type is deprecated; in a future version of numpy, it will be understood as (type, (1,)) / '(1,)type'.\n",
      "  _np_qint16 = np.dtype([(\"qint16\", np.int16, 1)])\n",
      "C:\\Users\\Leaf\\anaconda3\\lib\\site-packages\\tensorboard\\compat\\tensorflow_stub\\dtypes.py:544: FutureWarning: Passing (type, 1) or '1type' as a synonym of type is deprecated; in a future version of numpy, it will be understood as (type, (1,)) / '(1,)type'.\n",
      "  _np_quint16 = np.dtype([(\"quint16\", np.uint16, 1)])\n",
      "C:\\Users\\Leaf\\anaconda3\\lib\\site-packages\\tensorboard\\compat\\tensorflow_stub\\dtypes.py:545: FutureWarning: Passing (type, 1) or '1type' as a synonym of type is deprecated; in a future version of numpy, it will be understood as (type, (1,)) / '(1,)type'.\n",
      "  _np_qint32 = np.dtype([(\"qint32\", np.int32, 1)])\n",
      "C:\\Users\\Leaf\\anaconda3\\lib\\site-packages\\tensorboard\\compat\\tensorflow_stub\\dtypes.py:550: FutureWarning: Passing (type, 1) or '1type' as a synonym of type is deprecated; in a future version of numpy, it will be understood as (type, (1,)) / '(1,)type'.\n",
      "  np_resource = np.dtype([(\"resource\", np.ubyte, 1)])\n"
     ]
    },
    {
     "name": "stdout",
     "output_type": "stream",
     "text": [
      "X_train.shape:  (3613, 500)\n",
      "y_train.shape:  (3613,)\n",
      "X_test.shape:  (347, 500)\n",
      "y_test.shape:  (347,)\n"
     ]
    }
   ],
   "source": [
    "import keras\n",
    "\n",
    "# standardize name (X, y) \n",
    "X_train = BOW_500.transform(train_df['text'])\n",
    "y_train = train_df['emotion']\n",
    "\n",
    "X_test = BOW_500.transform(test_df['text'])\n",
    "y_test = test_df['emotion']\n",
    "\n",
    "## check dimension is a good habbit \n",
    "print('X_train.shape: ', X_train.shape)\n",
    "print('y_train.shape: ', y_train.shape)\n",
    "print('X_test.shape: ', X_test.shape)\n",
    "print('y_test.shape: ', y_test.shape)"
   ]
  },
  {
   "cell_type": "markdown",
   "metadata": {},
   "source": [
    "### 6.2 Deal with categorical label (y)\n",
    "\n",
    "Rather than put your label `train_df['emotion']` directly into a model, we have to process these categorical (or say nominal) label by ourselves. \n",
    "\n",
    "Here, we use the basic method [one-hot encoding](https://en.wikipedia.org/wiki/One-hot) to transform our categorical  labels to numerical ones.\n"
   ]
  },
  {
   "cell_type": "code",
   "execution_count": 37,
   "metadata": {},
   "outputs": [
    {
     "name": "stdout",
     "output_type": "stream",
     "text": [
      "check label:  ['anger' 'fear' 'joy' 'sadness']\n",
      "\n",
      "## Before convert\n",
      "y_train[0:4]:\n",
      " 1988       fear\n",
      "99        anger\n",
      "3285    sadness\n",
      "1671       fear\n",
      "Name: emotion, dtype: object\n",
      "\n",
      "y_train.shape:  (3613,)\n",
      "y_test.shape:  (347,)\n",
      "\n",
      "\n",
      "## After convert\n",
      "y_train[0:4]:\n",
      " [[0. 1. 0. 0.]\n",
      " [1. 0. 0. 0.]\n",
      " [0. 0. 0. 1.]\n",
      " [0. 1. 0. 0.]]\n",
      "\n",
      "y_train.shape:  (3613, 4)\n",
      "y_test.shape:  (347, 4)\n"
     ]
    }
   ],
   "source": [
    "## deal with label (string -> one-hot)\n",
    "\n",
    "from sklearn.preprocessing import LabelEncoder\n",
    "\n",
    "label_encoder = LabelEncoder()\n",
    "label_encoder.fit(y_train)\n",
    "print('check label: ', label_encoder.classes_)\n",
    "print('\\n## Before convert')\n",
    "print('y_train[0:4]:\\n', y_train[0:4])\n",
    "print('\\ny_train.shape: ', y_train.shape)\n",
    "print('y_test.shape: ', y_test.shape)\n",
    "\n",
    "def label_encode(le, labels):\n",
    "    enc = le.transform(labels)\n",
    "    return keras.utils.to_categorical(enc)\n",
    "\n",
    "def label_decode(le, one_hot_label):\n",
    "    dec = np.argmax(one_hot_label, axis=1)\n",
    "    return le.inverse_transform(dec)\n",
    "\n",
    "y_train = label_encode(label_encoder, y_train)\n",
    "y_test = label_encode(label_encoder, y_test)\n",
    "\n",
    "print('\\n\\n## After convert')\n",
    "print('y_train[0:4]:\\n', y_train[0:4])\n",
    "print('\\ny_train.shape: ', y_train.shape)\n",
    "print('y_test.shape: ', y_test.shape)\n"
   ]
  },
  {
   "cell_type": "markdown",
   "metadata": {},
   "source": [
    "### 6.3 Build model"
   ]
  },
  {
   "cell_type": "code",
   "execution_count": 38,
   "metadata": {},
   "outputs": [
    {
     "name": "stdout",
     "output_type": "stream",
     "text": [
      "input_shape:  500\n",
      "output_shape:  4\n"
     ]
    }
   ],
   "source": [
    "# I/O check\n",
    "input_shape = X_train.shape[1]\n",
    "print('input_shape: ', input_shape)\n",
    "\n",
    "output_shape = len(label_encoder.classes_)\n",
    "print('output_shape: ', output_shape)"
   ]
  },
  {
   "cell_type": "markdown",
   "metadata": {},
   "source": [
    "![Imgur](pics/pic2.png)"
   ]
  },
  {
   "cell_type": "code",
   "execution_count": 39,
   "metadata": {},
   "outputs": [
    {
     "name": "stdout",
     "output_type": "stream",
     "text": [
      "Model: \"model_1\"\n",
      "_________________________________________________________________\n",
      "Layer (type)                 Output Shape              Param #   \n",
      "=================================================================\n",
      "input_1 (InputLayer)         (None, 500)               0         \n",
      "_________________________________________________________________\n",
      "dense_1 (Dense)              (None, 64)                32064     \n",
      "_________________________________________________________________\n",
      "re_lu_1 (ReLU)               (None, 64)                0         \n",
      "_________________________________________________________________\n",
      "dense_2 (Dense)              (None, 64)                4160      \n",
      "_________________________________________________________________\n",
      "re_lu_2 (ReLU)               (None, 64)                0         \n",
      "_________________________________________________________________\n",
      "dense_3 (Dense)              (None, 4)                 260       \n",
      "_________________________________________________________________\n",
      "softmax_1 (Softmax)          (None, 4)                 0         \n",
      "=================================================================\n",
      "Total params: 36,484\n",
      "Trainable params: 36,484\n",
      "Non-trainable params: 0\n",
      "_________________________________________________________________\n"
     ]
    }
   ],
   "source": [
    "from keras.models import Model\n",
    "from keras.layers import Input, Dense\n",
    "from keras.layers import ReLU, Softmax\n",
    "\n",
    "# input layer\n",
    "model_input = Input(shape=(input_shape, ))  # 500\n",
    "X = model_input\n",
    "\n",
    "# 1st hidden layer\n",
    "X_W1 = Dense(units=64)(X)  # 64\n",
    "H1 = ReLU()(X_W1)\n",
    "\n",
    "# 2nd hidden layer\n",
    "H1_W2 = Dense(units=64)(H1)  # 64\n",
    "H2 = ReLU()(H1_W2)\n",
    "\n",
    "# output layer\n",
    "H2_W3 = Dense(units=output_shape)(H2)  # 4\n",
    "H3 = Softmax()(H2_W3)\n",
    "\n",
    "model_output = H3\n",
    "\n",
    "# create model\n",
    "model = Model(inputs=[model_input], outputs=[model_output])\n",
    "\n",
    "# loss function & optimizer\n",
    "model.compile(optimizer='adam',\n",
    "              loss='categorical_crossentropy',\n",
    "              metrics=['accuracy'])\n",
    "\n",
    "# show model construction\n",
    "model.summary()"
   ]
  },
  {
   "cell_type": "markdown",
   "metadata": {},
   "source": [
    "### 6.4 Train"
   ]
  },
  {
   "cell_type": "code",
   "execution_count": 40,
   "metadata": {},
   "outputs": [
    {
     "name": "stdout",
     "output_type": "stream",
     "text": [
      "WARNING:tensorflow:From C:\\Users\\Leaf\\anaconda3\\lib\\site-packages\\keras\\backend\\tensorflow_backend.py:422: The name tf.global_variables is deprecated. Please use tf.compat.v1.global_variables instead.\n",
      "\n",
      "Train on 3613 samples, validate on 347 samples\n",
      "Epoch 1/25\n",
      "3613/3613 [==============================] - 0s 137us/step - loss: 1.3328 - accuracy: 0.3576 - val_loss: 1.2721 - val_accuracy: 0.4006\n",
      "Epoch 2/25\n",
      "3613/3613 [==============================] - 0s 54us/step - loss: 0.9955 - accuracy: 0.6413 - val_loss: 0.9500 - val_accuracy: 0.6542\n",
      "Epoch 3/25\n",
      "3613/3613 [==============================] - 0s 48us/step - loss: 0.5832 - accuracy: 0.7872 - val_loss: 0.8073 - val_accuracy: 0.6686\n",
      "Epoch 4/25\n",
      "3613/3613 [==============================] - 0s 48us/step - loss: 0.4088 - accuracy: 0.8528 - val_loss: 0.7778 - val_accuracy: 0.7061\n",
      "Epoch 5/25\n",
      "3613/3613 [==============================] - 0s 51us/step - loss: 0.3241 - accuracy: 0.8896 - val_loss: 0.8394 - val_accuracy: 0.6888\n",
      "Epoch 6/25\n",
      "3613/3613 [==============================] - 0s 45us/step - loss: 0.2575 - accuracy: 0.9084 - val_loss: 0.8643 - val_accuracy: 0.6801\n",
      "Epoch 7/25\n",
      "3613/3613 [==============================] - 0s 43us/step - loss: 0.2129 - accuracy: 0.9305 - val_loss: 0.9279 - val_accuracy: 0.6830\n",
      "Epoch 8/25\n",
      "3613/3613 [==============================] - 0s 43us/step - loss: 0.1786 - accuracy: 0.9430 - val_loss: 0.9965 - val_accuracy: 0.6628\n",
      "Epoch 9/25\n",
      "3613/3613 [==============================] - 0s 43us/step - loss: 0.1544 - accuracy: 0.9582 - val_loss: 1.0526 - val_accuracy: 0.6744\n",
      "Epoch 10/25\n",
      "3613/3613 [==============================] - 0s 44us/step - loss: 0.1320 - accuracy: 0.9590 - val_loss: 1.1224 - val_accuracy: 0.6801\n",
      "Epoch 11/25\n",
      "3613/3613 [==============================] - 0s 43us/step - loss: 0.1129 - accuracy: 0.9662 - val_loss: 1.1893 - val_accuracy: 0.6801\n",
      "Epoch 12/25\n",
      "3613/3613 [==============================] - 0s 43us/step - loss: 0.1106 - accuracy: 0.9676 - val_loss: 1.1967 - val_accuracy: 0.6571\n",
      "Epoch 13/25\n",
      "3613/3613 [==============================] - 0s 44us/step - loss: 0.0992 - accuracy: 0.9720 - val_loss: 1.2889 - val_accuracy: 0.6657\n",
      "Epoch 14/25\n",
      "3613/3613 [==============================] - 0s 42us/step - loss: 0.0904 - accuracy: 0.9723 - val_loss: 1.4021 - val_accuracy: 0.6772\n",
      "Epoch 15/25\n",
      "3613/3613 [==============================] - 0s 44us/step - loss: 0.0945 - accuracy: 0.9726 - val_loss: 1.3535 - val_accuracy: 0.6744\n",
      "Epoch 16/25\n",
      "3613/3613 [==============================] - 0s 43us/step - loss: 0.0792 - accuracy: 0.9754 - val_loss: 1.3636 - val_accuracy: 0.6744\n",
      "Epoch 17/25\n",
      "3613/3613 [==============================] - 0s 43us/step - loss: 0.0784 - accuracy: 0.9734 - val_loss: 1.4248 - val_accuracy: 0.6830\n",
      "Epoch 18/25\n",
      "3613/3613 [==============================] - 0s 44us/step - loss: 0.0749 - accuracy: 0.9756 - val_loss: 1.4557 - val_accuracy: 0.6715\n",
      "Epoch 19/25\n",
      "3613/3613 [==============================] - 0s 48us/step - loss: 0.0730 - accuracy: 0.9754 - val_loss: 1.4943 - val_accuracy: 0.6715\n",
      "Epoch 20/25\n",
      "3613/3613 [==============================] - 0s 52us/step - loss: 0.0717 - accuracy: 0.9759 - val_loss: 1.5636 - val_accuracy: 0.6715\n",
      "Epoch 21/25\n",
      "3613/3613 [==============================] - 0s 51us/step - loss: 0.0660 - accuracy: 0.9768 - val_loss: 1.5479 - val_accuracy: 0.6542\n",
      "Epoch 22/25\n",
      "3613/3613 [==============================] - 0s 44us/step - loss: 0.0694 - accuracy: 0.9754 - val_loss: 1.5430 - val_accuracy: 0.6744\n",
      "Epoch 23/25\n",
      "3613/3613 [==============================] - 0s 50us/step - loss: 0.0593 - accuracy: 0.9779 - val_loss: 1.5885 - val_accuracy: 0.6772\n",
      "Epoch 24/25\n",
      "3613/3613 [==============================] - 0s 51us/step - loss: 0.0653 - accuracy: 0.9776 - val_loss: 1.6240 - val_accuracy: 0.6686\n",
      "Epoch 25/25\n",
      "3613/3613 [==============================] - 0s 51us/step - loss: 0.0625 - accuracy: 0.9768 - val_loss: 1.6216 - val_accuracy: 0.6744\n",
      "training finish\n"
     ]
    }
   ],
   "source": [
    "from keras.callbacks import CSVLogger\n",
    "\n",
    "csv_logger = CSVLogger('logs/training_log.csv')\n",
    "\n",
    "# training setting\n",
    "epochs = 25\n",
    "batch_size = 32\n",
    "\n",
    "# training!\n",
    "history = model.fit(X_train, y_train, \n",
    "                    epochs=epochs, \n",
    "                    batch_size=batch_size, \n",
    "                    callbacks=[csv_logger],\n",
    "                    validation_data = (X_test, y_test))\n",
    "print('training finish')"
   ]
  },
  {
   "cell_type": "markdown",
   "metadata": {},
   "source": [
    "### 6.5 Predict on testing data"
   ]
  },
  {
   "cell_type": "code",
   "execution_count": 41,
   "metadata": {},
   "outputs": [
    {
     "data": {
      "text/plain": [
       "array([[7.1278015e-07, 1.5060272e-04, 1.1485926e-02, 9.8836285e-01],\n",
       "       [6.2880838e-01, 3.8057475e-05, 3.7111703e-01, 3.6514346e-05],\n",
       "       [6.2642236e-08, 3.0548117e-06, 9.9995887e-01, 3.7976530e-05],\n",
       "       [3.4448519e-01, 1.9146301e-03, 1.5345695e-03, 6.5206558e-01],\n",
       "       [1.5152632e-01, 9.7955589e-04, 2.4320434e-01, 6.0428977e-01]],\n",
       "      dtype=float32)"
      ]
     },
     "execution_count": 41,
     "metadata": {},
     "output_type": "execute_result"
    }
   ],
   "source": [
    "## predict\n",
    "pred_result = model.predict(X_test, batch_size=128)\n",
    "pred_result[:5]"
   ]
  },
  {
   "cell_type": "code",
   "execution_count": 42,
   "metadata": {},
   "outputs": [
    {
     "data": {
      "text/plain": [
       "array(['sadness', 'anger', 'joy', 'sadness', 'sadness'], dtype=object)"
      ]
     },
     "execution_count": 42,
     "metadata": {},
     "output_type": "execute_result"
    }
   ],
   "source": [
    "pred_result = label_decode(label_encoder, pred_result)\n",
    "pred_result[:5]"
   ]
  },
  {
   "cell_type": "code",
   "execution_count": 43,
   "metadata": {},
   "outputs": [
    {
     "name": "stdout",
     "output_type": "stream",
     "text": [
      "testing accuracy: 0.67\n"
     ]
    }
   ],
   "source": [
    "from sklearn.metrics import accuracy_score\n",
    "\n",
    "print('testing accuracy: {}'.format(round(accuracy_score(label_decode(label_encoder, y_test), pred_result), 2)))"
   ]
  },
  {
   "cell_type": "code",
   "execution_count": 44,
   "metadata": {},
   "outputs": [
    {
     "data": {
      "text/html": [
       "<div>\n",
       "<style scoped>\n",
       "    .dataframe tbody tr th:only-of-type {\n",
       "        vertical-align: middle;\n",
       "    }\n",
       "\n",
       "    .dataframe tbody tr th {\n",
       "        vertical-align: top;\n",
       "    }\n",
       "\n",
       "    .dataframe thead th {\n",
       "        text-align: right;\n",
       "    }\n",
       "</style>\n",
       "<table border=\"1\" class=\"dataframe\">\n",
       "  <thead>\n",
       "    <tr style=\"text-align: right;\">\n",
       "      <th></th>\n",
       "      <th>epoch</th>\n",
       "      <th>accuracy</th>\n",
       "      <th>loss</th>\n",
       "      <th>val_accuracy</th>\n",
       "      <th>val_loss</th>\n",
       "    </tr>\n",
       "  </thead>\n",
       "  <tbody>\n",
       "    <tr>\n",
       "      <th>0</th>\n",
       "      <td>0</td>\n",
       "      <td>0.357598</td>\n",
       "      <td>1.332842</td>\n",
       "      <td>0.400576</td>\n",
       "      <td>1.272125</td>\n",
       "    </tr>\n",
       "    <tr>\n",
       "      <th>1</th>\n",
       "      <td>1</td>\n",
       "      <td>0.641295</td>\n",
       "      <td>0.995474</td>\n",
       "      <td>0.654179</td>\n",
       "      <td>0.950022</td>\n",
       "    </tr>\n",
       "    <tr>\n",
       "      <th>2</th>\n",
       "      <td>2</td>\n",
       "      <td>0.787157</td>\n",
       "      <td>0.583242</td>\n",
       "      <td>0.668588</td>\n",
       "      <td>0.807292</td>\n",
       "    </tr>\n",
       "    <tr>\n",
       "      <th>3</th>\n",
       "      <td>3</td>\n",
       "      <td>0.852754</td>\n",
       "      <td>0.408778</td>\n",
       "      <td>0.706052</td>\n",
       "      <td>0.777801</td>\n",
       "    </tr>\n",
       "    <tr>\n",
       "      <th>4</th>\n",
       "      <td>4</td>\n",
       "      <td>0.889565</td>\n",
       "      <td>0.324105</td>\n",
       "      <td>0.688761</td>\n",
       "      <td>0.839396</td>\n",
       "    </tr>\n",
       "    <tr>\n",
       "      <th>5</th>\n",
       "      <td>5</td>\n",
       "      <td>0.908386</td>\n",
       "      <td>0.257537</td>\n",
       "      <td>0.680115</td>\n",
       "      <td>0.864343</td>\n",
       "    </tr>\n",
       "    <tr>\n",
       "      <th>6</th>\n",
       "      <td>6</td>\n",
       "      <td>0.930529</td>\n",
       "      <td>0.212897</td>\n",
       "      <td>0.682997</td>\n",
       "      <td>0.927918</td>\n",
       "    </tr>\n",
       "    <tr>\n",
       "      <th>7</th>\n",
       "      <td>7</td>\n",
       "      <td>0.942984</td>\n",
       "      <td>0.178554</td>\n",
       "      <td>0.662824</td>\n",
       "      <td>0.996520</td>\n",
       "    </tr>\n",
       "    <tr>\n",
       "      <th>8</th>\n",
       "      <td>8</td>\n",
       "      <td>0.958207</td>\n",
       "      <td>0.154418</td>\n",
       "      <td>0.674352</td>\n",
       "      <td>1.052566</td>\n",
       "    </tr>\n",
       "    <tr>\n",
       "      <th>9</th>\n",
       "      <td>9</td>\n",
       "      <td>0.959037</td>\n",
       "      <td>0.132032</td>\n",
       "      <td>0.680115</td>\n",
       "      <td>1.122408</td>\n",
       "    </tr>\n",
       "    <tr>\n",
       "      <th>10</th>\n",
       "      <td>10</td>\n",
       "      <td>0.966233</td>\n",
       "      <td>0.112885</td>\n",
       "      <td>0.680115</td>\n",
       "      <td>1.189270</td>\n",
       "    </tr>\n",
       "    <tr>\n",
       "      <th>11</th>\n",
       "      <td>11</td>\n",
       "      <td>0.967617</td>\n",
       "      <td>0.110591</td>\n",
       "      <td>0.657061</td>\n",
       "      <td>1.196657</td>\n",
       "    </tr>\n",
       "    <tr>\n",
       "      <th>12</th>\n",
       "      <td>12</td>\n",
       "      <td>0.972045</td>\n",
       "      <td>0.099152</td>\n",
       "      <td>0.665706</td>\n",
       "      <td>1.288947</td>\n",
       "    </tr>\n",
       "    <tr>\n",
       "      <th>13</th>\n",
       "      <td>13</td>\n",
       "      <td>0.972322</td>\n",
       "      <td>0.090402</td>\n",
       "      <td>0.677233</td>\n",
       "      <td>1.402148</td>\n",
       "    </tr>\n",
       "    <tr>\n",
       "      <th>14</th>\n",
       "      <td>14</td>\n",
       "      <td>0.972599</td>\n",
       "      <td>0.094470</td>\n",
       "      <td>0.674352</td>\n",
       "      <td>1.353460</td>\n",
       "    </tr>\n",
       "    <tr>\n",
       "      <th>15</th>\n",
       "      <td>15</td>\n",
       "      <td>0.975367</td>\n",
       "      <td>0.079175</td>\n",
       "      <td>0.674352</td>\n",
       "      <td>1.363611</td>\n",
       "    </tr>\n",
       "    <tr>\n",
       "      <th>16</th>\n",
       "      <td>16</td>\n",
       "      <td>0.973429</td>\n",
       "      <td>0.078382</td>\n",
       "      <td>0.682997</td>\n",
       "      <td>1.424753</td>\n",
       "    </tr>\n",
       "    <tr>\n",
       "      <th>17</th>\n",
       "      <td>17</td>\n",
       "      <td>0.975643</td>\n",
       "      <td>0.074860</td>\n",
       "      <td>0.671470</td>\n",
       "      <td>1.455662</td>\n",
       "    </tr>\n",
       "    <tr>\n",
       "      <th>18</th>\n",
       "      <td>18</td>\n",
       "      <td>0.975367</td>\n",
       "      <td>0.072960</td>\n",
       "      <td>0.671470</td>\n",
       "      <td>1.494272</td>\n",
       "    </tr>\n",
       "    <tr>\n",
       "      <th>19</th>\n",
       "      <td>19</td>\n",
       "      <td>0.975920</td>\n",
       "      <td>0.071671</td>\n",
       "      <td>0.671470</td>\n",
       "      <td>1.563566</td>\n",
       "    </tr>\n",
       "    <tr>\n",
       "      <th>20</th>\n",
       "      <td>20</td>\n",
       "      <td>0.976751</td>\n",
       "      <td>0.066009</td>\n",
       "      <td>0.654179</td>\n",
       "      <td>1.547936</td>\n",
       "    </tr>\n",
       "    <tr>\n",
       "      <th>21</th>\n",
       "      <td>21</td>\n",
       "      <td>0.975367</td>\n",
       "      <td>0.069389</td>\n",
       "      <td>0.674352</td>\n",
       "      <td>1.543008</td>\n",
       "    </tr>\n",
       "    <tr>\n",
       "      <th>22</th>\n",
       "      <td>22</td>\n",
       "      <td>0.977858</td>\n",
       "      <td>0.059300</td>\n",
       "      <td>0.677233</td>\n",
       "      <td>1.588501</td>\n",
       "    </tr>\n",
       "    <tr>\n",
       "      <th>23</th>\n",
       "      <td>23</td>\n",
       "      <td>0.977581</td>\n",
       "      <td>0.065273</td>\n",
       "      <td>0.668588</td>\n",
       "      <td>1.623953</td>\n",
       "    </tr>\n",
       "    <tr>\n",
       "      <th>24</th>\n",
       "      <td>24</td>\n",
       "      <td>0.976751</td>\n",
       "      <td>0.062547</td>\n",
       "      <td>0.674352</td>\n",
       "      <td>1.621563</td>\n",
       "    </tr>\n",
       "  </tbody>\n",
       "</table>\n",
       "</div>"
      ],
      "text/plain": [
       "    epoch  accuracy      loss  val_accuracy  val_loss\n",
       "0       0  0.357598  1.332842      0.400576  1.272125\n",
       "1       1  0.641295  0.995474      0.654179  0.950022\n",
       "2       2  0.787157  0.583242      0.668588  0.807292\n",
       "3       3  0.852754  0.408778      0.706052  0.777801\n",
       "4       4  0.889565  0.324105      0.688761  0.839396\n",
       "5       5  0.908386  0.257537      0.680115  0.864343\n",
       "6       6  0.930529  0.212897      0.682997  0.927918\n",
       "7       7  0.942984  0.178554      0.662824  0.996520\n",
       "8       8  0.958207  0.154418      0.674352  1.052566\n",
       "9       9  0.959037  0.132032      0.680115  1.122408\n",
       "10     10  0.966233  0.112885      0.680115  1.189270\n",
       "11     11  0.967617  0.110591      0.657061  1.196657\n",
       "12     12  0.972045  0.099152      0.665706  1.288947\n",
       "13     13  0.972322  0.090402      0.677233  1.402148\n",
       "14     14  0.972599  0.094470      0.674352  1.353460\n",
       "15     15  0.975367  0.079175      0.674352  1.363611\n",
       "16     16  0.973429  0.078382      0.682997  1.424753\n",
       "17     17  0.975643  0.074860      0.671470  1.455662\n",
       "18     18  0.975367  0.072960      0.671470  1.494272\n",
       "19     19  0.975920  0.071671      0.671470  1.563566\n",
       "20     20  0.976751  0.066009      0.654179  1.547936\n",
       "21     21  0.975367  0.069389      0.674352  1.543008\n",
       "22     22  0.977858  0.059300      0.677233  1.588501\n",
       "23     23  0.977581  0.065273      0.668588  1.623953\n",
       "24     24  0.976751  0.062547      0.674352  1.621563"
      ]
     },
     "execution_count": 44,
     "metadata": {},
     "output_type": "execute_result"
    }
   ],
   "source": [
    "#Let's take a look at the training log\n",
    "training_log = pd.DataFrame()\n",
    "training_log = pd.read_csv(\"logs/training_log.csv\")\n",
    "training_log"
   ]
  },
  {
   "cell_type": "markdown",
   "metadata": {},
   "source": [
    "---\n",
    "### ** >>> Exercise 6 (Take home): **  \n",
    "\n",
    "Plot the Training and Validation Accuracy and Loss (different plots), just like the images below (Note: the pictures below are an example from a different model). How to interpret the graphs you got? How are they related to the concept of overfitting/underfitting covered in class?\n",
    "<table><tr>\n",
    "    <td><img src=\"pics/pic3.png\" style=\"width: 300px;\"/> </td>\n",
    "    <td><img src=\"pics/pic4.png\" style=\"width: 300px;\"/> </td>\n",
    "</tr></table>"
   ]
  },
  {
   "cell_type": "code",
   "execution_count": 45,
   "metadata": {},
   "outputs": [],
   "source": [
    "# Answer here\n",
    "epoch = training_log.iloc[:,0]\n",
    "acc = training_log.iloc[:,1]\n",
    "loss = training_log.iloc[:,2]\n",
    "val_acc = training_log.iloc[:,3]\n",
    "val_loss = training_log.iloc[:,4]"
   ]
  },
  {
   "cell_type": "code",
   "execution_count": 66,
   "metadata": {},
   "outputs": [
    {
     "data": {
      "image/png": "[encoded data removed]",
      "text/plain": [
       "<Figure size 432x288 with 1 Axes>"
      ]
     },
     "metadata": {
      "needs_background": "light"
     },
     "output_type": "display_data"
    }
   ],
   "source": [
    "plt.plot(acc,'b-',label=\"Train accuracy\")\n",
    "plt.plot(val_acc,'r-',label=\"Val accuracy\")\n",
    "plt.legend()\n",
    "plt.show()"
   ]
  },
  {
   "cell_type": "code",
   "execution_count": 67,
   "metadata": {},
   "outputs": [
    {
     "data": {
      "image/png": "[encoded data removed]",
      "text/plain": [
       "<Figure size 432x288 with 1 Axes>"
      ]
     },
     "metadata": {
      "needs_background": "light"
     },
     "output_type": "display_data"
    }
   ],
   "source": [
    "plt.plot(loss,'b-',label=\"Train loss\")\n",
    "plt.plot(val_loss,'r-',label=\"Val loss\")\n",
    "plt.legend()\n",
    "plt.show()"
   ]
  },
  {
   "cell_type": "markdown",
   "metadata": {},
   "source": [
    "---"
   ]
  },
  {
   "cell_type": "markdown",
   "metadata": {},
   "source": [
    "### Note\n",
    "\n",
    "If you don't have a GPU (level is higher than GTX 1060) or you are not good at setting lots of things about computer, we recommend you to use the [kaggle kernel](https://www.kaggle.com/kernels) to do deep learning model training. They have already installed all the librarys and provided free GPU for you to use.\n",
    "\n",
    "Note however that you will only be able to run a kernel for 6 hours. After 6 hours of inactivity, your Kaggle kernel will shut down (meaning if your model takes more than 6 hours to train, you can't train it at once).\n",
    "\n",
    "\n",
    "### More Information for your reference\n",
    "\n",
    "* Keras document: https://keras.io/\n",
    "* Keras GitHub example: https://github.com/keras-team/keras/tree/master/examples\n",
    "* CS229: Machine Learning: http://cs229.stanford.edu/syllabus.html\n",
    "* Deep Learning cheatsheet: https://stanford.edu/~shervine/teaching/cs-229/cheatsheet-deep-learning\n",
    "* If you want to try TensorFlow or PyTorch: https://pytorch.org/tutorials/\n",
    "https://www.tensorflow.org/tutorials/quickstart/beginner"
   ]
  },
  {
   "cell_type": "markdown",
   "metadata": {},
   "source": [
    "---\n",
    "## 7. Word2Vector\n",
    "\n",
    "We will introduce how to use `gensim` to train your word2vec model and how to load a pre-trained model.\n",
    "\n",
    "https://radimrehurek.com/gensim/index.html"
   ]
  },
  {
   "cell_type": "markdown",
   "metadata": {},
   "source": [
    "### 7.1 Prepare training corpus"
   ]
  },
  {
   "cell_type": "code",
   "execution_count": 48,
   "metadata": {},
   "outputs": [
    {
     "data": {
      "text/html": [
       "<div>\n",
       "<style scoped>\n",
       "    .dataframe tbody tr th:only-of-type {\n",
       "        vertical-align: middle;\n",
       "    }\n",
       "\n",
       "    .dataframe tbody tr th {\n",
       "        vertical-align: top;\n",
       "    }\n",
       "\n",
       "    .dataframe thead th {\n",
       "        text-align: right;\n",
       "    }\n",
       "</style>\n",
       "<table border=\"1\" class=\"dataframe\">\n",
       "  <thead>\n",
       "    <tr style=\"text-align: right;\">\n",
       "      <th></th>\n",
       "      <th>id</th>\n",
       "      <th>text</th>\n",
       "      <th>text_tokenized</th>\n",
       "    </tr>\n",
       "  </thead>\n",
       "  <tbody>\n",
       "    <tr>\n",
       "      <th>1988</th>\n",
       "      <td>21131</td>\n",
       "      <td>#rocklandcounty get to ravis in suffern, ny. G...</td>\n",
       "      <td>[#, rocklandcounty, get, to, ravis, in, suffer...</td>\n",
       "    </tr>\n",
       "    <tr>\n",
       "      <th>99</th>\n",
       "      <td>10099</td>\n",
       "      <td>@politico @realDonaldTrump another angry white...</td>\n",
       "      <td>[@, politico, @, realDonaldTrump, another, ang...</td>\n",
       "    </tr>\n",
       "    <tr>\n",
       "      <th>3285</th>\n",
       "      <td>40458</td>\n",
       "      <td>@talkRobyn oh dear I have to watch this the wo...</td>\n",
       "      <td>[@, talkRobyn, oh, dear, I, have, to, watch, t...</td>\n",
       "    </tr>\n",
       "    <tr>\n",
       "      <th>1671</th>\n",
       "      <td>20814</td>\n",
       "      <td>@CBSThisMorning @newsgirl123456 again, profili...</td>\n",
       "      <td>[@, CBSThisMorning, @, newsgirl123456, again, ...</td>\n",
       "    </tr>\n",
       "    <tr>\n",
       "      <th>3436</th>\n",
       "      <td>40609</td>\n",
       "      <td>@holly_lolly7 I just have serious respect for ...</td>\n",
       "      <td>[@, holly_lolly7, I, just, have, serious, resp...</td>\n",
       "    </tr>\n",
       "  </tbody>\n",
       "</table>\n",
       "</div>"
      ],
      "text/plain": [
       "         id                                               text  \\\n",
       "1988  21131  #rocklandcounty get to ravis in suffern, ny. G...   \n",
       "99    10099  @politico @realDonaldTrump another angry white...   \n",
       "3285  40458  @talkRobyn oh dear I have to watch this the wo...   \n",
       "1671  20814  @CBSThisMorning @newsgirl123456 again, profili...   \n",
       "3436  40609  @holly_lolly7 I just have serious respect for ...   \n",
       "\n",
       "                                         text_tokenized  \n",
       "1988  [#, rocklandcounty, get, to, ravis, in, suffer...  \n",
       "99    [@, politico, @, realDonaldTrump, another, ang...  \n",
       "3285  [@, talkRobyn, oh, dear, I, have, to, watch, t...  \n",
       "1671  [@, CBSThisMorning, @, newsgirl123456, again, ...  \n",
       "3436  [@, holly_lolly7, I, just, have, serious, resp...  "
      ]
     },
     "execution_count": 48,
     "metadata": {},
     "output_type": "execute_result"
    }
   ],
   "source": [
    "## check library\n",
    "import gensim\n",
    "\n",
    "## ignore warnings\n",
    "import warnings\n",
    "warnings.filterwarnings('ignore')\n",
    "\n",
    "# # if you want to see the training messages, you can use it\n",
    "# import logging\n",
    "# logging.basicConfig(format='%(asctime)s : %(levelname)s : %(message)s', level=logging.INFO)\n",
    "\n",
    "## the input type\n",
    "train_df['text_tokenized'] = train_df['text'].apply(lambda x: nltk.word_tokenize(x))\n",
    "train_df[['id', 'text', 'text_tokenized']].head()"
   ]
  },
  {
   "cell_type": "code",
   "execution_count": 49,
   "metadata": {},
   "outputs": [
    {
     "data": {
      "text/plain": [
       "array([list(['#', 'rocklandcounty', 'get', 'to', 'ravis', 'in', 'suffern', ',', 'ny', '.', 'Great', 'food', ',', 'new', '#', 'chef', ',', 'terrific', 'atmosphere', '.', 'Say', \"'twitter\", \"'\", 'to', 'server', 'and', 'get', 'free', '#', 'appetizer']),\n",
       "       list(['@', 'politico', '@', 'realDonaldTrump', 'another', 'angry', 'white', 'man', '!']),\n",
       "       list(['@', 'talkRobyn', 'oh', 'dear', 'I', 'have', 'to', 'watch', 'this', 'the', 'woman', 'with', 'the', 'pout', 'did', 'well'])],\n",
       "      dtype=object)"
      ]
     },
     "execution_count": 49,
     "metadata": {},
     "output_type": "execute_result"
    }
   ],
   "source": [
    "## create the training corpus\n",
    "training_corpus = train_df['text_tokenized'].values\n",
    "training_corpus[:3]"
   ]
  },
  {
   "cell_type": "markdown",
   "metadata": {},
   "source": [
    "### 7.2 Training our model\n",
    "\n",
    "You can try to train your own model. More details: https://radimrehurek.com/gensim/models/word2vec.html"
   ]
  },
  {
   "cell_type": "code",
   "execution_count": 50,
   "metadata": {},
   "outputs": [
    {
     "data": {
      "text/html": [
       "<div>\n",
       "<style scoped>\n",
       "    .dataframe tbody tr th:only-of-type {\n",
       "        vertical-align: middle;\n",
       "    }\n",
       "\n",
       "    .dataframe tbody tr th {\n",
       "        vertical-align: top;\n",
       "    }\n",
       "\n",
       "    .dataframe thead th {\n",
       "        text-align: right;\n",
       "    }\n",
       "</style>\n",
       "<table border=\"1\" class=\"dataframe\">\n",
       "  <thead>\n",
       "    <tr style=\"text-align: right;\">\n",
       "      <th></th>\n",
       "      <th>id</th>\n",
       "      <th>text</th>\n",
       "      <th>text_tokenized</th>\n",
       "    </tr>\n",
       "  </thead>\n",
       "  <tbody>\n",
       "    <tr>\n",
       "      <th>1988</th>\n",
       "      <td>21131</td>\n",
       "      <td>#rocklandcounty get to ravis in suffern, ny. G...</td>\n",
       "      <td>[#, rocklandcounty, get, to, ravis, in, suffer...</td>\n",
       "    </tr>\n",
       "    <tr>\n",
       "      <th>99</th>\n",
       "      <td>10099</td>\n",
       "      <td>@politico @realDonaldTrump another angry white...</td>\n",
       "      <td>[@, politico, @, realDonaldTrump, another, ang...</td>\n",
       "    </tr>\n",
       "    <tr>\n",
       "      <th>3285</th>\n",
       "      <td>40458</td>\n",
       "      <td>@talkRobyn oh dear I have to watch this the wo...</td>\n",
       "      <td>[@, talkRobyn, oh, dear, I, have, to, watch, t...</td>\n",
       "    </tr>\n",
       "    <tr>\n",
       "      <th>1671</th>\n",
       "      <td>20814</td>\n",
       "      <td>@CBSThisMorning @newsgirl123456 again, profili...</td>\n",
       "      <td>[@, CBSThisMorning, @, newsgirl123456, again, ...</td>\n",
       "    </tr>\n",
       "    <tr>\n",
       "      <th>3436</th>\n",
       "      <td>40609</td>\n",
       "      <td>@holly_lolly7 I just have serious respect for ...</td>\n",
       "      <td>[@, holly_lolly7, I, just, have, serious, resp...</td>\n",
       "    </tr>\n",
       "  </tbody>\n",
       "</table>\n",
       "</div>"
      ],
      "text/plain": [
       "         id                                               text  \\\n",
       "1988  21131  #rocklandcounty get to ravis in suffern, ny. G...   \n",
       "99    10099  @politico @realDonaldTrump another angry white...   \n",
       "3285  40458  @talkRobyn oh dear I have to watch this the wo...   \n",
       "1671  20814  @CBSThisMorning @newsgirl123456 again, profili...   \n",
       "3436  40609  @holly_lolly7 I just have serious respect for ...   \n",
       "\n",
       "                                         text_tokenized  \n",
       "1988  [#, rocklandcounty, get, to, ravis, in, suffer...  \n",
       "99    [@, politico, @, realDonaldTrump, another, ang...  \n",
       "3285  [@, talkRobyn, oh, dear, I, have, to, watch, t...  \n",
       "1671  [@, CBSThisMorning, @, newsgirl123456, again, ...  \n",
       "3436  [@, holly_lolly7, I, just, have, serious, resp...  "
      ]
     },
     "execution_count": 50,
     "metadata": {},
     "output_type": "execute_result"
    }
   ],
   "source": [
    "## the input type\n",
    "train_df['text_tokenized'] = train_df['text'].apply(lambda x: nltk.word_tokenize(x))\n",
    "train_df[['id', 'text', 'text_tokenized']].head()"
   ]
  },
  {
   "cell_type": "code",
   "execution_count": 51,
   "metadata": {
    "scrolled": true
   },
   "outputs": [],
   "source": [
    "from gensim.models import Word2Vec\n",
    "\n",
    "## setting\n",
    "vector_dim = 100\n",
    "window_size = 5\n",
    "min_count = 1\n",
    "training_iter = 20\n",
    "\n",
    "## model\n",
    "word2vec_model = Word2Vec(sentences=training_corpus, \n",
    "                          size=vector_dim, window=window_size, \n",
    "                          min_count=min_count, iter=training_iter)"
   ]
  },
  {
   "cell_type": "markdown",
   "metadata": {},
   "source": [
    "![Imgur](https://i.imgur.com/Fca3MCs.png)"
   ]
  },
  {
   "cell_type": "markdown",
   "metadata": {},
   "source": [
    "### 7.3 Generating word vector (embeddings)"
   ]
  },
  {
   "cell_type": "code",
   "execution_count": 52,
   "metadata": {},
   "outputs": [
    {
     "data": {
      "text/plain": [
       "array([-0.12945575,  0.34102523,  0.05314264, -0.01895147, -0.66315037,\n",
       "       -1.2012085 , -0.68977106, -0.37101305,  0.14244452,  0.5146509 ,\n",
       "       -0.6488334 , -0.41834968,  0.40558517, -0.12386137, -0.30264834,\n",
       "        0.43697155,  0.1355449 , -0.27756834, -0.09009611,  0.05499583,\n",
       "        0.33082065,  0.04413837,  0.7037511 , -0.04535904,  0.8448039 ,\n",
       "       -0.43526962,  0.7436727 ,  0.6752571 ,  0.4156413 , -0.15557839,\n",
       "        0.36472663, -0.01095361,  0.24368498,  0.42825687, -0.47535154,\n",
       "       -0.3052805 , -1.0711795 , -0.42085615, -0.39774057, -0.04145809,\n",
       "        0.02732152, -0.5156737 ,  0.16376123, -0.05572414, -0.18151128,\n",
       "        0.40130538,  1.1777216 ,  0.6678315 ,  0.24681343, -0.14549029,\n",
       "       -0.34977686, -0.9607861 ,  0.12801717, -0.31791383,  0.68828523,\n",
       "        0.5511905 , -0.22201711,  0.5519604 ,  0.0813581 , -0.20567173,\n",
       "       -0.3276878 ,  0.3900421 , -0.3050449 ,  0.02924591,  0.72966766,\n",
       "       -0.40878713, -0.06941088, -0.06963024, -0.06197678,  0.803909  ,\n",
       "       -0.23908977, -0.19855218, -0.14186348, -0.9048471 , -0.6908875 ,\n",
       "        0.5180458 , -1.2033427 , -0.38497427,  0.6372289 ,  0.03488502,\n",
       "       -0.7627223 ,  0.01002903,  0.00410279,  0.3675893 ,  0.18125044,\n",
       "        0.9690786 , -0.30485103, -0.5727281 ,  1.3638526 , -0.1937975 ,\n",
       "        0.12357816, -0.14390188, -0.9904163 , -0.31115344,  0.18348789,\n",
       "       -0.08208627, -0.06545768, -0.32824123,  0.02875616, -0.1701318 ],\n",
       "      dtype=float32)"
      ]
     },
     "execution_count": 52,
     "metadata": {},
     "output_type": "execute_result"
    }
   ],
   "source": [
    "# get the corresponding vector of a word\n",
    "word_vec = word2vec_model.wv['happy']\n",
    "word_vec"
   ]
  },
  {
   "cell_type": "code",
   "execution_count": 53,
   "metadata": {},
   "outputs": [
    {
     "data": {
      "text/plain": [
       "[('blessed', 0.9585352540016174),\n",
       " ('O', 0.9542235732078552),\n",
       " ('👌', 0.9430165886878967),\n",
       " ('kinda', 0.9428872466087341),\n",
       " ('cats', 0.9418655633926392),\n",
       " ('bday', 0.9409986138343811),\n",
       " ('Be', 0.940078616142273),\n",
       " (\"'\", 0.9390480518341064),\n",
       " ('🕋', 0.9357462525367737),\n",
       " ('farm365', 0.9334983825683594)]"
      ]
     },
     "execution_count": 53,
     "metadata": {},
     "output_type": "execute_result"
    }
   ],
   "source": [
    "# Get the most similar words\n",
    "word = 'happy'\n",
    "topn = 10\n",
    "word2vec_model.most_similar(word, topn=topn)"
   ]
  },
  {
   "cell_type": "markdown",
   "metadata": {},
   "source": [
    "### 7.4 Using a pre-trained w2v model\n",
    "\n",
    "Instead of training your own model ,you can use a model that has already been trained. Here, we see 2 ways of doing that:\n",
    "\n",
    "\n",
    "#### (1) Download model by yourself\n",
    "\n",
    "source: [GoogleNews-vectors-negative300](https://code.google.com/archive/p/word2vec/)\n",
    "\n",
    "more details: https://radimrehurek.com/gensim/models/keyedvectors.html"
   ]
  },
  {
   "cell_type": "code",
   "execution_count": 55,
   "metadata": {},
   "outputs": [
    {
     "name": "stdout",
     "output_type": "stream",
     "text": [
      "load ok\n"
     ]
    },
    {
     "data": {
      "text/plain": [
       "[('glad', 0.7408890724182129),\n",
       " ('pleased', 0.6632170677185059),\n",
       " ('ecstatic', 0.6626912355422974),\n",
       " ('overjoyed', 0.6599286794662476),\n",
       " ('thrilled', 0.6514049768447876),\n",
       " ('satisfied', 0.6437948942184448),\n",
       " ('proud', 0.636042058467865),\n",
       " ('delighted', 0.6272379159927368),\n",
       " ('disappointed', 0.6269949674606323),\n",
       " ('excited', 0.6247665882110596)]"
      ]
     },
     "execution_count": 55,
     "metadata": {},
     "output_type": "execute_result"
    }
   ],
   "source": [
    "from gensim.models import KeyedVectors\n",
    "\n",
    "## Note: this model is very huge, this will take some time ...\n",
    "model_path = \"GoogleNews/GoogleNews-vectors-negative300.bin.gz\"\n",
    "w2v_google_model = KeyedVectors.load_word2vec_format(model_path, binary=True)\n",
    "print('load ok')\n",
    "\n",
    "w2v_google_model.most_similar('happy', topn=10)"
   ]
  },
  {
   "cell_type": "markdown",
   "metadata": {},
   "source": [
    "#### (2) Using gensim api\n",
    "\n",
    "Other pretrained models are available here: https://github.com/RaRe-Technologies/gensim-data"
   ]
  },
  {
   "cell_type": "code",
   "execution_count": 56,
   "metadata": {},
   "outputs": [
    {
     "name": "stdout",
     "output_type": "stream",
     "text": [
      "[==================================================] 100.0% 104.8/104.8MB downloaded\n",
      "load ok\n"
     ]
    },
    {
     "data": {
      "text/plain": [
       "[('birthday', 0.9577817916870117),\n",
       " ('thank', 0.9376667141914368),\n",
       " ('welcome', 0.93361496925354),\n",
       " ('love', 0.9176183938980103),\n",
       " ('miss', 0.916450023651123),\n",
       " ('hello', 0.9158351421356201),\n",
       " ('thanks', 0.9150084853172302),\n",
       " ('merry', 0.9053248167037964),\n",
       " ('bless', 0.902732253074646),\n",
       " ('wish', 0.9013164639472961)]"
      ]
     },
     "execution_count": 56,
     "metadata": {},
     "output_type": "execute_result"
    }
   ],
   "source": [
    "import gensim.downloader as api\n",
    "\n",
    "## If you see `SSL: CERTIFICATE_VERIFY_FAILED` error, use this:\n",
    "import ssl\n",
    "import urllib.request\n",
    "ssl._create_default_https_context = ssl._create_unverified_context\n",
    "\n",
    "glove_twitter_25_model = api.load(\"glove-twitter-25\")\n",
    "print('load ok')\n",
    "\n",
    "glove_twitter_25_model.most_similar('happy', topn=10)"
   ]
  },
  {
   "cell_type": "markdown",
   "metadata": {},
   "source": [
    "### 7.5 king + woman - man = ?"
   ]
  },
  {
   "cell_type": "markdown",
   "metadata": {},
   "source": [
    "Let's run one of the most famous examples for Word2Vec and compute the similarity between these 3 words:"
   ]
  },
  {
   "cell_type": "code",
   "execution_count": 57,
   "metadata": {},
   "outputs": [
    {
     "data": {
      "text/plain": [
       "[('queen', 0.7118192911148071),\n",
       " ('monarch', 0.6189674139022827),\n",
       " ('princess', 0.5902431607246399),\n",
       " ('crown_prince', 0.5499460697174072),\n",
       " ('prince', 0.5377321243286133),\n",
       " ('kings', 0.5236844420433044),\n",
       " ('Queen_Consort', 0.5235945582389832),\n",
       " ('queens', 0.5181134343147278),\n",
       " ('sultan', 0.5098593235015869),\n",
       " ('monarchy', 0.5087411999702454)]"
      ]
     },
     "execution_count": 57,
     "metadata": {},
     "output_type": "execute_result"
    }
   ],
   "source": [
    "w2v_google_model.most_similar(positive=['king', 'woman'], negative=['man'])"
   ]
  },
  {
   "cell_type": "markdown",
   "metadata": {},
   "source": [
    "---\n",
    "### ** >>> Exercise 7 (Take home): **  \n",
    "\n",
    "Now, we have the word vectors, but our input data is a sequence of words (or say sentence). \n",
    "How can we utilize these \"word\" vectors to represent the sentence data and train our model?\n"
   ]
  },
  {
   "cell_type": "markdown",
   "metadata": {},
   "source": [
    "### Answer here\n",
    "#### We can let the \"word\" counting with a point and train it"
   ]
  },
  {
   "cell_type": "markdown",
   "metadata": {},
   "source": [
    "### 8. Clustering: k-means\n",
    "\n",
    "Here we introduce how to use `sklearn` to do the basic **unsupervised learning** approach, k-means.    \n",
    "\n",
    "more details: http://scikit-learn.org/stable/modules/generated/sklearn.cluster.KMeans.html\n"
   ]
  },
  {
   "cell_type": "markdown",
   "metadata": {},
   "source": [
    "#### Basic concept\n",
    "\n",
    "![Image](https://i.imgur.com/PEdUf54.png)\n",
    "\n",
    "(img source: https://towardsdatascience.com/k-means-clustering-identifying-f-r-i-e-n-d-s-in-the-world-of-strangers-695537505d)"
   ]
  },
  {
   "cell_type": "code",
   "execution_count": 58,
   "metadata": {},
   "outputs": [
    {
     "name": "stdout",
     "output_type": "stream",
     "text": [
      "target words:  ['happy', 'fear', 'angry', 'car', 'teacher', 'computer']\n"
     ]
    }
   ],
   "source": [
    "# clustering target\n",
    "target_list = ['happy', 'fear', 'angry', 'car', 'teacher', 'computer']\n",
    "print('target words: ', target_list)\n",
    "\n",
    "# convert to word vector\n",
    "X = [word2vec_model.wv[word] for word in target_list]"
   ]
  },
  {
   "cell_type": "code",
   "execution_count": 59,
   "metadata": {},
   "outputs": [
    {
     "name": "stdout",
     "output_type": "stream",
     "text": [
      "word: happy \t cluster: 1\n",
      "word: fear \t cluster: 1\n",
      "word: angry \t cluster: 1\n",
      "word: car \t cluster: 0\n",
      "word: teacher \t cluster: 0\n",
      "word: computer \t cluster: 0\n"
     ]
    }
   ],
   "source": [
    "from sklearn.cluster import KMeans\n",
    "\n",
    "# we have to decide how many cluster (k) we want\n",
    "k = 2\n",
    "\n",
    "# k-means model\n",
    "kmeans_model = KMeans(n_clusters=k)\n",
    "kmeans_model.fit(X)\n",
    "\n",
    "# cluster result\n",
    "cluster_result = kmeans_model.labels_\n",
    "\n",
    "# show\n",
    "for i in range(len(target_list)):\n",
    "    print('word: {} \\t cluster: {}'.format(target_list[i], cluster_result[i]))"
   ]
  },
  {
   "cell_type": "markdown",
   "metadata": {},
   "source": [
    "![Imgur](pics/pic6.png)"
   ]
  },
  {
   "cell_type": "code",
   "execution_count": 60,
   "metadata": {},
   "outputs": [
    {
     "data": {
      "text/plain": [
       "array([0])"
      ]
     },
     "execution_count": 60,
     "metadata": {},
     "output_type": "execute_result"
    }
   ],
   "source": [
    "#check cluster membership\n",
    "word = 'student'\n",
    "word_vec = word2vec_model.wv[word]\n",
    "kmeans_model.predict([word_vec])"
   ]
  },
  {
   "cell_type": "code",
   "execution_count": 61,
   "metadata": {},
   "outputs": [
    {
     "data": {
      "text/plain": [
       "array([1])"
      ]
     },
     "execution_count": 61,
     "metadata": {},
     "output_type": "execute_result"
    }
   ],
   "source": [
    "#check cluster membership\n",
    "word = 'sad'\n",
    "word_vec = word2vec_model.wv[word]\n",
    "kmeans_model.predict([word_vec])"
   ]
  },
  {
   "cell_type": "markdown",
   "metadata": {},
   "source": [
    "\n",
    "## 9. High-dimension Visualization: t-SNE\n",
    "\n",
    "No matter if you use the Bag-of-words, tf-idf, or word2vec, it's very hard to see the embedding result, because the dimension is larger than 3.  \n",
    "\n",
    "In Lab 1, we already talked about PCA. We can use PCA to reduce the dimension of our data, then visualize it. However, if you dig deeper into the result, you'd find it is insufficient...\n",
    "\n",
    "Our aim will be to create a visualization similar to the one below:"
   ]
  },
  {
   "cell_type": "markdown",
   "metadata": {},
   "source": [
    "  "
   ]
  },
  {
   "cell_type": "markdown",
   "metadata": {},
   "source": [
    "![Image](pics/pic7.png)\n",
    "source: https://www.fabian-keller.de/research/high-dimensional-data-visualization "
   ]
  },
  {
   "cell_type": "markdown",
   "metadata": {},
   "source": [
    "  "
   ]
  },
  {
   "cell_type": "markdown",
   "metadata": {},
   "source": [
    "Here we would like to introduce another visualization method called t-SNE.  \n",
    "http://scikit-learn.org/stable/modules/generated/sklearn.manifold.TSNE.html "
   ]
  },
  {
   "cell_type": "markdown",
   "metadata": {},
   "source": [
    "### 9.1 Prepare visualizing target"
   ]
  },
  {
   "cell_type": "markdown",
   "metadata": {},
   "source": [
    "Let's repare data lists like:\n",
    "    - happpy words\n",
    "    - angry words\n",
    "    - data words\n",
    "    - mining words"
   ]
  },
  {
   "cell_type": "code",
   "execution_count": 62,
   "metadata": {},
   "outputs": [
    {
     "name": "stdout",
     "output_type": "stream",
     "text": [
      "happy_words:  ['happy', 'glad', 'pleased', 'ecstatic', 'overjoyed', 'thrilled']\n",
      "angry_words:  ['angry', 'irate', 'enraged', 'indignant', 'incensed', 'annoyed']\n",
      "data_words:  ['data', 'Data', 'datasets', 'dataset', 'databases', 'statistics']\n",
      "mining_words:  ['mining', 'Mining', 'mines', 'coal_mining', 'mine', 'miner']\n",
      "\n",
      "target words: \n",
      "['happy', 'glad', 'pleased', 'ecstatic', 'overjoyed', 'thrilled', 'angry', 'irate', 'enraged', 'indignant', 'incensed', 'annoyed', 'data', 'Data', 'datasets', 'dataset', 'databases', 'statistics', 'mining', 'Mining', 'mines', 'coal_mining', 'mine', 'miner']\n",
      "\n",
      "color list:\n",
      "['b', 'b', 'b', 'b', 'b', 'b', 'g', 'g', 'g', 'g', 'g', 'g', 'r', 'r', 'r', 'r', 'r', 'r', 'y', 'y', 'y', 'y', 'y', 'y']\n"
     ]
    }
   ],
   "source": [
    "word_list = ['happy', 'angry', 'data', 'mining']\n",
    "\n",
    "topn = 5\n",
    "happy_words = ['happy'] + [word_ for word_, sim_ in w2v_google_model.most_similar('happy', topn=topn)]\n",
    "angry_words = ['angry'] + [word_ for word_, sim_ in w2v_google_model.most_similar('angry', topn=topn)]        \n",
    "data_words = ['data'] + [word_ for word_, sim_ in w2v_google_model.most_similar('data', topn=topn)]        \n",
    "mining_words = ['mining'] + [word_ for word_, sim_ in w2v_google_model.most_similar('mining', topn=topn)]        \n",
    "\n",
    "print('happy_words: ', happy_words)\n",
    "print('angry_words: ', angry_words)\n",
    "print('data_words: ', data_words)\n",
    "print('mining_words: ', mining_words)\n",
    "\n",
    "target_words = happy_words + angry_words + data_words + mining_words\n",
    "print('\\ntarget words: ')\n",
    "print(target_words)\n",
    "\n",
    "print('\\ncolor list:')\n",
    "cn = topn + 1\n",
    "color = ['b'] * cn + ['g'] * cn + ['r'] * cn + ['y'] * cn\n",
    "print(color)"
   ]
  },
  {
   "cell_type": "markdown",
   "metadata": {},
   "source": [
    "### 9.1 Plot using t-SNE (2-dimension)"
   ]
  },
  {
   "cell_type": "code",
   "execution_count": 63,
   "metadata": {},
   "outputs": [
    {
     "data": {
      "image/png": "[encoded data removed]",
      "text/plain": [
       "<Figure size 862.5x862.5 with 1 Axes>"
      ]
     },
     "metadata": {
      "needs_background": "light"
     },
     "output_type": "display_data"
    }
   ],
   "source": [
    "%matplotlib inline\n",
    "import matplotlib.pyplot as plt\n",
    "from sklearn.manifold import TSNE\n",
    "\n",
    "## w2v model\n",
    "model = w2v_google_model\n",
    "\n",
    "## prepare training word vectors\n",
    "size = 200\n",
    "target_size = len(target_words)\n",
    "all_word = list(model.vocab.keys())\n",
    "word_train = target_words + all_word[:size]\n",
    "X_train = model[word_train]\n",
    "\n",
    "## t-SNE model\n",
    "tsne = TSNE(n_components=2, metric='cosine', random_state=28)\n",
    "\n",
    "## training\n",
    "X_tsne = tsne.fit_transform(X_train)\n",
    "\n",
    "## plot the result\n",
    "plt.figure(figsize=(7.5, 7.5), dpi=115)\n",
    "plt.scatter(X_tsne[:target_size, 0], X_tsne[:target_size, 1], c=color)\n",
    "for label, x, y in zip(target_words, X_tsne[:target_size, 0], X_tsne[:target_size, 1]):\n",
    "    plt.annotate(label, xy=(x,y), xytext=(0,0),  textcoords='offset points')\n",
    "plt.show()"
   ]
  },
  {
   "cell_type": "markdown",
   "metadata": {},
   "source": [
    "---\n",
    "### ** >>> Exercise 8 (Take home): **  \n",
    "\n",
    "Generate a t-SNE visualization to show the 15 words most related to the words \"angry\", \"happy\", \"sad\", \"fear\" (60 words total)."
   ]
  },
  {
   "cell_type": "code",
   "execution_count": 64,
   "metadata": {},
   "outputs": [
    {
     "name": "stdout",
     "output_type": "stream",
     "text": [
      "happy_words:  ['happy', 'glad', 'pleased', 'ecstatic', 'overjoyed', 'thrilled', 'satisfied', 'proud', 'delighted', 'disappointed', 'excited', 'happier', 'Said_Hirschbeck', 'elated', 'thankful', 'unhappy']\n",
      "angry_words:  ['angry', 'irate', 'enraged', 'indignant', 'incensed', 'annoyed', 'agitated', 'frustrated', 'furious', 'unhappy', 'outraged', 'livid', 'irritated', 'exasperated', 'angrier', 'Angry']\n",
      "sad_words:  ['sad', 'saddening', 'Sad', 'saddened', 'heartbreaking', 'disheartening', 'Meny_Friedman', 'parishioner_Pat_Patello', 'saddens_me', 'distressing', 'reminders_bobbing', 'Turkoman_Shiites', 'saddest', 'unfortunate', 'sorry', 'bittersweet']\n",
      "fear_words:  ['fear', 'fearful', 'fears', 'Fear', 'fearing', 'worry', 'dread', 'feared', 'anxiety', 'apprehension', 'afraid', 'worries', 'concern', 'distrust', 'worried', 'Fearful']\n",
      "\n",
      "target words: \n",
      "['happy', 'glad', 'pleased', 'ecstatic', 'overjoyed', 'thrilled', 'satisfied', 'proud', 'delighted', 'disappointed', 'excited', 'happier', 'Said_Hirschbeck', 'elated', 'thankful', 'unhappy', 'angry', 'irate', 'enraged', 'indignant', 'incensed', 'annoyed', 'agitated', 'frustrated', 'furious', 'unhappy', 'outraged', 'livid', 'irritated', 'exasperated', 'angrier', 'Angry', 'sad', 'saddening', 'Sad', 'saddened', 'heartbreaking', 'disheartening', 'Meny_Friedman', 'parishioner_Pat_Patello', 'saddens_me', 'distressing', 'reminders_bobbing', 'Turkoman_Shiites', 'saddest', 'unfortunate', 'sorry', 'bittersweet', 'fear', 'fearful', 'fears', 'Fear', 'fearing', 'worry', 'dread', 'feared', 'anxiety', 'apprehension', 'afraid', 'worries', 'concern', 'distrust', 'worried', 'Fearful']\n",
      "\n",
      "color list:\n",
      "['b', 'b', 'b', 'b', 'b', 'b', 'b', 'b', 'b', 'b', 'b', 'b', 'b', 'b', 'b', 'b', 'g', 'g', 'g', 'g', 'g', 'g', 'g', 'g', 'g', 'g', 'g', 'g', 'g', 'g', 'g', 'g', 'r', 'r', 'r', 'r', 'r', 'r', 'r', 'r', 'r', 'r', 'r', 'r', 'r', 'r', 'r', 'r', 'y', 'y', 'y', 'y', 'y', 'y', 'y', 'y', 'y', 'y', 'y', 'y', 'y', 'y', 'y', 'y']\n"
     ]
    }
   ],
   "source": [
    "# Answer here\n",
    "word_list = ['happy', 'angry', 'data', 'mining']\n",
    "\n",
    "topn = 15\n",
    "happy_words = ['happy'] + [word_ for word_, sim_ in w2v_google_model.most_similar('happy', topn=topn)]\n",
    "angry_words = ['angry'] + [word_ for word_, sim_ in w2v_google_model.most_similar('angry', topn=topn)]        \n",
    "sad_words = ['sad'] + [word_ for word_, sim_ in w2v_google_model.most_similar('sad', topn=topn)]        \n",
    "fear_words = ['fear'] + [word_ for word_, sim_ in w2v_google_model.most_similar('fear', topn=topn)]        \n",
    "\n",
    "print('happy_words: ', happy_words)\n",
    "print('angry_words: ', angry_words)\n",
    "print('sad_words: ', sad_words)\n",
    "print('fear_words: ', fear_words)\n",
    "\n",
    "target_words = happy_words + angry_words + sad_words + fear_words\n",
    "print('\\ntarget words: ')\n",
    "print(target_words)\n",
    "\n",
    "print('\\ncolor list:')\n",
    "cn = topn + 1\n",
    "color = ['b'] * cn + ['g'] * cn + ['r'] * cn + ['y'] * cn\n",
    "print(color)"
   ]
  },
  {
   "cell_type": "code",
   "execution_count": 65,
   "metadata": {},
   "outputs": [
    {
     "data": {
      "image/png": "[encoded data removed]",
      "text/plain": [
       "<Figure size 862.5x862.5 with 1 Axes>"
      ]
     },
     "metadata": {
      "needs_background": "light"
     },
     "output_type": "display_data"
    }
   ],
   "source": [
    "%matplotlib inline\n",
    "import matplotlib.pyplot as plt\n",
    "from sklearn.manifold import TSNE\n",
    "\n",
    "## w2v model\n",
    "model = w2v_google_model\n",
    "\n",
    "## prepare training word vectors\n",
    "size = 200\n",
    "target_size = len(target_words)\n",
    "all_word = list(model.vocab.keys())\n",
    "word_train = target_words + all_word[:size]\n",
    "X_train = model[word_train]\n",
    "\n",
    "## t-SNE model\n",
    "tsne = TSNE(n_components=2, metric='cosine', random_state=28)\n",
    "\n",
    "## training\n",
    "X_tsne = tsne.fit_transform(X_train)\n",
    "\n",
    "## plot the result\n",
    "plt.figure(figsize=(7.5, 7.5), dpi=115)\n",
    "plt.scatter(X_tsne[:target_size, 0], X_tsne[:target_size, 1], c=color)\n",
    "for label, x, y in zip(target_words, X_tsne[:target_size, 0], X_tsne[:target_size, 1]):\n",
    "    plt.annotate(label, xy=(x,y), xytext=(0,0),  textcoords='offset points')\n",
    "plt.show()"
   ]
  },
  {
   "cell_type": "markdown",
   "metadata": {},
   "source": [
    "## Kaggle competition"
   ]
  },
  {
   "attachments": {
    "%E5%9C%96%E7%89%87.png": {
     "image/png": "[encoded data removed]"
    }
   },
   "cell_type": "markdown",
   "metadata": {},
   "source": [
    "![%E5%9C%96%E7%89%87.png](attachment:%E5%9C%96%E7%89%87.png)"
   ]
  },
  {
   "cell_type": "markdown",
   "metadata": {},
   "source": [
    "---"
   ]
  }
 ],
 "metadata": {
  "kernelspec": {
   "display_name": "Python 3",
   "language": "python",
   "name": "python3"
  },
  "language_info": {
   "codemirror_mode": {
    "name": "ipython",
    "version": 3
   },
   "file_extension": ".py",
   "mimetype": "text/x-python",
   "name": "python",
   "nbconvert_exporter": "python",
   "pygments_lexer": "ipython3",
   "version": "3.7.9"
  },
  "varInspector": {
   "cols": {
    "lenName": 16,
    "lenType": 16,
    "lenVar": 40
   },
   "kernels_config": {
    "python": {
     "delete_cmd_postfix": "",
     "delete_cmd_prefix": "del ",
     "library": "var_list.py",
     "varRefreshCmd": "print(var_dic_list())"
    },
    "r": {
     "delete_cmd_postfix": ") ",
     "delete_cmd_prefix": "rm(",
     "library": "var_list.r",
     "varRefreshCmd": "cat(var_dic_list()) "
    }
   },
   "oldHeight": 594.85,
   "position": {
    "height": "40px",
    "left": "723px",
    "right": "20px",
    "top": "80px",
    "width": "250px"
   },
   "types_to_exclude": [
    "module",
    "function",
    "builtin_function_or_method",
    "instance",
    "_Feature"
   ],
   "varInspector_section_display": "none",
   "window_display": true
  }
 },
 "nbformat": 4,
 "nbformat_minor": 2
}
